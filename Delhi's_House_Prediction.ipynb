{
 "cells": [
  {
   "cell_type": "markdown",
   "metadata": {
    "id": "VpLe7YQJgwLB"
   },
   "source": [
    "#Importing Libraries and Loading Files"
   ]
  },
  {
   "cell_type": "code",
   "execution_count": 1,
   "metadata": {
    "id": "x-u1FhoChV4Z"
   },
   "outputs": [],
   "source": [
    "import pandas as pd\n",
    "import numpy as np\n",
    "import seaborn as sns\n",
    "import matplotlib.pyplot as plt"
   ]
  },
  {
   "cell_type": "code",
   "execution_count": 2,
   "metadata": {
    "id": "miXvQs0JiYhh"
   },
   "outputs": [],
   "source": [
    "df=pd.read_csv(\"MagicBricks.csv\")"
   ]
  },
  {
   "cell_type": "code",
   "execution_count": 3,
   "metadata": {
    "colab": {
     "base_uri": "https://localhost:8080/",
     "height": 0
    },
    "id": "V7zw9qf4icuh",
    "outputId": "648272ad-2090-49d5-e48c-68e0d9be9c33"
   },
   "outputs": [
    {
     "data": {
      "text/html": [
       "<div>\n",
       "<style scoped>\n",
       "    .dataframe tbody tr th:only-of-type {\n",
       "        vertical-align: middle;\n",
       "    }\n",
       "\n",
       "    .dataframe tbody tr th {\n",
       "        vertical-align: top;\n",
       "    }\n",
       "\n",
       "    .dataframe thead th {\n",
       "        text-align: right;\n",
       "    }\n",
       "</style>\n",
       "<table border=\"1\" class=\"dataframe\">\n",
       "  <thead>\n",
       "    <tr style=\"text-align: right;\">\n",
       "      <th></th>\n",
       "      <th>Area</th>\n",
       "      <th>BHK</th>\n",
       "      <th>Bathroom</th>\n",
       "      <th>Furnishing</th>\n",
       "      <th>Locality</th>\n",
       "      <th>Parking</th>\n",
       "      <th>Price</th>\n",
       "      <th>Status</th>\n",
       "      <th>Transaction</th>\n",
       "      <th>Type</th>\n",
       "      <th>Per_Sqft</th>\n",
       "    </tr>\n",
       "  </thead>\n",
       "  <tbody>\n",
       "    <tr>\n",
       "      <th>0</th>\n",
       "      <td>800.0</td>\n",
       "      <td>3</td>\n",
       "      <td>2.0</td>\n",
       "      <td>Semi-Furnished</td>\n",
       "      <td>Rohini Sector 25</td>\n",
       "      <td>1.0</td>\n",
       "      <td>6500000</td>\n",
       "      <td>Ready_to_move</td>\n",
       "      <td>New_Property</td>\n",
       "      <td>Builder_Floor</td>\n",
       "      <td>NaN</td>\n",
       "    </tr>\n",
       "    <tr>\n",
       "      <th>1</th>\n",
       "      <td>750.0</td>\n",
       "      <td>2</td>\n",
       "      <td>2.0</td>\n",
       "      <td>Semi-Furnished</td>\n",
       "      <td>J R Designers Floors, Rohini Sector 24</td>\n",
       "      <td>1.0</td>\n",
       "      <td>5000000</td>\n",
       "      <td>Ready_to_move</td>\n",
       "      <td>New_Property</td>\n",
       "      <td>Apartment</td>\n",
       "      <td>6667.0</td>\n",
       "    </tr>\n",
       "    <tr>\n",
       "      <th>2</th>\n",
       "      <td>950.0</td>\n",
       "      <td>2</td>\n",
       "      <td>2.0</td>\n",
       "      <td>Furnished</td>\n",
       "      <td>Citizen Apartment, Rohini Sector 13</td>\n",
       "      <td>1.0</td>\n",
       "      <td>15500000</td>\n",
       "      <td>Ready_to_move</td>\n",
       "      <td>Resale</td>\n",
       "      <td>Apartment</td>\n",
       "      <td>6667.0</td>\n",
       "    </tr>\n",
       "    <tr>\n",
       "      <th>3</th>\n",
       "      <td>600.0</td>\n",
       "      <td>2</td>\n",
       "      <td>2.0</td>\n",
       "      <td>Semi-Furnished</td>\n",
       "      <td>Rohini Sector 24</td>\n",
       "      <td>1.0</td>\n",
       "      <td>4200000</td>\n",
       "      <td>Ready_to_move</td>\n",
       "      <td>Resale</td>\n",
       "      <td>Builder_Floor</td>\n",
       "      <td>6667.0</td>\n",
       "    </tr>\n",
       "    <tr>\n",
       "      <th>4</th>\n",
       "      <td>650.0</td>\n",
       "      <td>2</td>\n",
       "      <td>2.0</td>\n",
       "      <td>Semi-Furnished</td>\n",
       "      <td>Rohini Sector 24 carpet area 650 sqft status R...</td>\n",
       "      <td>1.0</td>\n",
       "      <td>6200000</td>\n",
       "      <td>Ready_to_move</td>\n",
       "      <td>New_Property</td>\n",
       "      <td>Builder_Floor</td>\n",
       "      <td>6667.0</td>\n",
       "    </tr>\n",
       "  </tbody>\n",
       "</table>\n",
       "</div>"
      ],
      "text/plain": [
       "    Area  BHK  Bathroom      Furnishing  \\\n",
       "0  800.0    3       2.0  Semi-Furnished   \n",
       "1  750.0    2       2.0  Semi-Furnished   \n",
       "2  950.0    2       2.0       Furnished   \n",
       "3  600.0    2       2.0  Semi-Furnished   \n",
       "4  650.0    2       2.0  Semi-Furnished   \n",
       "\n",
       "                                            Locality  Parking     Price  \\\n",
       "0                                   Rohini Sector 25      1.0   6500000   \n",
       "1             J R Designers Floors, Rohini Sector 24      1.0   5000000   \n",
       "2                Citizen Apartment, Rohini Sector 13      1.0  15500000   \n",
       "3                                   Rohini Sector 24      1.0   4200000   \n",
       "4  Rohini Sector 24 carpet area 650 sqft status R...      1.0   6200000   \n",
       "\n",
       "          Status   Transaction           Type  Per_Sqft  \n",
       "0  Ready_to_move  New_Property  Builder_Floor       NaN  \n",
       "1  Ready_to_move  New_Property      Apartment    6667.0  \n",
       "2  Ready_to_move        Resale      Apartment    6667.0  \n",
       "3  Ready_to_move        Resale  Builder_Floor    6667.0  \n",
       "4  Ready_to_move  New_Property  Builder_Floor    6667.0  "
      ]
     },
     "execution_count": 3,
     "metadata": {},
     "output_type": "execute_result"
    }
   ],
   "source": [
    "df.head()"
   ]
  },
  {
   "cell_type": "code",
   "execution_count": 4,
   "metadata": {
    "colab": {
     "base_uri": "https://localhost:8080/"
    },
    "id": "cwfjr735izMh",
    "outputId": "e980f2bb-91db-4694-b417-3b3a7ad29381"
   },
   "outputs": [
    {
     "name": "stdout",
     "output_type": "stream",
     "text": [
      "<class 'pandas.core.frame.DataFrame'>\n",
      "RangeIndex: 1259 entries, 0 to 1258\n",
      "Data columns (total 11 columns):\n",
      " #   Column       Non-Null Count  Dtype  \n",
      "---  ------       --------------  -----  \n",
      " 0   Area         1259 non-null   float64\n",
      " 1   BHK          1259 non-null   int64  \n",
      " 2   Bathroom     1257 non-null   float64\n",
      " 3   Furnishing   1254 non-null   object \n",
      " 4   Locality     1259 non-null   object \n",
      " 5   Parking      1226 non-null   float64\n",
      " 6   Price        1259 non-null   int64  \n",
      " 7   Status       1259 non-null   object \n",
      " 8   Transaction  1259 non-null   object \n",
      " 9   Type         1254 non-null   object \n",
      " 10  Per_Sqft     1018 non-null   float64\n",
      "dtypes: float64(4), int64(2), object(5)\n",
      "memory usage: 108.3+ KB\n"
     ]
    }
   ],
   "source": [
    "df.info()"
   ]
  },
  {
   "cell_type": "code",
   "execution_count": 5,
   "metadata": {
    "colab": {
     "base_uri": "https://localhost:8080/",
     "height": 0
    },
    "id": "EXNgriMBjUOb",
    "outputId": "ecbd3f75-0fc9-4033-f7ac-12e1bddcbf07"
   },
   "outputs": [
    {
     "data": {
      "text/html": [
       "<div>\n",
       "<style scoped>\n",
       "    .dataframe tbody tr th:only-of-type {\n",
       "        vertical-align: middle;\n",
       "    }\n",
       "\n",
       "    .dataframe tbody tr th {\n",
       "        vertical-align: top;\n",
       "    }\n",
       "\n",
       "    .dataframe thead th {\n",
       "        text-align: right;\n",
       "    }\n",
       "</style>\n",
       "<table border=\"1\" class=\"dataframe\">\n",
       "  <thead>\n",
       "    <tr style=\"text-align: right;\">\n",
       "      <th></th>\n",
       "      <th>Area</th>\n",
       "      <th>BHK</th>\n",
       "      <th>Bathroom</th>\n",
       "      <th>Parking</th>\n",
       "      <th>Price</th>\n",
       "      <th>Per_Sqft</th>\n",
       "    </tr>\n",
       "  </thead>\n",
       "  <tbody>\n",
       "    <tr>\n",
       "      <th>count</th>\n",
       "      <td>1259.000000</td>\n",
       "      <td>1259.000000</td>\n",
       "      <td>1257.000000</td>\n",
       "      <td>1226.000000</td>\n",
       "      <td>1.259000e+03</td>\n",
       "      <td>1018.000000</td>\n",
       "    </tr>\n",
       "    <tr>\n",
       "      <th>mean</th>\n",
       "      <td>1466.452724</td>\n",
       "      <td>2.796664</td>\n",
       "      <td>2.556086</td>\n",
       "      <td>1.935563</td>\n",
       "      <td>2.130670e+07</td>\n",
       "      <td>15690.136542</td>\n",
       "    </tr>\n",
       "    <tr>\n",
       "      <th>std</th>\n",
       "      <td>1568.055040</td>\n",
       "      <td>0.954425</td>\n",
       "      <td>1.042220</td>\n",
       "      <td>6.279212</td>\n",
       "      <td>2.560115e+07</td>\n",
       "      <td>21134.738568</td>\n",
       "    </tr>\n",
       "    <tr>\n",
       "      <th>min</th>\n",
       "      <td>28.000000</td>\n",
       "      <td>1.000000</td>\n",
       "      <td>1.000000</td>\n",
       "      <td>1.000000</td>\n",
       "      <td>1.000000e+06</td>\n",
       "      <td>1259.000000</td>\n",
       "    </tr>\n",
       "    <tr>\n",
       "      <th>25%</th>\n",
       "      <td>800.000000</td>\n",
       "      <td>2.000000</td>\n",
       "      <td>2.000000</td>\n",
       "      <td>1.000000</td>\n",
       "      <td>5.700000e+06</td>\n",
       "      <td>6364.000000</td>\n",
       "    </tr>\n",
       "    <tr>\n",
       "      <th>50%</th>\n",
       "      <td>1200.000000</td>\n",
       "      <td>3.000000</td>\n",
       "      <td>2.000000</td>\n",
       "      <td>1.000000</td>\n",
       "      <td>1.420000e+07</td>\n",
       "      <td>11291.500000</td>\n",
       "    </tr>\n",
       "    <tr>\n",
       "      <th>75%</th>\n",
       "      <td>1700.000000</td>\n",
       "      <td>3.000000</td>\n",
       "      <td>3.000000</td>\n",
       "      <td>2.000000</td>\n",
       "      <td>2.550000e+07</td>\n",
       "      <td>18000.000000</td>\n",
       "    </tr>\n",
       "    <tr>\n",
       "      <th>max</th>\n",
       "      <td>24300.000000</td>\n",
       "      <td>10.000000</td>\n",
       "      <td>7.000000</td>\n",
       "      <td>114.000000</td>\n",
       "      <td>2.400000e+08</td>\n",
       "      <td>183333.000000</td>\n",
       "    </tr>\n",
       "  </tbody>\n",
       "</table>\n",
       "</div>"
      ],
      "text/plain": [
       "               Area          BHK     Bathroom      Parking         Price  \\\n",
       "count   1259.000000  1259.000000  1257.000000  1226.000000  1.259000e+03   \n",
       "mean    1466.452724     2.796664     2.556086     1.935563  2.130670e+07   \n",
       "std     1568.055040     0.954425     1.042220     6.279212  2.560115e+07   \n",
       "min       28.000000     1.000000     1.000000     1.000000  1.000000e+06   \n",
       "25%      800.000000     2.000000     2.000000     1.000000  5.700000e+06   \n",
       "50%     1200.000000     3.000000     2.000000     1.000000  1.420000e+07   \n",
       "75%     1700.000000     3.000000     3.000000     2.000000  2.550000e+07   \n",
       "max    24300.000000    10.000000     7.000000   114.000000  2.400000e+08   \n",
       "\n",
       "            Per_Sqft  \n",
       "count    1018.000000  \n",
       "mean    15690.136542  \n",
       "std     21134.738568  \n",
       "min      1259.000000  \n",
       "25%      6364.000000  \n",
       "50%     11291.500000  \n",
       "75%     18000.000000  \n",
       "max    183333.000000  "
      ]
     },
     "execution_count": 5,
     "metadata": {},
     "output_type": "execute_result"
    }
   ],
   "source": [
    "df.describe()"
   ]
  },
  {
   "cell_type": "code",
   "execution_count": 6,
   "metadata": {
    "colab": {
     "base_uri": "https://localhost:8080/"
    },
    "id": "zMHjYxVJjd4Q",
    "outputId": "0284f162-8f1a-4d55-9f61-92050230110d"
   },
   "outputs": [
    {
     "data": {
      "text/plain": [
       "(1259, 11)"
      ]
     },
     "execution_count": 6,
     "metadata": {},
     "output_type": "execute_result"
    }
   ],
   "source": [
    "df.shape"
   ]
  },
  {
   "cell_type": "markdown",
   "metadata": {
    "id": "NYqUzDktj7cx"
   },
   "source": [
    "# Handling Missing Values"
   ]
  },
  {
   "cell_type": "code",
   "execution_count": 7,
   "metadata": {
    "colab": {
     "base_uri": "https://localhost:8080/"
    },
    "id": "hay6UCiljkdF",
    "outputId": "46704376-4504-4236-81b2-8119778e268b"
   },
   "outputs": [
    {
     "data": {
      "text/plain": [
       "Area             0\n",
       "BHK              0\n",
       "Bathroom         2\n",
       "Furnishing       5\n",
       "Locality         0\n",
       "Parking         33\n",
       "Price            0\n",
       "Status           0\n",
       "Transaction      0\n",
       "Type             5\n",
       "Per_Sqft       241\n",
       "dtype: int64"
      ]
     },
     "execution_count": 7,
     "metadata": {},
     "output_type": "execute_result"
    }
   ],
   "source": [
    "df.isnull().sum()"
   ]
  },
  {
   "cell_type": "code",
   "execution_count": 8,
   "metadata": {
    "colab": {
     "base_uri": "https://localhost:8080/",
     "height": 0
    },
    "id": "QKiKgM1jkniO",
    "outputId": "872e7838-ae4e-4db1-ad16-f98979729974"
   },
   "outputs": [
    {
     "data": {
      "image/png": "[encoded data removed]",
      "text/plain": [
       "<Figure size 432x288 with 1 Axes>"
      ]
     },
     "metadata": {
      "needs_background": "light"
     },
     "output_type": "display_data"
    }
   ],
   "source": [
    "sns.heatmap(df.isnull(),cbar=False,yticklabels=False)\n",
    "plt.title('Missing value in the dataset');"
   ]
  },
  {
   "cell_type": "code",
   "execution_count": 9,
   "metadata": {
    "id": "Tmy8koZ3nC1T"
   },
   "outputs": [],
   "source": [
    "percent_missing = df.isnull().sum() * 100 / len(df)\n",
    "missing_value_df = pd.DataFrame({'column_name': df.columns,\n",
    "                                 'percent_missing': percent_missing})"
   ]
  },
  {
   "cell_type": "code",
   "execution_count": 10,
   "metadata": {
    "colab": {
     "base_uri": "https://localhost:8080/",
     "height": 0
    },
    "id": "aFdiBesEnFiJ",
    "outputId": "1d0f07cc-9dfa-442e-eacb-67439a72dc20"
   },
   "outputs": [
    {
     "data": {
      "text/html": [
       "<div>\n",
       "<style scoped>\n",
       "    .dataframe tbody tr th:only-of-type {\n",
       "        vertical-align: middle;\n",
       "    }\n",
       "\n",
       "    .dataframe tbody tr th {\n",
       "        vertical-align: top;\n",
       "    }\n",
       "\n",
       "    .dataframe thead th {\n",
       "        text-align: right;\n",
       "    }\n",
       "</style>\n",
       "<table border=\"1\" class=\"dataframe\">\n",
       "  <thead>\n",
       "    <tr style=\"text-align: right;\">\n",
       "      <th></th>\n",
       "      <th>column_name</th>\n",
       "      <th>percent_missing</th>\n",
       "    </tr>\n",
       "  </thead>\n",
       "  <tbody>\n",
       "    <tr>\n",
       "      <th>Per_Sqft</th>\n",
       "      <td>Per_Sqft</td>\n",
       "      <td>19.142176</td>\n",
       "    </tr>\n",
       "    <tr>\n",
       "      <th>Parking</th>\n",
       "      <td>Parking</td>\n",
       "      <td>2.621128</td>\n",
       "    </tr>\n",
       "    <tr>\n",
       "      <th>Furnishing</th>\n",
       "      <td>Furnishing</td>\n",
       "      <td>0.397141</td>\n",
       "    </tr>\n",
       "    <tr>\n",
       "      <th>Type</th>\n",
       "      <td>Type</td>\n",
       "      <td>0.397141</td>\n",
       "    </tr>\n",
       "    <tr>\n",
       "      <th>Bathroom</th>\n",
       "      <td>Bathroom</td>\n",
       "      <td>0.158856</td>\n",
       "    </tr>\n",
       "    <tr>\n",
       "      <th>Area</th>\n",
       "      <td>Area</td>\n",
       "      <td>0.000000</td>\n",
       "    </tr>\n",
       "    <tr>\n",
       "      <th>BHK</th>\n",
       "      <td>BHK</td>\n",
       "      <td>0.000000</td>\n",
       "    </tr>\n",
       "    <tr>\n",
       "      <th>Locality</th>\n",
       "      <td>Locality</td>\n",
       "      <td>0.000000</td>\n",
       "    </tr>\n",
       "    <tr>\n",
       "      <th>Price</th>\n",
       "      <td>Price</td>\n",
       "      <td>0.000000</td>\n",
       "    </tr>\n",
       "    <tr>\n",
       "      <th>Status</th>\n",
       "      <td>Status</td>\n",
       "      <td>0.000000</td>\n",
       "    </tr>\n",
       "    <tr>\n",
       "      <th>Transaction</th>\n",
       "      <td>Transaction</td>\n",
       "      <td>0.000000</td>\n",
       "    </tr>\n",
       "  </tbody>\n",
       "</table>\n",
       "</div>"
      ],
      "text/plain": [
       "             column_name  percent_missing\n",
       "Per_Sqft        Per_Sqft        19.142176\n",
       "Parking          Parking         2.621128\n",
       "Furnishing    Furnishing         0.397141\n",
       "Type                Type         0.397141\n",
       "Bathroom        Bathroom         0.158856\n",
       "Area                Area         0.000000\n",
       "BHK                  BHK         0.000000\n",
       "Locality        Locality         0.000000\n",
       "Price              Price         0.000000\n",
       "Status            Status         0.000000\n",
       "Transaction  Transaction         0.000000"
      ]
     },
     "execution_count": 10,
     "metadata": {},
     "output_type": "execute_result"
    }
   ],
   "source": [
    "missing_value_df.sort_values(by=\"percent_missing\", ascending=False)"
   ]
  },
  {
   "cell_type": "markdown",
   "metadata": {
    "id": "etCuQGRFl7Dp"
   },
   "source": [
    "**Observation -**\n",
    "As we have very small dataset, So we can't delete the NAN values and we have 19% null values in Per_sqft , 2 % in Parking , approx 4 % in Furninshing and Type and 1.5 % in Bathroom.\n",
    "We Will try not to drop columns , Let's see what can we do.\n",
    "\n",
    "Let's Start with Per_Sqft"
   ]
  },
  {
   "cell_type": "code",
   "execution_count": 11,
   "metadata": {
    "colab": {
     "base_uri": "https://localhost:8080/"
    },
    "id": "7dnvj3U_qDAT",
    "outputId": "37b5abc1-5649-4ea7-ea9b-f2309e7e0b47"
   },
   "outputs": [
    {
     "data": {
      "text/plain": [
       "Lajpat Nagar 3                                      34\n",
       "Lajpat Nagar 2                                      33\n",
       "J R Designers Floors, Rohini Sector 24              31\n",
       "Kailash Colony, Greater Kailash                     30\n",
       "Yamuna Vihar, Shahdara                              29\n",
       "                                                    ..\n",
       "Sarve Satyam Apartment, Aashirwaad Chowk, Dwarka     1\n",
       "Jyoti Nagar West, Shahdara                           1\n",
       "Rohini Sector 14                                     1\n",
       "Rohini Sector 19                                     1\n",
       "DDA Flats Vasant Kunj, Vasant Kunj Sector B          1\n",
       "Name: Locality, Length: 365, dtype: int64"
      ]
     },
     "execution_count": 11,
     "metadata": {},
     "output_type": "execute_result"
    }
   ],
   "source": [
    "df.Locality.value_counts()"
   ]
  },
  {
   "cell_type": "code",
   "execution_count": 12,
   "metadata": {
    "colab": {
     "base_uri": "https://localhost:8080/",
     "height": 0
    },
    "id": "vi9n4RUGqC-F",
    "outputId": "78669555-cf96-409c-e46e-6b6912e1f5c5"
   },
   "outputs": [
    {
     "data": {
      "text/html": [
       "<div>\n",
       "<style scoped>\n",
       "    .dataframe tbody tr th:only-of-type {\n",
       "        vertical-align: middle;\n",
       "    }\n",
       "\n",
       "    .dataframe tbody tr th {\n",
       "        vertical-align: top;\n",
       "    }\n",
       "\n",
       "    .dataframe thead th {\n",
       "        text-align: right;\n",
       "    }\n",
       "</style>\n",
       "<table border=\"1\" class=\"dataframe\">\n",
       "  <thead>\n",
       "    <tr style=\"text-align: right;\">\n",
       "      <th></th>\n",
       "      <th>Area</th>\n",
       "      <th>BHK</th>\n",
       "      <th>Bathroom</th>\n",
       "      <th>Furnishing</th>\n",
       "      <th>Locality</th>\n",
       "      <th>Parking</th>\n",
       "      <th>Price</th>\n",
       "      <th>Status</th>\n",
       "      <th>Transaction</th>\n",
       "      <th>Type</th>\n",
       "      <th>Per_Sqft</th>\n",
       "    </tr>\n",
       "  </thead>\n",
       "  <tbody>\n",
       "    <tr>\n",
       "      <th>721</th>\n",
       "      <td>1200.0</td>\n",
       "      <td>10</td>\n",
       "      <td>4.0</td>\n",
       "      <td>Semi-Furnished</td>\n",
       "      <td>DDA Flats Sarita Vihar, Sarita Vihar, Mathura ...</td>\n",
       "      <td>2.0</td>\n",
       "      <td>17000000</td>\n",
       "      <td>Ready_to_move</td>\n",
       "      <td>Resale</td>\n",
       "      <td>Apartment</td>\n",
       "      <td>NaN</td>\n",
       "    </tr>\n",
       "    <tr>\n",
       "      <th>723</th>\n",
       "      <td>1250.0</td>\n",
       "      <td>3</td>\n",
       "      <td>2.0</td>\n",
       "      <td>Semi-Furnished</td>\n",
       "      <td>DDA Flats Sarita Vihar, Sarita Vihar, Mathura ...</td>\n",
       "      <td>2.0</td>\n",
       "      <td>16000000</td>\n",
       "      <td>Ready_to_move</td>\n",
       "      <td>Resale</td>\n",
       "      <td>Apartment</td>\n",
       "      <td>NaN</td>\n",
       "    </tr>\n",
       "    <tr>\n",
       "      <th>724</th>\n",
       "      <td>950.0</td>\n",
       "      <td>2</td>\n",
       "      <td>2.0</td>\n",
       "      <td>Furnished</td>\n",
       "      <td>DDA Flats Sarita Vihar, Sarita Vihar, Mathura ...</td>\n",
       "      <td>2.0</td>\n",
       "      <td>12900000</td>\n",
       "      <td>Ready_to_move</td>\n",
       "      <td>Resale</td>\n",
       "      <td>Apartment</td>\n",
       "      <td>NaN</td>\n",
       "    </tr>\n",
       "    <tr>\n",
       "      <th>725</th>\n",
       "      <td>1200.0</td>\n",
       "      <td>3</td>\n",
       "      <td>3.0</td>\n",
       "      <td>Furnished</td>\n",
       "      <td>DDA Flats Sarita Vihar, Sarita Vihar, Mathura ...</td>\n",
       "      <td>2.0</td>\n",
       "      <td>13500000</td>\n",
       "      <td>Ready_to_move</td>\n",
       "      <td>Resale</td>\n",
       "      <td>Apartment</td>\n",
       "      <td>NaN</td>\n",
       "    </tr>\n",
       "    <tr>\n",
       "      <th>726</th>\n",
       "      <td>1400.0</td>\n",
       "      <td>4</td>\n",
       "      <td>2.0</td>\n",
       "      <td>Furnished</td>\n",
       "      <td>DDA Flats Sarita Vihar, Sarita Vihar, Mathura ...</td>\n",
       "      <td>2.0</td>\n",
       "      <td>17800000</td>\n",
       "      <td>Ready_to_move</td>\n",
       "      <td>Resale</td>\n",
       "      <td>Apartment</td>\n",
       "      <td>NaN</td>\n",
       "    </tr>\n",
       "  </tbody>\n",
       "</table>\n",
       "</div>"
      ],
      "text/plain": [
       "       Area  BHK  Bathroom      Furnishing  \\\n",
       "721  1200.0   10       4.0  Semi-Furnished   \n",
       "723  1250.0    3       2.0  Semi-Furnished   \n",
       "724   950.0    2       2.0       Furnished   \n",
       "725  1200.0    3       3.0       Furnished   \n",
       "726  1400.0    4       2.0       Furnished   \n",
       "\n",
       "                                              Locality  Parking     Price  \\\n",
       "721  DDA Flats Sarita Vihar, Sarita Vihar, Mathura ...      2.0  17000000   \n",
       "723  DDA Flats Sarita Vihar, Sarita Vihar, Mathura ...      2.0  16000000   \n",
       "724  DDA Flats Sarita Vihar, Sarita Vihar, Mathura ...      2.0  12900000   \n",
       "725  DDA Flats Sarita Vihar, Sarita Vihar, Mathura ...      2.0  13500000   \n",
       "726  DDA Flats Sarita Vihar, Sarita Vihar, Mathura ...      2.0  17800000   \n",
       "\n",
       "            Status Transaction       Type  Per_Sqft  \n",
       "721  Ready_to_move      Resale  Apartment       NaN  \n",
       "723  Ready_to_move      Resale  Apartment       NaN  \n",
       "724  Ready_to_move      Resale  Apartment       NaN  \n",
       "725  Ready_to_move      Resale  Apartment       NaN  \n",
       "726  Ready_to_move      Resale  Apartment       NaN  "
      ]
     },
     "execution_count": 12,
     "metadata": {},
     "output_type": "execute_result"
    }
   ],
   "source": [
    "df[(df['Locality']==\"DDA Flats Sarita Vihar, Sarita Vihar, Mathura Road\")].head()"
   ]
  },
  {
   "cell_type": "code",
   "execution_count": 13,
   "metadata": {
    "colab": {
     "base_uri": "https://localhost:8080/",
     "height": 0
    },
    "id": "9SmkpXhsqC5N",
    "outputId": "cf0339ab-65bb-4b12-bb82-66fbd1f5b7a4"
   },
   "outputs": [
    {
     "data": {
      "text/html": [
       "<div>\n",
       "<style scoped>\n",
       "    .dataframe tbody tr th:only-of-type {\n",
       "        vertical-align: middle;\n",
       "    }\n",
       "\n",
       "    .dataframe tbody tr th {\n",
       "        vertical-align: top;\n",
       "    }\n",
       "\n",
       "    .dataframe thead th {\n",
       "        text-align: right;\n",
       "    }\n",
       "</style>\n",
       "<table border=\"1\" class=\"dataframe\">\n",
       "  <thead>\n",
       "    <tr style=\"text-align: right;\">\n",
       "      <th></th>\n",
       "      <th>Area</th>\n",
       "      <th>BHK</th>\n",
       "      <th>Bathroom</th>\n",
       "      <th>Furnishing</th>\n",
       "      <th>Locality</th>\n",
       "      <th>Parking</th>\n",
       "      <th>Price</th>\n",
       "      <th>Status</th>\n",
       "      <th>Transaction</th>\n",
       "      <th>Type</th>\n",
       "      <th>Per_Sqft</th>\n",
       "    </tr>\n",
       "  </thead>\n",
       "  <tbody>\n",
       "    <tr>\n",
       "      <th>35</th>\n",
       "      <td>1450.0</td>\n",
       "      <td>3</td>\n",
       "      <td>3.0</td>\n",
       "      <td>Semi-Furnished</td>\n",
       "      <td>Lajpat Nagar 3</td>\n",
       "      <td>2.0</td>\n",
       "      <td>30000000</td>\n",
       "      <td>Ready_to_move</td>\n",
       "      <td>New_Property</td>\n",
       "      <td>Builder_Floor</td>\n",
       "      <td>NaN</td>\n",
       "    </tr>\n",
       "    <tr>\n",
       "      <th>42</th>\n",
       "      <td>1260.0</td>\n",
       "      <td>3</td>\n",
       "      <td>3.0</td>\n",
       "      <td>Semi-Furnished</td>\n",
       "      <td>Lajpat Nagar 3</td>\n",
       "      <td>1.0</td>\n",
       "      <td>21000000</td>\n",
       "      <td>Ready_to_move</td>\n",
       "      <td>Resale</td>\n",
       "      <td>Builder_Floor</td>\n",
       "      <td>NaN</td>\n",
       "    </tr>\n",
       "    <tr>\n",
       "      <th>50</th>\n",
       "      <td>2925.0</td>\n",
       "      <td>4</td>\n",
       "      <td>4.0</td>\n",
       "      <td>Unfurnished</td>\n",
       "      <td>Lajpat Nagar 3</td>\n",
       "      <td>2.0</td>\n",
       "      <td>57500000</td>\n",
       "      <td>Ready_to_move</td>\n",
       "      <td>New_Property</td>\n",
       "      <td>Builder_Floor</td>\n",
       "      <td>22000.0</td>\n",
       "    </tr>\n",
       "    <tr>\n",
       "      <th>52</th>\n",
       "      <td>1600.0</td>\n",
       "      <td>3</td>\n",
       "      <td>3.0</td>\n",
       "      <td>Unfurnished</td>\n",
       "      <td>Lajpat Nagar 3</td>\n",
       "      <td>2.0</td>\n",
       "      <td>30000000</td>\n",
       "      <td>Ready_to_move</td>\n",
       "      <td>New_Property</td>\n",
       "      <td>Builder_Floor</td>\n",
       "      <td>22000.0</td>\n",
       "    </tr>\n",
       "    <tr>\n",
       "      <th>55</th>\n",
       "      <td>1500.0</td>\n",
       "      <td>3</td>\n",
       "      <td>3.0</td>\n",
       "      <td>Semi-Furnished</td>\n",
       "      <td>Lajpat Nagar 3</td>\n",
       "      <td>1.0</td>\n",
       "      <td>31500000</td>\n",
       "      <td>Ready_to_move</td>\n",
       "      <td>Resale</td>\n",
       "      <td>Builder_Floor</td>\n",
       "      <td>22000.0</td>\n",
       "    </tr>\n",
       "  </tbody>\n",
       "</table>\n",
       "</div>"
      ],
      "text/plain": [
       "      Area  BHK  Bathroom      Furnishing        Locality  Parking     Price  \\\n",
       "35  1450.0    3       3.0  Semi-Furnished  Lajpat Nagar 3      2.0  30000000   \n",
       "42  1260.0    3       3.0  Semi-Furnished  Lajpat Nagar 3      1.0  21000000   \n",
       "50  2925.0    4       4.0     Unfurnished  Lajpat Nagar 3      2.0  57500000   \n",
       "52  1600.0    3       3.0     Unfurnished  Lajpat Nagar 3      2.0  30000000   \n",
       "55  1500.0    3       3.0  Semi-Furnished  Lajpat Nagar 3      1.0  31500000   \n",
       "\n",
       "           Status   Transaction           Type  Per_Sqft  \n",
       "35  Ready_to_move  New_Property  Builder_Floor       NaN  \n",
       "42  Ready_to_move        Resale  Builder_Floor       NaN  \n",
       "50  Ready_to_move  New_Property  Builder_Floor   22000.0  \n",
       "52  Ready_to_move  New_Property  Builder_Floor   22000.0  \n",
       "55  Ready_to_move        Resale  Builder_Floor   22000.0  "
      ]
     },
     "execution_count": 13,
     "metadata": {},
     "output_type": "execute_result"
    }
   ],
   "source": [
    "df[(df['Locality']==\"Lajpat Nagar 3\")].head()"
   ]
  },
  {
   "cell_type": "code",
   "execution_count": 14,
   "metadata": {
    "id": "rzZExxYRly5Z"
   },
   "outputs": [],
   "source": [
    "per_sqft_null=df[df['Per_Sqft'].isna()]"
   ]
  },
  {
   "cell_type": "code",
   "execution_count": 15,
   "metadata": {
    "colab": {
     "base_uri": "https://localhost:8080/"
    },
    "id": "hKUQN-GOjkai",
    "outputId": "2442189a-7009-4749-8fff-a916bc038db3"
   },
   "outputs": [
    {
     "data": {
      "text/plain": [
       "DDA Flats Sarita Vihar, Sarita Vihar, Mathura Road                                                                                                                                                                                                                                                                                                                                                                                                                                                                                                                                  19\n",
       "Lajpat Nagar 3                                                                                                                                                                                                                                                                                                                                                                                                                                                                                                                                                                      14\n",
       "Chhattarpur                                                                                                                                                                                                                                                                                                                                                                                                                                                                                                                                                                          9\n",
       "Vasundhara Enclave                                                                                                                                                                                                                                                                                                                                                                                                                                                                                                                                                                   8\n",
       "Mahavir Enclave Part 1                                                                                                                                                                                                                                                                                                                                                                                                                                                                                                                                                               7\n",
       "                                                                                                                                                                                                                                                                                                                                                                                                                                                                                                                                                                                    ..\n",
       "Narela Sector A1 carpet area 42 sqyrd status Ready to Move floor Ground out of 5 floors transaction Resale furnishing Unfurnished facing North - East overlooking Garden/Park, Main Road car parking 2 Open bathroom 2 balcony 2 ownership Freehold Near bawana industrial area and j.j. colony. DDA Housing property LIG FLAT very nice property for single family 200 hundreds family already living IN THIS SOCIETY and very piece full atmosphere this society 24 hour guards all facility available read more Contact Owner View Phone No. Share Feedback Owner Vivek Gupta     1\n",
       "Malviya Nagar                                                                                                                                                                                                                                                                                                                                                                                                                                                                                                                                                                        1\n",
       "Sheikh Sarai Phase 2                                                                                                                                                                                                                                                                                                                                                                                                                                                                                                                                                                 1\n",
       "DDA Flats Vasant Kunj, Vasant Kunj Sector B                                                                                                                                                                                                                                                                                                                                                                                                                                                                                                                                          1\n",
       "Jyoti Nagar West, Shahdara                                                                                                                                                                                                                                                                                                                                                                                                                                                                                                                                                           1\n",
       "Name: Locality, Length: 110, dtype: int64"
      ]
     },
     "execution_count": 15,
     "metadata": {},
     "output_type": "execute_result"
    }
   ],
   "source": [
    "per_sqft_null.Locality.value_counts()"
   ]
  },
  {
   "cell_type": "markdown",
   "metadata": {
    "id": "qpPMK3Cu0u8H"
   },
   "source": [
    "It will be best to drop Nan values in Per_Sqft "
   ]
  },
  {
   "cell_type": "code",
   "execution_count": 16,
   "metadata": {
    "id": "U8zde83-qB8u"
   },
   "outputs": [],
   "source": [
    "df.dropna(subset=['Per_Sqft'],inplace = True)"
   ]
  },
  {
   "cell_type": "code",
   "execution_count": 17,
   "metadata": {
    "colab": {
     "base_uri": "https://localhost:8080/"
    },
    "id": "4FTl005hqB6L",
    "outputId": "97b6407f-1e95-4b15-f508-40bd0cd8413e"
   },
   "outputs": [
    {
     "data": {
      "text/plain": [
       "Area            0\n",
       "BHK             0\n",
       "Bathroom        0\n",
       "Furnishing      4\n",
       "Locality        0\n",
       "Parking        13\n",
       "Price           0\n",
       "Status          0\n",
       "Transaction     0\n",
       "Type            4\n",
       "Per_Sqft        0\n",
       "dtype: int64"
      ]
     },
     "execution_count": 17,
     "metadata": {},
     "output_type": "execute_result"
    }
   ],
   "source": [
    "df.isnull().sum()"
   ]
  },
  {
   "cell_type": "markdown",
   "metadata": {
    "id": "u4D10a4n19Yn"
   },
   "source": [
    "Let's Try something in Furnishing, We have 4 Nan values. It's very small bt we have very small data so we will try not to drop it."
   ]
  },
  {
   "cell_type": "code",
   "execution_count": 18,
   "metadata": {
    "id": "mil-5GBWqB33"
   },
   "outputs": [],
   "source": [
    "furnishing_null=df[df['Furnishing'].isna()]"
   ]
  },
  {
   "cell_type": "code",
   "execution_count": 19,
   "metadata": {
    "colab": {
     "base_uri": "https://localhost:8080/",
     "height": 0
    },
    "id": "un1z6Xkr2RAj",
    "outputId": "83d9ed73-b4d6-43ca-9b38-756694c40a80"
   },
   "outputs": [
    {
     "data": {
      "text/html": [
       "<div>\n",
       "<style scoped>\n",
       "    .dataframe tbody tr th:only-of-type {\n",
       "        vertical-align: middle;\n",
       "    }\n",
       "\n",
       "    .dataframe tbody tr th {\n",
       "        vertical-align: top;\n",
       "    }\n",
       "\n",
       "    .dataframe thead th {\n",
       "        text-align: right;\n",
       "    }\n",
       "</style>\n",
       "<table border=\"1\" class=\"dataframe\">\n",
       "  <thead>\n",
       "    <tr style=\"text-align: right;\">\n",
       "      <th></th>\n",
       "      <th>Area</th>\n",
       "      <th>BHK</th>\n",
       "      <th>Bathroom</th>\n",
       "      <th>Furnishing</th>\n",
       "      <th>Locality</th>\n",
       "      <th>Parking</th>\n",
       "      <th>Price</th>\n",
       "      <th>Status</th>\n",
       "      <th>Transaction</th>\n",
       "      <th>Type</th>\n",
       "      <th>Per_Sqft</th>\n",
       "    </tr>\n",
       "  </thead>\n",
       "  <tbody>\n",
       "    <tr>\n",
       "      <th>509</th>\n",
       "      <td>450.0</td>\n",
       "      <td>2</td>\n",
       "      <td>2.0</td>\n",
       "      <td>NaN</td>\n",
       "      <td>Gandhi Nagar, Shahdara</td>\n",
       "      <td>NaN</td>\n",
       "      <td>2900000</td>\n",
       "      <td>Ready_to_move</td>\n",
       "      <td>Resale</td>\n",
       "      <td>NaN</td>\n",
       "      <td>58000.0</td>\n",
       "    </tr>\n",
       "    <tr>\n",
       "      <th>510</th>\n",
       "      <td>540.0</td>\n",
       "      <td>5</td>\n",
       "      <td>2.0</td>\n",
       "      <td>NaN</td>\n",
       "      <td>Gandhi Nagar, Shahdara</td>\n",
       "      <td>NaN</td>\n",
       "      <td>17000000</td>\n",
       "      <td>Ready_to_move</td>\n",
       "      <td>Resale</td>\n",
       "      <td>NaN</td>\n",
       "      <td>58000.0</td>\n",
       "    </tr>\n",
       "    <tr>\n",
       "      <th>511</th>\n",
       "      <td>1350.0</td>\n",
       "      <td>3</td>\n",
       "      <td>3.0</td>\n",
       "      <td>NaN</td>\n",
       "      <td>Gandhi Nagar, Shahdara</td>\n",
       "      <td>NaN</td>\n",
       "      <td>25000000</td>\n",
       "      <td>Ready_to_move</td>\n",
       "      <td>Resale</td>\n",
       "      <td>NaN</td>\n",
       "      <td>18519.0</td>\n",
       "    </tr>\n",
       "    <tr>\n",
       "      <th>512</th>\n",
       "      <td>2250.0</td>\n",
       "      <td>3</td>\n",
       "      <td>2.0</td>\n",
       "      <td>NaN</td>\n",
       "      <td>Gandhi Nagar, Shahdara</td>\n",
       "      <td>NaN</td>\n",
       "      <td>10000000</td>\n",
       "      <td>Ready_to_move</td>\n",
       "      <td>Resale</td>\n",
       "      <td>NaN</td>\n",
       "      <td>4444.0</td>\n",
       "    </tr>\n",
       "  </tbody>\n",
       "</table>\n",
       "</div>"
      ],
      "text/plain": [
       "       Area  BHK  Bathroom Furnishing                Locality  Parking  \\\n",
       "509   450.0    2       2.0        NaN  Gandhi Nagar, Shahdara      NaN   \n",
       "510   540.0    5       2.0        NaN  Gandhi Nagar, Shahdara      NaN   \n",
       "511  1350.0    3       3.0        NaN  Gandhi Nagar, Shahdara      NaN   \n",
       "512  2250.0    3       2.0        NaN  Gandhi Nagar, Shahdara      NaN   \n",
       "\n",
       "        Price         Status Transaction Type  Per_Sqft  \n",
       "509   2900000  Ready_to_move      Resale  NaN   58000.0  \n",
       "510  17000000  Ready_to_move      Resale  NaN   58000.0  \n",
       "511  25000000  Ready_to_move      Resale  NaN   18519.0  \n",
       "512  10000000  Ready_to_move      Resale  NaN    4444.0  "
      ]
     },
     "execution_count": 19,
     "metadata": {},
     "output_type": "execute_result"
    }
   ],
   "source": [
    "furnishing_null"
   ]
  },
  {
   "cell_type": "code",
   "execution_count": 20,
   "metadata": {
    "colab": {
     "base_uri": "https://localhost:8080/",
     "height": 0
    },
    "id": "zv1CAKME2RCu",
    "outputId": "7ed6f30f-33ff-42ef-f44f-7055be8777d7"
   },
   "outputs": [
    {
     "data": {
      "text/html": [
       "<div>\n",
       "<style scoped>\n",
       "    .dataframe tbody tr th:only-of-type {\n",
       "        vertical-align: middle;\n",
       "    }\n",
       "\n",
       "    .dataframe tbody tr th {\n",
       "        vertical-align: top;\n",
       "    }\n",
       "\n",
       "    .dataframe thead th {\n",
       "        text-align: right;\n",
       "    }\n",
       "</style>\n",
       "<table border=\"1\" class=\"dataframe\">\n",
       "  <thead>\n",
       "    <tr style=\"text-align: right;\">\n",
       "      <th></th>\n",
       "      <th>Area</th>\n",
       "      <th>BHK</th>\n",
       "      <th>Bathroom</th>\n",
       "      <th>Furnishing</th>\n",
       "      <th>Locality</th>\n",
       "      <th>Parking</th>\n",
       "      <th>Price</th>\n",
       "      <th>Status</th>\n",
       "      <th>Transaction</th>\n",
       "      <th>Type</th>\n",
       "      <th>Per_Sqft</th>\n",
       "    </tr>\n",
       "  </thead>\n",
       "  <tbody>\n",
       "    <tr>\n",
       "      <th>509</th>\n",
       "      <td>450.0</td>\n",
       "      <td>2</td>\n",
       "      <td>2.0</td>\n",
       "      <td>NaN</td>\n",
       "      <td>Gandhi Nagar, Shahdara</td>\n",
       "      <td>NaN</td>\n",
       "      <td>2900000</td>\n",
       "      <td>Ready_to_move</td>\n",
       "      <td>Resale</td>\n",
       "      <td>NaN</td>\n",
       "      <td>58000.0</td>\n",
       "    </tr>\n",
       "    <tr>\n",
       "      <th>510</th>\n",
       "      <td>540.0</td>\n",
       "      <td>5</td>\n",
       "      <td>2.0</td>\n",
       "      <td>NaN</td>\n",
       "      <td>Gandhi Nagar, Shahdara</td>\n",
       "      <td>NaN</td>\n",
       "      <td>17000000</td>\n",
       "      <td>Ready_to_move</td>\n",
       "      <td>Resale</td>\n",
       "      <td>NaN</td>\n",
       "      <td>58000.0</td>\n",
       "    </tr>\n",
       "    <tr>\n",
       "      <th>511</th>\n",
       "      <td>1350.0</td>\n",
       "      <td>3</td>\n",
       "      <td>3.0</td>\n",
       "      <td>NaN</td>\n",
       "      <td>Gandhi Nagar, Shahdara</td>\n",
       "      <td>NaN</td>\n",
       "      <td>25000000</td>\n",
       "      <td>Ready_to_move</td>\n",
       "      <td>Resale</td>\n",
       "      <td>NaN</td>\n",
       "      <td>18519.0</td>\n",
       "    </tr>\n",
       "    <tr>\n",
       "      <th>512</th>\n",
       "      <td>2250.0</td>\n",
       "      <td>3</td>\n",
       "      <td>2.0</td>\n",
       "      <td>NaN</td>\n",
       "      <td>Gandhi Nagar, Shahdara</td>\n",
       "      <td>NaN</td>\n",
       "      <td>10000000</td>\n",
       "      <td>Ready_to_move</td>\n",
       "      <td>Resale</td>\n",
       "      <td>NaN</td>\n",
       "      <td>4444.0</td>\n",
       "    </tr>\n",
       "  </tbody>\n",
       "</table>\n",
       "</div>"
      ],
      "text/plain": [
       "       Area  BHK  Bathroom Furnishing                Locality  Parking  \\\n",
       "509   450.0    2       2.0        NaN  Gandhi Nagar, Shahdara      NaN   \n",
       "510   540.0    5       2.0        NaN  Gandhi Nagar, Shahdara      NaN   \n",
       "511  1350.0    3       3.0        NaN  Gandhi Nagar, Shahdara      NaN   \n",
       "512  2250.0    3       2.0        NaN  Gandhi Nagar, Shahdara      NaN   \n",
       "\n",
       "        Price         Status Transaction Type  Per_Sqft  \n",
       "509   2900000  Ready_to_move      Resale  NaN   58000.0  \n",
       "510  17000000  Ready_to_move      Resale  NaN   58000.0  \n",
       "511  25000000  Ready_to_move      Resale  NaN   18519.0  \n",
       "512  10000000  Ready_to_move      Resale  NaN    4444.0  "
      ]
     },
     "execution_count": 20,
     "metadata": {},
     "output_type": "execute_result"
    }
   ],
   "source": [
    "df[(df['Locality']==\"Gandhi Nagar, Shahdara\")].head()"
   ]
  },
  {
   "cell_type": "code",
   "execution_count": 21,
   "metadata": {
    "id": "-Fd-BBBU2yh_"
   },
   "outputs": [],
   "source": [
    "df.dropna(subset=['Furnishing'],inplace = True)"
   ]
  },
  {
   "cell_type": "markdown",
   "metadata": {
    "id": "IPL96g4H3X0x"
   },
   "source": [
    "I had to delete Nan values in Furnishing Because there were no relation between them ,so i can find a way to input values of Furnishing"
   ]
  },
  {
   "cell_type": "code",
   "execution_count": 22,
   "metadata": {
    "colab": {
     "base_uri": "https://localhost:8080/"
    },
    "id": "ZHQsuiNI2yfL",
    "outputId": "102f0cb5-861a-40f3-ff90-62e2e13789da"
   },
   "outputs": [
    {
     "data": {
      "text/plain": [
       "Area           0\n",
       "BHK            0\n",
       "Bathroom       0\n",
       "Furnishing     0\n",
       "Locality       0\n",
       "Parking        9\n",
       "Price          0\n",
       "Status         0\n",
       "Transaction    0\n",
       "Type           0\n",
       "Per_Sqft       0\n",
       "dtype: int64"
      ]
     },
     "execution_count": 22,
     "metadata": {},
     "output_type": "execute_result"
    }
   ],
   "source": [
    "df.isnull().sum()"
   ]
  },
  {
   "cell_type": "code",
   "execution_count": 23,
   "metadata": {
    "id": "QkJryMqz2yc5"
   },
   "outputs": [],
   "source": [
    "Parking_null=df[df['Parking'].isna()]"
   ]
  },
  {
   "cell_type": "code",
   "execution_count": 24,
   "metadata": {
    "colab": {
     "base_uri": "https://localhost:8080/",
     "height": 0
    },
    "id": "WWQXxOTT2yaO",
    "outputId": "06d0f75b-2484-4780-eea4-1dd850fe8dc7"
   },
   "outputs": [
    {
     "data": {
      "text/html": [
       "<div>\n",
       "<style scoped>\n",
       "    .dataframe tbody tr th:only-of-type {\n",
       "        vertical-align: middle;\n",
       "    }\n",
       "\n",
       "    .dataframe tbody tr th {\n",
       "        vertical-align: top;\n",
       "    }\n",
       "\n",
       "    .dataframe thead th {\n",
       "        text-align: right;\n",
       "    }\n",
       "</style>\n",
       "<table border=\"1\" class=\"dataframe\">\n",
       "  <thead>\n",
       "    <tr style=\"text-align: right;\">\n",
       "      <th></th>\n",
       "      <th>Area</th>\n",
       "      <th>BHK</th>\n",
       "      <th>Bathroom</th>\n",
       "      <th>Furnishing</th>\n",
       "      <th>Locality</th>\n",
       "      <th>Parking</th>\n",
       "      <th>Price</th>\n",
       "      <th>Status</th>\n",
       "      <th>Transaction</th>\n",
       "      <th>Type</th>\n",
       "      <th>Per_Sqft</th>\n",
       "    </tr>\n",
       "  </thead>\n",
       "  <tbody>\n",
       "    <tr>\n",
       "      <th>513</th>\n",
       "      <td>1250.0</td>\n",
       "      <td>2</td>\n",
       "      <td>1.0</td>\n",
       "      <td>Semi-Furnished</td>\n",
       "      <td>DDA Flats Mansarovar Park, Seelampur, Shahdara</td>\n",
       "      <td>NaN</td>\n",
       "      <td>7500000</td>\n",
       "      <td>Ready_to_move</td>\n",
       "      <td>Resale</td>\n",
       "      <td>Apartment</td>\n",
       "      <td>4444.0</td>\n",
       "    </tr>\n",
       "    <tr>\n",
       "      <th>514</th>\n",
       "      <td>504.0</td>\n",
       "      <td>3</td>\n",
       "      <td>1.0</td>\n",
       "      <td>Semi-Furnished</td>\n",
       "      <td>Seelampur, Shahdara</td>\n",
       "      <td>NaN</td>\n",
       "      <td>3600000</td>\n",
       "      <td>Ready_to_move</td>\n",
       "      <td>Resale</td>\n",
       "      <td>Apartment</td>\n",
       "      <td>7143.0</td>\n",
       "    </tr>\n",
       "    <tr>\n",
       "      <th>515</th>\n",
       "      <td>65.0</td>\n",
       "      <td>3</td>\n",
       "      <td>2.0</td>\n",
       "      <td>Semi-Furnished</td>\n",
       "      <td>Shanti Mohalla, Shahdara</td>\n",
       "      <td>NaN</td>\n",
       "      <td>35000000</td>\n",
       "      <td>Ready_to_move</td>\n",
       "      <td>New_Property</td>\n",
       "      <td>Apartment</td>\n",
       "      <td>7143.0</td>\n",
       "    </tr>\n",
       "    <tr>\n",
       "      <th>516</th>\n",
       "      <td>450.0</td>\n",
       "      <td>2</td>\n",
       "      <td>1.0</td>\n",
       "      <td>Unfurnished</td>\n",
       "      <td>Seelampur, Shahdara</td>\n",
       "      <td>NaN</td>\n",
       "      <td>6000000</td>\n",
       "      <td>Ready_to_move</td>\n",
       "      <td>Resale</td>\n",
       "      <td>Apartment</td>\n",
       "      <td>13333.0</td>\n",
       "    </tr>\n",
       "    <tr>\n",
       "      <th>517</th>\n",
       "      <td>1800.0</td>\n",
       "      <td>4</td>\n",
       "      <td>2.0</td>\n",
       "      <td>Furnished</td>\n",
       "      <td>Rajgarh Colony, Shahdara</td>\n",
       "      <td>NaN</td>\n",
       "      <td>17500000</td>\n",
       "      <td>Ready_to_move</td>\n",
       "      <td>Resale</td>\n",
       "      <td>Builder_Floor</td>\n",
       "      <td>9722.0</td>\n",
       "    </tr>\n",
       "    <tr>\n",
       "      <th>518</th>\n",
       "      <td>1800.0</td>\n",
       "      <td>4</td>\n",
       "      <td>3.0</td>\n",
       "      <td>Furnished</td>\n",
       "      <td>Kanti Nagar East, Shahdara</td>\n",
       "      <td>NaN</td>\n",
       "      <td>35000000</td>\n",
       "      <td>Ready_to_move</td>\n",
       "      <td>Resale</td>\n",
       "      <td>Builder_Floor</td>\n",
       "      <td>19444.0</td>\n",
       "    </tr>\n",
       "    <tr>\n",
       "      <th>519</th>\n",
       "      <td>1530.0</td>\n",
       "      <td>5</td>\n",
       "      <td>2.0</td>\n",
       "      <td>Furnished</td>\n",
       "      <td>Raghubarpura, Shahdara</td>\n",
       "      <td>NaN</td>\n",
       "      <td>10200000</td>\n",
       "      <td>Ready_to_move</td>\n",
       "      <td>Resale</td>\n",
       "      <td>Builder_Floor</td>\n",
       "      <td>6667.0</td>\n",
       "    </tr>\n",
       "    <tr>\n",
       "      <th>659</th>\n",
       "      <td>3050.0</td>\n",
       "      <td>5</td>\n",
       "      <td>6.0</td>\n",
       "      <td>Semi-Furnished</td>\n",
       "      <td>Commonwealth Games Village 2010</td>\n",
       "      <td>NaN</td>\n",
       "      <td>62500000</td>\n",
       "      <td>Ready_to_move</td>\n",
       "      <td>Resale</td>\n",
       "      <td>Apartment</td>\n",
       "      <td>20492.0</td>\n",
       "    </tr>\n",
       "    <tr>\n",
       "      <th>811</th>\n",
       "      <td>675.0</td>\n",
       "      <td>2</td>\n",
       "      <td>1.0</td>\n",
       "      <td>Unfurnished</td>\n",
       "      <td>Mehrauli</td>\n",
       "      <td>NaN</td>\n",
       "      <td>2200000</td>\n",
       "      <td>Ready_to_move</td>\n",
       "      <td>Resale</td>\n",
       "      <td>Builder_Floor</td>\n",
       "      <td>3259.0</td>\n",
       "    </tr>\n",
       "  </tbody>\n",
       "</table>\n",
       "</div>"
      ],
      "text/plain": [
       "       Area  BHK  Bathroom      Furnishing  \\\n",
       "513  1250.0    2       1.0  Semi-Furnished   \n",
       "514   504.0    3       1.0  Semi-Furnished   \n",
       "515    65.0    3       2.0  Semi-Furnished   \n",
       "516   450.0    2       1.0     Unfurnished   \n",
       "517  1800.0    4       2.0       Furnished   \n",
       "518  1800.0    4       3.0       Furnished   \n",
       "519  1530.0    5       2.0       Furnished   \n",
       "659  3050.0    5       6.0  Semi-Furnished   \n",
       "811   675.0    2       1.0     Unfurnished   \n",
       "\n",
       "                                           Locality  Parking     Price  \\\n",
       "513  DDA Flats Mansarovar Park, Seelampur, Shahdara      NaN   7500000   \n",
       "514                             Seelampur, Shahdara      NaN   3600000   \n",
       "515                        Shanti Mohalla, Shahdara      NaN  35000000   \n",
       "516                             Seelampur, Shahdara      NaN   6000000   \n",
       "517                        Rajgarh Colony, Shahdara      NaN  17500000   \n",
       "518                      Kanti Nagar East, Shahdara      NaN  35000000   \n",
       "519                          Raghubarpura, Shahdara      NaN  10200000   \n",
       "659                 Commonwealth Games Village 2010      NaN  62500000   \n",
       "811                                        Mehrauli      NaN   2200000   \n",
       "\n",
       "            Status   Transaction           Type  Per_Sqft  \n",
       "513  Ready_to_move        Resale      Apartment    4444.0  \n",
       "514  Ready_to_move        Resale      Apartment    7143.0  \n",
       "515  Ready_to_move  New_Property      Apartment    7143.0  \n",
       "516  Ready_to_move        Resale      Apartment   13333.0  \n",
       "517  Ready_to_move        Resale  Builder_Floor    9722.0  \n",
       "518  Ready_to_move        Resale  Builder_Floor   19444.0  \n",
       "519  Ready_to_move        Resale  Builder_Floor    6667.0  \n",
       "659  Ready_to_move        Resale      Apartment   20492.0  \n",
       "811  Ready_to_move        Resale  Builder_Floor    3259.0  "
      ]
     },
     "execution_count": 24,
     "metadata": {},
     "output_type": "execute_result"
    }
   ],
   "source": [
    "Parking_null"
   ]
  },
  {
   "cell_type": "code",
   "execution_count": 25,
   "metadata": {
    "colab": {
     "base_uri": "https://localhost:8080/",
     "height": 0
    },
    "id": "wdflhIBg4fJo",
    "outputId": "a14dbe52-4a91-48e6-e814-440919b5e507"
   },
   "outputs": [
    {
     "data": {
      "text/html": [
       "<div>\n",
       "<style scoped>\n",
       "    .dataframe tbody tr th:only-of-type {\n",
       "        vertical-align: middle;\n",
       "    }\n",
       "\n",
       "    .dataframe tbody tr th {\n",
       "        vertical-align: top;\n",
       "    }\n",
       "\n",
       "    .dataframe thead th {\n",
       "        text-align: right;\n",
       "    }\n",
       "</style>\n",
       "<table border=\"1\" class=\"dataframe\">\n",
       "  <thead>\n",
       "    <tr style=\"text-align: right;\">\n",
       "      <th></th>\n",
       "      <th>Area</th>\n",
       "      <th>BHK</th>\n",
       "      <th>Bathroom</th>\n",
       "      <th>Furnishing</th>\n",
       "      <th>Locality</th>\n",
       "      <th>Parking</th>\n",
       "      <th>Price</th>\n",
       "      <th>Status</th>\n",
       "      <th>Transaction</th>\n",
       "      <th>Type</th>\n",
       "      <th>Per_Sqft</th>\n",
       "    </tr>\n",
       "  </thead>\n",
       "  <tbody>\n",
       "    <tr>\n",
       "      <th>305</th>\n",
       "      <td>1425.0000</td>\n",
       "      <td>3</td>\n",
       "      <td>3.0</td>\n",
       "      <td>Semi-Furnished</td>\n",
       "      <td>Naveen Shahdara, Shahdara</td>\n",
       "      <td>1.0</td>\n",
       "      <td>9300000</td>\n",
       "      <td>Ready_to_move</td>\n",
       "      <td>Resale</td>\n",
       "      <td>Builder_Floor</td>\n",
       "      <td>6526.0</td>\n",
       "    </tr>\n",
       "    <tr>\n",
       "      <th>306</th>\n",
       "      <td>440.0000</td>\n",
       "      <td>2</td>\n",
       "      <td>2.0</td>\n",
       "      <td>Unfurnished</td>\n",
       "      <td>Shahdara</td>\n",
       "      <td>1.0</td>\n",
       "      <td>2700000</td>\n",
       "      <td>Ready_to_move</td>\n",
       "      <td>Resale</td>\n",
       "      <td>Apartment</td>\n",
       "      <td>6526.0</td>\n",
       "    </tr>\n",
       "    <tr>\n",
       "      <th>307</th>\n",
       "      <td>1017.0000</td>\n",
       "      <td>2</td>\n",
       "      <td>2.0</td>\n",
       "      <td>Furnished</td>\n",
       "      <td>Vishwas Nagar, Shahdara</td>\n",
       "      <td>1.0</td>\n",
       "      <td>6500000</td>\n",
       "      <td>Ready_to_move</td>\n",
       "      <td>New_Property</td>\n",
       "      <td>Builder_Floor</td>\n",
       "      <td>6526.0</td>\n",
       "    </tr>\n",
       "    <tr>\n",
       "      <th>308</th>\n",
       "      <td>650.0000</td>\n",
       "      <td>2</td>\n",
       "      <td>2.0</td>\n",
       "      <td>Semi-Furnished</td>\n",
       "      <td>DDA RPS Flats, Mansarowar Park, Shahdara</td>\n",
       "      <td>1.0</td>\n",
       "      <td>5800000</td>\n",
       "      <td>Ready_to_move</td>\n",
       "      <td>Resale</td>\n",
       "      <td>Apartment</td>\n",
       "      <td>6526.0</td>\n",
       "    </tr>\n",
       "    <tr>\n",
       "      <th>309</th>\n",
       "      <td>950.0000</td>\n",
       "      <td>3</td>\n",
       "      <td>2.0</td>\n",
       "      <td>Semi-Furnished</td>\n",
       "      <td>Shahdara</td>\n",
       "      <td>1.0</td>\n",
       "      <td>5500000</td>\n",
       "      <td>Ready_to_move</td>\n",
       "      <td>Resale</td>\n",
       "      <td>Apartment</td>\n",
       "      <td>6526.0</td>\n",
       "    </tr>\n",
       "    <tr>\n",
       "      <th>310</th>\n",
       "      <td>810.0000</td>\n",
       "      <td>3</td>\n",
       "      <td>2.0</td>\n",
       "      <td>Semi-Furnished</td>\n",
       "      <td>Yamuna Vihar, Shahdara</td>\n",
       "      <td>1.0</td>\n",
       "      <td>6000000</td>\n",
       "      <td>Ready_to_move</td>\n",
       "      <td>Resale</td>\n",
       "      <td>Builder_Floor</td>\n",
       "      <td>6526.0</td>\n",
       "    </tr>\n",
       "    <tr>\n",
       "      <th>311</th>\n",
       "      <td>750.0000</td>\n",
       "      <td>2</td>\n",
       "      <td>2.0</td>\n",
       "      <td>Unfurnished</td>\n",
       "      <td>Balbir Nagar, Shahdara</td>\n",
       "      <td>1.0</td>\n",
       "      <td>4500000</td>\n",
       "      <td>Ready_to_move</td>\n",
       "      <td>Resale</td>\n",
       "      <td>Builder_Floor</td>\n",
       "      <td>6526.0</td>\n",
       "    </tr>\n",
       "    <tr>\n",
       "      <th>312</th>\n",
       "      <td>990.0000</td>\n",
       "      <td>2</td>\n",
       "      <td>2.0</td>\n",
       "      <td>Semi-Furnished</td>\n",
       "      <td>Shahdara</td>\n",
       "      <td>2.0</td>\n",
       "      <td>4100000</td>\n",
       "      <td>Ready_to_move</td>\n",
       "      <td>Resale</td>\n",
       "      <td>Builder_Floor</td>\n",
       "      <td>6526.0</td>\n",
       "    </tr>\n",
       "    <tr>\n",
       "      <th>313</th>\n",
       "      <td>800.0000</td>\n",
       "      <td>3</td>\n",
       "      <td>2.0</td>\n",
       "      <td>Semi-Furnished</td>\n",
       "      <td>Ram Nagar, Shahdara</td>\n",
       "      <td>2.0</td>\n",
       "      <td>3800000</td>\n",
       "      <td>Ready_to_move</td>\n",
       "      <td>Resale</td>\n",
       "      <td>Builder_Floor</td>\n",
       "      <td>6526.0</td>\n",
       "    </tr>\n",
       "    <tr>\n",
       "      <th>314</th>\n",
       "      <td>675.0000</td>\n",
       "      <td>2</td>\n",
       "      <td>1.0</td>\n",
       "      <td>Unfurnished</td>\n",
       "      <td>Shahdara</td>\n",
       "      <td>1.0</td>\n",
       "      <td>3300000</td>\n",
       "      <td>Ready_to_move</td>\n",
       "      <td>Resale</td>\n",
       "      <td>Apartment</td>\n",
       "      <td>6526.0</td>\n",
       "    </tr>\n",
       "    <tr>\n",
       "      <th>315</th>\n",
       "      <td>558.0000</td>\n",
       "      <td>2</td>\n",
       "      <td>1.0</td>\n",
       "      <td>Unfurnished</td>\n",
       "      <td>Rohtash Nagar, Shahdara</td>\n",
       "      <td>1.0</td>\n",
       "      <td>2900000</td>\n",
       "      <td>Ready_to_move</td>\n",
       "      <td>New_Property</td>\n",
       "      <td>Builder_Floor</td>\n",
       "      <td>6526.0</td>\n",
       "    </tr>\n",
       "    <tr>\n",
       "      <th>316</th>\n",
       "      <td>445.0000</td>\n",
       "      <td>2</td>\n",
       "      <td>1.0</td>\n",
       "      <td>Unfurnished</td>\n",
       "      <td>Ram Nagar Extension, Shahdara</td>\n",
       "      <td>1.0</td>\n",
       "      <td>2000000</td>\n",
       "      <td>Ready_to_move</td>\n",
       "      <td>Resale</td>\n",
       "      <td>Builder_Floor</td>\n",
       "      <td>6526.0</td>\n",
       "    </tr>\n",
       "    <tr>\n",
       "      <th>317</th>\n",
       "      <td>360.0000</td>\n",
       "      <td>2</td>\n",
       "      <td>1.0</td>\n",
       "      <td>Unfurnished</td>\n",
       "      <td>Maujpur, Shahdara</td>\n",
       "      <td>1.0</td>\n",
       "      <td>1550000</td>\n",
       "      <td>Ready_to_move</td>\n",
       "      <td>New_Property</td>\n",
       "      <td>Builder_Floor</td>\n",
       "      <td>6526.0</td>\n",
       "    </tr>\n",
       "    <tr>\n",
       "      <th>318</th>\n",
       "      <td>1350.0000</td>\n",
       "      <td>4</td>\n",
       "      <td>3.0</td>\n",
       "      <td>Semi-Furnished</td>\n",
       "      <td>Mansarowar Park, Shahdara</td>\n",
       "      <td>1.0</td>\n",
       "      <td>11300000</td>\n",
       "      <td>Ready_to_move</td>\n",
       "      <td>New_Property</td>\n",
       "      <td>Builder_Floor</td>\n",
       "      <td>6526.0</td>\n",
       "    </tr>\n",
       "    <tr>\n",
       "      <th>319</th>\n",
       "      <td>850.0000</td>\n",
       "      <td>3</td>\n",
       "      <td>2.0</td>\n",
       "      <td>Semi-Furnished</td>\n",
       "      <td>Gorakh Park West, Shahdara</td>\n",
       "      <td>1.0</td>\n",
       "      <td>4500000</td>\n",
       "      <td>Ready_to_move</td>\n",
       "      <td>Resale</td>\n",
       "      <td>Builder_Floor</td>\n",
       "      <td>6526.0</td>\n",
       "    </tr>\n",
       "    <tr>\n",
       "      <th>320</th>\n",
       "      <td>846.0000</td>\n",
       "      <td>2</td>\n",
       "      <td>1.0</td>\n",
       "      <td>Unfurnished</td>\n",
       "      <td>Shivnam Apartment, Shahdara</td>\n",
       "      <td>1.0</td>\n",
       "      <td>3300000</td>\n",
       "      <td>Ready_to_move</td>\n",
       "      <td>New_Property</td>\n",
       "      <td>Apartment</td>\n",
       "      <td>3901.0</td>\n",
       "    </tr>\n",
       "    <tr>\n",
       "      <th>321</th>\n",
       "      <td>1300.0000</td>\n",
       "      <td>4</td>\n",
       "      <td>3.0</td>\n",
       "      <td>Furnished</td>\n",
       "      <td>Mansarowar Park, Shahdara</td>\n",
       "      <td>1.0</td>\n",
       "      <td>11500000</td>\n",
       "      <td>Ready_to_move</td>\n",
       "      <td>New_Property</td>\n",
       "      <td>Builder_Floor</td>\n",
       "      <td>3901.0</td>\n",
       "    </tr>\n",
       "    <tr>\n",
       "      <th>322</th>\n",
       "      <td>900.0000</td>\n",
       "      <td>3</td>\n",
       "      <td>2.0</td>\n",
       "      <td>Semi-Furnished</td>\n",
       "      <td>Ram Nagar Extension, Shahdara</td>\n",
       "      <td>1.0</td>\n",
       "      <td>6000000</td>\n",
       "      <td>Almost_ready</td>\n",
       "      <td>New_Property</td>\n",
       "      <td>Builder_Floor</td>\n",
       "      <td>3901.0</td>\n",
       "    </tr>\n",
       "    <tr>\n",
       "      <th>323</th>\n",
       "      <td>1050.0000</td>\n",
       "      <td>3</td>\n",
       "      <td>2.0</td>\n",
       "      <td>Semi-Furnished</td>\n",
       "      <td>Hans Apartments, Vishwas Nagar, Shahdara</td>\n",
       "      <td>1.0</td>\n",
       "      <td>9000000</td>\n",
       "      <td>Ready_to_move</td>\n",
       "      <td>Resale</td>\n",
       "      <td>Apartment</td>\n",
       "      <td>3901.0</td>\n",
       "    </tr>\n",
       "    <tr>\n",
       "      <th>324</th>\n",
       "      <td>850.0000</td>\n",
       "      <td>2</td>\n",
       "      <td>2.0</td>\n",
       "      <td>Furnished</td>\n",
       "      <td>Jyoti Colony, Shahdara</td>\n",
       "      <td>1.0</td>\n",
       "      <td>4500000</td>\n",
       "      <td>Ready_to_move</td>\n",
       "      <td>Resale</td>\n",
       "      <td>Builder_Floor</td>\n",
       "      <td>3901.0</td>\n",
       "    </tr>\n",
       "    <tr>\n",
       "      <th>325</th>\n",
       "      <td>1650.0000</td>\n",
       "      <td>4</td>\n",
       "      <td>3.0</td>\n",
       "      <td>Furnished</td>\n",
       "      <td>Shahdara</td>\n",
       "      <td>1.0</td>\n",
       "      <td>14000000</td>\n",
       "      <td>Almost_ready</td>\n",
       "      <td>New_Property</td>\n",
       "      <td>Apartment</td>\n",
       "      <td>3901.0</td>\n",
       "    </tr>\n",
       "    <tr>\n",
       "      <th>326</th>\n",
       "      <td>1150.0000</td>\n",
       "      <td>2</td>\n",
       "      <td>2.0</td>\n",
       "      <td>Semi-Furnished</td>\n",
       "      <td>Ahinsha Vatika, Ram Nagar, Shahdara</td>\n",
       "      <td>1.0</td>\n",
       "      <td>7300000</td>\n",
       "      <td>Ready_to_move</td>\n",
       "      <td>Resale</td>\n",
       "      <td>Apartment</td>\n",
       "      <td>6347.0</td>\n",
       "    </tr>\n",
       "    <tr>\n",
       "      <th>327</th>\n",
       "      <td>495.1394</td>\n",
       "      <td>1</td>\n",
       "      <td>1.0</td>\n",
       "      <td>Furnished</td>\n",
       "      <td>Shahdara</td>\n",
       "      <td>1.0</td>\n",
       "      <td>1900000</td>\n",
       "      <td>Ready_to_move</td>\n",
       "      <td>Resale</td>\n",
       "      <td>Builder_Floor</td>\n",
       "      <td>41304.0</td>\n",
       "    </tr>\n",
       "    <tr>\n",
       "      <th>328</th>\n",
       "      <td>1053.0000</td>\n",
       "      <td>3</td>\n",
       "      <td>2.0</td>\n",
       "      <td>Furnished</td>\n",
       "      <td>Naveen Shahdara, Shahdara</td>\n",
       "      <td>4.0</td>\n",
       "      <td>7000000</td>\n",
       "      <td>Ready_to_move</td>\n",
       "      <td>Resale</td>\n",
       "      <td>Builder_Floor</td>\n",
       "      <td>41304.0</td>\n",
       "    </tr>\n",
       "    <tr>\n",
       "      <th>331</th>\n",
       "      <td>540.0000</td>\n",
       "      <td>2</td>\n",
       "      <td>1.0</td>\n",
       "      <td>Furnished</td>\n",
       "      <td>Yamuna Vihar, Shahdara</td>\n",
       "      <td>1.0</td>\n",
       "      <td>2700000</td>\n",
       "      <td>Ready_to_move</td>\n",
       "      <td>New_Property</td>\n",
       "      <td>Apartment</td>\n",
       "      <td>5000.0</td>\n",
       "    </tr>\n",
       "    <tr>\n",
       "      <th>332</th>\n",
       "      <td>747.0000</td>\n",
       "      <td>2</td>\n",
       "      <td>2.0</td>\n",
       "      <td>Furnished</td>\n",
       "      <td>Yamuna Vihar, Shahdara</td>\n",
       "      <td>1.0</td>\n",
       "      <td>6500000</td>\n",
       "      <td>Ready_to_move</td>\n",
       "      <td>Resale</td>\n",
       "      <td>Builder_Floor</td>\n",
       "      <td>8701.0</td>\n",
       "    </tr>\n",
       "    <tr>\n",
       "      <th>333</th>\n",
       "      <td>720.0000</td>\n",
       "      <td>2</td>\n",
       "      <td>1.0</td>\n",
       "      <td>Unfurnished</td>\n",
       "      <td>Yamuna Vihar, Shahdara</td>\n",
       "      <td>1.0</td>\n",
       "      <td>4000000</td>\n",
       "      <td>Ready_to_move</td>\n",
       "      <td>Resale</td>\n",
       "      <td>Builder_Floor</td>\n",
       "      <td>5556.0</td>\n",
       "    </tr>\n",
       "    <tr>\n",
       "      <th>334</th>\n",
       "      <td>376.7365</td>\n",
       "      <td>1</td>\n",
       "      <td>1.0</td>\n",
       "      <td>Semi-Furnished</td>\n",
       "      <td>Yamuna Vihar, Shahdara</td>\n",
       "      <td>1.0</td>\n",
       "      <td>3000000</td>\n",
       "      <td>Ready_to_move</td>\n",
       "      <td>New_Property</td>\n",
       "      <td>Apartment</td>\n",
       "      <td>85715.0</td>\n",
       "    </tr>\n",
       "    <tr>\n",
       "      <th>335</th>\n",
       "      <td>1125.0000</td>\n",
       "      <td>2</td>\n",
       "      <td>2.0</td>\n",
       "      <td>Unfurnished</td>\n",
       "      <td>Yamuna Vihar, Shahdara</td>\n",
       "      <td>1.0</td>\n",
       "      <td>5000000</td>\n",
       "      <td>Ready_to_move</td>\n",
       "      <td>Resale</td>\n",
       "      <td>Builder_Floor</td>\n",
       "      <td>4444.0</td>\n",
       "    </tr>\n",
       "    <tr>\n",
       "      <th>336</th>\n",
       "      <td>713.0000</td>\n",
       "      <td>2</td>\n",
       "      <td>2.0</td>\n",
       "      <td>Semi-Furnished</td>\n",
       "      <td>Yamuna Vihar, Shahdara</td>\n",
       "      <td>1.0</td>\n",
       "      <td>6000000</td>\n",
       "      <td>Ready_to_move</td>\n",
       "      <td>New_Property</td>\n",
       "      <td>Builder_Floor</td>\n",
       "      <td>4444.0</td>\n",
       "    </tr>\n",
       "    <tr>\n",
       "      <th>337</th>\n",
       "      <td>360.0000</td>\n",
       "      <td>1</td>\n",
       "      <td>1.0</td>\n",
       "      <td>Unfurnished</td>\n",
       "      <td>Yamuna Vihar, Shahdara</td>\n",
       "      <td>1.0</td>\n",
       "      <td>2500000</td>\n",
       "      <td>Ready_to_move</td>\n",
       "      <td>Resale</td>\n",
       "      <td>Builder_Floor</td>\n",
       "      <td>6944.0</td>\n",
       "    </tr>\n",
       "    <tr>\n",
       "      <th>338</th>\n",
       "      <td>900.0000</td>\n",
       "      <td>2</td>\n",
       "      <td>2.0</td>\n",
       "      <td>Semi-Furnished</td>\n",
       "      <td>Yamuna Vihar, Shahdara</td>\n",
       "      <td>1.0</td>\n",
       "      <td>6500000</td>\n",
       "      <td>Ready_to_move</td>\n",
       "      <td>Resale</td>\n",
       "      <td>Apartment</td>\n",
       "      <td>7222.0</td>\n",
       "    </tr>\n",
       "    <tr>\n",
       "      <th>339</th>\n",
       "      <td>713.0000</td>\n",
       "      <td>3</td>\n",
       "      <td>1.0</td>\n",
       "      <td>Unfurnished</td>\n",
       "      <td>Yamuna Vihar, Shahdara</td>\n",
       "      <td>1.0</td>\n",
       "      <td>8000000</td>\n",
       "      <td>Ready_to_move</td>\n",
       "      <td>Resale</td>\n",
       "      <td>Apartment</td>\n",
       "      <td>11220.0</td>\n",
       "    </tr>\n",
       "    <tr>\n",
       "      <th>340</th>\n",
       "      <td>504.0000</td>\n",
       "      <td>2</td>\n",
       "      <td>1.0</td>\n",
       "      <td>Furnished</td>\n",
       "      <td>Yamuna Vihar, Shahdara</td>\n",
       "      <td>1.0</td>\n",
       "      <td>2700000</td>\n",
       "      <td>Ready_to_move</td>\n",
       "      <td>Resale</td>\n",
       "      <td>Builder_Floor</td>\n",
       "      <td>5357.0</td>\n",
       "    </tr>\n",
       "    <tr>\n",
       "      <th>341</th>\n",
       "      <td>70.0000</td>\n",
       "      <td>1</td>\n",
       "      <td>2.0</td>\n",
       "      <td>Unfurnished</td>\n",
       "      <td>Yamuna Vihar, Shahdara</td>\n",
       "      <td>1.0</td>\n",
       "      <td>4500000</td>\n",
       "      <td>Ready_to_move</td>\n",
       "      <td>Resale</td>\n",
       "      <td>Apartment</td>\n",
       "      <td>5357.0</td>\n",
       "    </tr>\n",
       "    <tr>\n",
       "      <th>342</th>\n",
       "      <td>850.0000</td>\n",
       "      <td>3</td>\n",
       "      <td>2.0</td>\n",
       "      <td>Furnished</td>\n",
       "      <td>Yamuna Vihar, Shahdara</td>\n",
       "      <td>1.0</td>\n",
       "      <td>5700000</td>\n",
       "      <td>Ready_to_move</td>\n",
       "      <td>Resale</td>\n",
       "      <td>Builder_Floor</td>\n",
       "      <td>6706.0</td>\n",
       "    </tr>\n",
       "    <tr>\n",
       "      <th>343</th>\n",
       "      <td>2430.0000</td>\n",
       "      <td>4</td>\n",
       "      <td>3.0</td>\n",
       "      <td>Furnished</td>\n",
       "      <td>Yamuna Vihar, Shahdara</td>\n",
       "      <td>1.0</td>\n",
       "      <td>25000000</td>\n",
       "      <td>Ready_to_move</td>\n",
       "      <td>Resale</td>\n",
       "      <td>Builder_Floor</td>\n",
       "      <td>10288.0</td>\n",
       "    </tr>\n",
       "    <tr>\n",
       "      <th>344</th>\n",
       "      <td>2475.0000</td>\n",
       "      <td>3</td>\n",
       "      <td>3.0</td>\n",
       "      <td>Furnished</td>\n",
       "      <td>Yamuna Vihar, Shahdara</td>\n",
       "      <td>1.0</td>\n",
       "      <td>70000000</td>\n",
       "      <td>Ready_to_move</td>\n",
       "      <td>Resale</td>\n",
       "      <td>Builder_Floor</td>\n",
       "      <td>28283.0</td>\n",
       "    </tr>\n",
       "    <tr>\n",
       "      <th>345</th>\n",
       "      <td>2970.0000</td>\n",
       "      <td>7</td>\n",
       "      <td>4.0</td>\n",
       "      <td>Furnished</td>\n",
       "      <td>Yamuna Vihar, Shahdara</td>\n",
       "      <td>1.0</td>\n",
       "      <td>26500000</td>\n",
       "      <td>Ready_to_move</td>\n",
       "      <td>Resale</td>\n",
       "      <td>Builder_Floor</td>\n",
       "      <td>8923.0</td>\n",
       "    </tr>\n",
       "    <tr>\n",
       "      <th>346</th>\n",
       "      <td>2250.0000</td>\n",
       "      <td>3</td>\n",
       "      <td>2.0</td>\n",
       "      <td>Furnished</td>\n",
       "      <td>Yamuna Vihar, Shahdara</td>\n",
       "      <td>1.0</td>\n",
       "      <td>18500000</td>\n",
       "      <td>Ready_to_move</td>\n",
       "      <td>Resale</td>\n",
       "      <td>Builder_Floor</td>\n",
       "      <td>8222.0</td>\n",
       "    </tr>\n",
       "    <tr>\n",
       "      <th>347</th>\n",
       "      <td>1500.0000</td>\n",
       "      <td>5</td>\n",
       "      <td>3.0</td>\n",
       "      <td>Furnished</td>\n",
       "      <td>Yamuna Vihar, Shahdara</td>\n",
       "      <td>1.0</td>\n",
       "      <td>30000000</td>\n",
       "      <td>Ready_to_move</td>\n",
       "      <td>Resale</td>\n",
       "      <td>Builder_Floor</td>\n",
       "      <td>20000.0</td>\n",
       "    </tr>\n",
       "    <tr>\n",
       "      <th>348</th>\n",
       "      <td>1512.0000</td>\n",
       "      <td>2</td>\n",
       "      <td>2.0</td>\n",
       "      <td>Furnished</td>\n",
       "      <td>Yamuna Vihar, Shahdara</td>\n",
       "      <td>1.0</td>\n",
       "      <td>22000000</td>\n",
       "      <td>Ready_to_move</td>\n",
       "      <td>Resale</td>\n",
       "      <td>Builder_Floor</td>\n",
       "      <td>14550.0</td>\n",
       "    </tr>\n",
       "    <tr>\n",
       "      <th>350</th>\n",
       "      <td>2160.0000</td>\n",
       "      <td>3</td>\n",
       "      <td>3.0</td>\n",
       "      <td>Furnished</td>\n",
       "      <td>Yamuna Vihar, Shahdara</td>\n",
       "      <td>1.0</td>\n",
       "      <td>65000000</td>\n",
       "      <td>Ready_to_move</td>\n",
       "      <td>Resale</td>\n",
       "      <td>Builder_Floor</td>\n",
       "      <td>30093.0</td>\n",
       "    </tr>\n",
       "    <tr>\n",
       "      <th>351</th>\n",
       "      <td>630.0000</td>\n",
       "      <td>3</td>\n",
       "      <td>2.0</td>\n",
       "      <td>Furnished</td>\n",
       "      <td>Yamuna Vihar, Shahdara</td>\n",
       "      <td>1.0</td>\n",
       "      <td>22500000</td>\n",
       "      <td>Ready_to_move</td>\n",
       "      <td>Resale</td>\n",
       "      <td>Builder_Floor</td>\n",
       "      <td>35714.0</td>\n",
       "    </tr>\n",
       "    <tr>\n",
       "      <th>352</th>\n",
       "      <td>324.0000</td>\n",
       "      <td>6</td>\n",
       "      <td>3.0</td>\n",
       "      <td>Furnished</td>\n",
       "      <td>Yamuna Vihar, Shahdara</td>\n",
       "      <td>1.0</td>\n",
       "      <td>8700000</td>\n",
       "      <td>Ready_to_move</td>\n",
       "      <td>Resale</td>\n",
       "      <td>Builder_Floor</td>\n",
       "      <td>35714.0</td>\n",
       "    </tr>\n",
       "    <tr>\n",
       "      <th>353</th>\n",
       "      <td>720.0000</td>\n",
       "      <td>6</td>\n",
       "      <td>5.0</td>\n",
       "      <td>Furnished</td>\n",
       "      <td>Yamuna Vihar, Shahdara</td>\n",
       "      <td>1.0</td>\n",
       "      <td>22000000</td>\n",
       "      <td>Ready_to_move</td>\n",
       "      <td>Resale</td>\n",
       "      <td>Builder_Floor</td>\n",
       "      <td>35714.0</td>\n",
       "    </tr>\n",
       "    <tr>\n",
       "      <th>354</th>\n",
       "      <td>675.0000</td>\n",
       "      <td>4</td>\n",
       "      <td>2.0</td>\n",
       "      <td>Furnished</td>\n",
       "      <td>Yamuna Vihar, Shahdara</td>\n",
       "      <td>2.0</td>\n",
       "      <td>18500000</td>\n",
       "      <td>Ready_to_move</td>\n",
       "      <td>Resale</td>\n",
       "      <td>Builder_Floor</td>\n",
       "      <td>35714.0</td>\n",
       "    </tr>\n",
       "    <tr>\n",
       "      <th>355</th>\n",
       "      <td>700.0000</td>\n",
       "      <td>2</td>\n",
       "      <td>1.0</td>\n",
       "      <td>Furnished</td>\n",
       "      <td>Yamuna Vihar, Shahdara</td>\n",
       "      <td>2.0</td>\n",
       "      <td>16000000</td>\n",
       "      <td>Ready_to_move</td>\n",
       "      <td>New_Property</td>\n",
       "      <td>Builder_Floor</td>\n",
       "      <td>22857.0</td>\n",
       "    </tr>\n",
       "    <tr>\n",
       "      <th>356</th>\n",
       "      <td>675.0000</td>\n",
       "      <td>4</td>\n",
       "      <td>3.0</td>\n",
       "      <td>Furnished</td>\n",
       "      <td>Yamuna Vihar, Shahdara</td>\n",
       "      <td>2.0</td>\n",
       "      <td>16000000</td>\n",
       "      <td>Ready_to_move</td>\n",
       "      <td>Resale</td>\n",
       "      <td>Builder_Floor</td>\n",
       "      <td>22857.0</td>\n",
       "    </tr>\n",
       "    <tr>\n",
       "      <th>357</th>\n",
       "      <td>720.0000</td>\n",
       "      <td>4</td>\n",
       "      <td>2.0</td>\n",
       "      <td>Furnished</td>\n",
       "      <td>Yamuna Vihar, Shahdara</td>\n",
       "      <td>2.0</td>\n",
       "      <td>9000000</td>\n",
       "      <td>Ready_to_move</td>\n",
       "      <td>Resale</td>\n",
       "      <td>Builder_Floor</td>\n",
       "      <td>12500.0</td>\n",
       "    </tr>\n",
       "    <tr>\n",
       "      <th>358</th>\n",
       "      <td>850.0000</td>\n",
       "      <td>2</td>\n",
       "      <td>2.0</td>\n",
       "      <td>Furnished</td>\n",
       "      <td>Jyoti Colony, Shahdara</td>\n",
       "      <td>1.0</td>\n",
       "      <td>4500000</td>\n",
       "      <td>Ready_to_move</td>\n",
       "      <td>Resale</td>\n",
       "      <td>Builder_Floor</td>\n",
       "      <td>12500.0</td>\n",
       "    </tr>\n",
       "    <tr>\n",
       "      <th>513</th>\n",
       "      <td>1250.0000</td>\n",
       "      <td>2</td>\n",
       "      <td>1.0</td>\n",
       "      <td>Semi-Furnished</td>\n",
       "      <td>DDA Flats Mansarovar Park, Seelampur, Shahdara</td>\n",
       "      <td>NaN</td>\n",
       "      <td>7500000</td>\n",
       "      <td>Ready_to_move</td>\n",
       "      <td>Resale</td>\n",
       "      <td>Apartment</td>\n",
       "      <td>4444.0</td>\n",
       "    </tr>\n",
       "    <tr>\n",
       "      <th>514</th>\n",
       "      <td>504.0000</td>\n",
       "      <td>3</td>\n",
       "      <td>1.0</td>\n",
       "      <td>Semi-Furnished</td>\n",
       "      <td>Seelampur, Shahdara</td>\n",
       "      <td>NaN</td>\n",
       "      <td>3600000</td>\n",
       "      <td>Ready_to_move</td>\n",
       "      <td>Resale</td>\n",
       "      <td>Apartment</td>\n",
       "      <td>7143.0</td>\n",
       "    </tr>\n",
       "    <tr>\n",
       "      <th>515</th>\n",
       "      <td>65.0000</td>\n",
       "      <td>3</td>\n",
       "      <td>2.0</td>\n",
       "      <td>Semi-Furnished</td>\n",
       "      <td>Shanti Mohalla, Shahdara</td>\n",
       "      <td>NaN</td>\n",
       "      <td>35000000</td>\n",
       "      <td>Ready_to_move</td>\n",
       "      <td>New_Property</td>\n",
       "      <td>Apartment</td>\n",
       "      <td>7143.0</td>\n",
       "    </tr>\n",
       "    <tr>\n",
       "      <th>516</th>\n",
       "      <td>450.0000</td>\n",
       "      <td>2</td>\n",
       "      <td>1.0</td>\n",
       "      <td>Unfurnished</td>\n",
       "      <td>Seelampur, Shahdara</td>\n",
       "      <td>NaN</td>\n",
       "      <td>6000000</td>\n",
       "      <td>Ready_to_move</td>\n",
       "      <td>Resale</td>\n",
       "      <td>Apartment</td>\n",
       "      <td>13333.0</td>\n",
       "    </tr>\n",
       "    <tr>\n",
       "      <th>517</th>\n",
       "      <td>1800.0000</td>\n",
       "      <td>4</td>\n",
       "      <td>2.0</td>\n",
       "      <td>Furnished</td>\n",
       "      <td>Rajgarh Colony, Shahdara</td>\n",
       "      <td>NaN</td>\n",
       "      <td>17500000</td>\n",
       "      <td>Ready_to_move</td>\n",
       "      <td>Resale</td>\n",
       "      <td>Builder_Floor</td>\n",
       "      <td>9722.0</td>\n",
       "    </tr>\n",
       "    <tr>\n",
       "      <th>518</th>\n",
       "      <td>1800.0000</td>\n",
       "      <td>4</td>\n",
       "      <td>3.0</td>\n",
       "      <td>Furnished</td>\n",
       "      <td>Kanti Nagar East, Shahdara</td>\n",
       "      <td>NaN</td>\n",
       "      <td>35000000</td>\n",
       "      <td>Ready_to_move</td>\n",
       "      <td>Resale</td>\n",
       "      <td>Builder_Floor</td>\n",
       "      <td>19444.0</td>\n",
       "    </tr>\n",
       "    <tr>\n",
       "      <th>519</th>\n",
       "      <td>1530.0000</td>\n",
       "      <td>5</td>\n",
       "      <td>2.0</td>\n",
       "      <td>Furnished</td>\n",
       "      <td>Raghubarpura, Shahdara</td>\n",
       "      <td>NaN</td>\n",
       "      <td>10200000</td>\n",
       "      <td>Ready_to_move</td>\n",
       "      <td>Resale</td>\n",
       "      <td>Builder_Floor</td>\n",
       "      <td>6667.0</td>\n",
       "    </tr>\n",
       "    <tr>\n",
       "      <th>526</th>\n",
       "      <td>900.0000</td>\n",
       "      <td>4</td>\n",
       "      <td>1.0</td>\n",
       "      <td>Furnished</td>\n",
       "      <td>Shastri Park, Shahdara</td>\n",
       "      <td>1.0</td>\n",
       "      <td>15000000</td>\n",
       "      <td>Ready_to_move</td>\n",
       "      <td>Resale</td>\n",
       "      <td>Apartment</td>\n",
       "      <td>6667.0</td>\n",
       "    </tr>\n",
       "    <tr>\n",
       "      <th>529</th>\n",
       "      <td>50.0000</td>\n",
       "      <td>2</td>\n",
       "      <td>1.0</td>\n",
       "      <td>Semi-Furnished</td>\n",
       "      <td>Shastri Park, Shahdara</td>\n",
       "      <td>1.0</td>\n",
       "      <td>1950000</td>\n",
       "      <td>Ready_to_move</td>\n",
       "      <td>New_Property</td>\n",
       "      <td>Apartment</td>\n",
       "      <td>6667.0</td>\n",
       "    </tr>\n",
       "  </tbody>\n",
       "</table>\n",
       "</div>"
      ],
      "text/plain": [
       "          Area  BHK  Bathroom      Furnishing  \\\n",
       "305  1425.0000    3       3.0  Semi-Furnished   \n",
       "306   440.0000    2       2.0     Unfurnished   \n",
       "307  1017.0000    2       2.0       Furnished   \n",
       "308   650.0000    2       2.0  Semi-Furnished   \n",
       "309   950.0000    3       2.0  Semi-Furnished   \n",
       "310   810.0000    3       2.0  Semi-Furnished   \n",
       "311   750.0000    2       2.0     Unfurnished   \n",
       "312   990.0000    2       2.0  Semi-Furnished   \n",
       "313   800.0000    3       2.0  Semi-Furnished   \n",
       "314   675.0000    2       1.0     Unfurnished   \n",
       "315   558.0000    2       1.0     Unfurnished   \n",
       "316   445.0000    2       1.0     Unfurnished   \n",
       "317   360.0000    2       1.0     Unfurnished   \n",
       "318  1350.0000    4       3.0  Semi-Furnished   \n",
       "319   850.0000    3       2.0  Semi-Furnished   \n",
       "320   846.0000    2       1.0     Unfurnished   \n",
       "321  1300.0000    4       3.0       Furnished   \n",
       "322   900.0000    3       2.0  Semi-Furnished   \n",
       "323  1050.0000    3       2.0  Semi-Furnished   \n",
       "324   850.0000    2       2.0       Furnished   \n",
       "325  1650.0000    4       3.0       Furnished   \n",
       "326  1150.0000    2       2.0  Semi-Furnished   \n",
       "327   495.1394    1       1.0       Furnished   \n",
       "328  1053.0000    3       2.0       Furnished   \n",
       "331   540.0000    2       1.0       Furnished   \n",
       "332   747.0000    2       2.0       Furnished   \n",
       "333   720.0000    2       1.0     Unfurnished   \n",
       "334   376.7365    1       1.0  Semi-Furnished   \n",
       "335  1125.0000    2       2.0     Unfurnished   \n",
       "336   713.0000    2       2.0  Semi-Furnished   \n",
       "337   360.0000    1       1.0     Unfurnished   \n",
       "338   900.0000    2       2.0  Semi-Furnished   \n",
       "339   713.0000    3       1.0     Unfurnished   \n",
       "340   504.0000    2       1.0       Furnished   \n",
       "341    70.0000    1       2.0     Unfurnished   \n",
       "342   850.0000    3       2.0       Furnished   \n",
       "343  2430.0000    4       3.0       Furnished   \n",
       "344  2475.0000    3       3.0       Furnished   \n",
       "345  2970.0000    7       4.0       Furnished   \n",
       "346  2250.0000    3       2.0       Furnished   \n",
       "347  1500.0000    5       3.0       Furnished   \n",
       "348  1512.0000    2       2.0       Furnished   \n",
       "350  2160.0000    3       3.0       Furnished   \n",
       "351   630.0000    3       2.0       Furnished   \n",
       "352   324.0000    6       3.0       Furnished   \n",
       "353   720.0000    6       5.0       Furnished   \n",
       "354   675.0000    4       2.0       Furnished   \n",
       "355   700.0000    2       1.0       Furnished   \n",
       "356   675.0000    4       3.0       Furnished   \n",
       "357   720.0000    4       2.0       Furnished   \n",
       "358   850.0000    2       2.0       Furnished   \n",
       "513  1250.0000    2       1.0  Semi-Furnished   \n",
       "514   504.0000    3       1.0  Semi-Furnished   \n",
       "515    65.0000    3       2.0  Semi-Furnished   \n",
       "516   450.0000    2       1.0     Unfurnished   \n",
       "517  1800.0000    4       2.0       Furnished   \n",
       "518  1800.0000    4       3.0       Furnished   \n",
       "519  1530.0000    5       2.0       Furnished   \n",
       "526   900.0000    4       1.0       Furnished   \n",
       "529    50.0000    2       1.0  Semi-Furnished   \n",
       "\n",
       "                                           Locality  Parking     Price  \\\n",
       "305                       Naveen Shahdara, Shahdara      1.0   9300000   \n",
       "306                                        Shahdara      1.0   2700000   \n",
       "307                         Vishwas Nagar, Shahdara      1.0   6500000   \n",
       "308        DDA RPS Flats, Mansarowar Park, Shahdara      1.0   5800000   \n",
       "309                                        Shahdara      1.0   5500000   \n",
       "310                          Yamuna Vihar, Shahdara      1.0   6000000   \n",
       "311                          Balbir Nagar, Shahdara      1.0   4500000   \n",
       "312                                        Shahdara      2.0   4100000   \n",
       "313                             Ram Nagar, Shahdara      2.0   3800000   \n",
       "314                                        Shahdara      1.0   3300000   \n",
       "315                         Rohtash Nagar, Shahdara      1.0   2900000   \n",
       "316                   Ram Nagar Extension, Shahdara      1.0   2000000   \n",
       "317                               Maujpur, Shahdara      1.0   1550000   \n",
       "318                       Mansarowar Park, Shahdara      1.0  11300000   \n",
       "319                      Gorakh Park West, Shahdara      1.0   4500000   \n",
       "320                     Shivnam Apartment, Shahdara      1.0   3300000   \n",
       "321                       Mansarowar Park, Shahdara      1.0  11500000   \n",
       "322                   Ram Nagar Extension, Shahdara      1.0   6000000   \n",
       "323        Hans Apartments, Vishwas Nagar, Shahdara      1.0   9000000   \n",
       "324                          Jyoti Colony, Shahdara      1.0   4500000   \n",
       "325                                        Shahdara      1.0  14000000   \n",
       "326             Ahinsha Vatika, Ram Nagar, Shahdara      1.0   7300000   \n",
       "327                                        Shahdara      1.0   1900000   \n",
       "328                       Naveen Shahdara, Shahdara      4.0   7000000   \n",
       "331                          Yamuna Vihar, Shahdara      1.0   2700000   \n",
       "332                          Yamuna Vihar, Shahdara      1.0   6500000   \n",
       "333                          Yamuna Vihar, Shahdara      1.0   4000000   \n",
       "334                          Yamuna Vihar, Shahdara      1.0   3000000   \n",
       "335                          Yamuna Vihar, Shahdara      1.0   5000000   \n",
       "336                          Yamuna Vihar, Shahdara      1.0   6000000   \n",
       "337                          Yamuna Vihar, Shahdara      1.0   2500000   \n",
       "338                          Yamuna Vihar, Shahdara      1.0   6500000   \n",
       "339                          Yamuna Vihar, Shahdara      1.0   8000000   \n",
       "340                          Yamuna Vihar, Shahdara      1.0   2700000   \n",
       "341                          Yamuna Vihar, Shahdara      1.0   4500000   \n",
       "342                          Yamuna Vihar, Shahdara      1.0   5700000   \n",
       "343                          Yamuna Vihar, Shahdara      1.0  25000000   \n",
       "344                          Yamuna Vihar, Shahdara      1.0  70000000   \n",
       "345                          Yamuna Vihar, Shahdara      1.0  26500000   \n",
       "346                          Yamuna Vihar, Shahdara      1.0  18500000   \n",
       "347                          Yamuna Vihar, Shahdara      1.0  30000000   \n",
       "348                          Yamuna Vihar, Shahdara      1.0  22000000   \n",
       "350                          Yamuna Vihar, Shahdara      1.0  65000000   \n",
       "351                          Yamuna Vihar, Shahdara      1.0  22500000   \n",
       "352                          Yamuna Vihar, Shahdara      1.0   8700000   \n",
       "353                          Yamuna Vihar, Shahdara      1.0  22000000   \n",
       "354                          Yamuna Vihar, Shahdara      2.0  18500000   \n",
       "355                          Yamuna Vihar, Shahdara      2.0  16000000   \n",
       "356                          Yamuna Vihar, Shahdara      2.0  16000000   \n",
       "357                          Yamuna Vihar, Shahdara      2.0   9000000   \n",
       "358                          Jyoti Colony, Shahdara      1.0   4500000   \n",
       "513  DDA Flats Mansarovar Park, Seelampur, Shahdara      NaN   7500000   \n",
       "514                             Seelampur, Shahdara      NaN   3600000   \n",
       "515                        Shanti Mohalla, Shahdara      NaN  35000000   \n",
       "516                             Seelampur, Shahdara      NaN   6000000   \n",
       "517                        Rajgarh Colony, Shahdara      NaN  17500000   \n",
       "518                      Kanti Nagar East, Shahdara      NaN  35000000   \n",
       "519                          Raghubarpura, Shahdara      NaN  10200000   \n",
       "526                          Shastri Park, Shahdara      1.0  15000000   \n",
       "529                          Shastri Park, Shahdara      1.0   1950000   \n",
       "\n",
       "            Status   Transaction           Type  Per_Sqft  \n",
       "305  Ready_to_move        Resale  Builder_Floor    6526.0  \n",
       "306  Ready_to_move        Resale      Apartment    6526.0  \n",
       "307  Ready_to_move  New_Property  Builder_Floor    6526.0  \n",
       "308  Ready_to_move        Resale      Apartment    6526.0  \n",
       "309  Ready_to_move        Resale      Apartment    6526.0  \n",
       "310  Ready_to_move        Resale  Builder_Floor    6526.0  \n",
       "311  Ready_to_move        Resale  Builder_Floor    6526.0  \n",
       "312  Ready_to_move        Resale  Builder_Floor    6526.0  \n",
       "313  Ready_to_move        Resale  Builder_Floor    6526.0  \n",
       "314  Ready_to_move        Resale      Apartment    6526.0  \n",
       "315  Ready_to_move  New_Property  Builder_Floor    6526.0  \n",
       "316  Ready_to_move        Resale  Builder_Floor    6526.0  \n",
       "317  Ready_to_move  New_Property  Builder_Floor    6526.0  \n",
       "318  Ready_to_move  New_Property  Builder_Floor    6526.0  \n",
       "319  Ready_to_move        Resale  Builder_Floor    6526.0  \n",
       "320  Ready_to_move  New_Property      Apartment    3901.0  \n",
       "321  Ready_to_move  New_Property  Builder_Floor    3901.0  \n",
       "322   Almost_ready  New_Property  Builder_Floor    3901.0  \n",
       "323  Ready_to_move        Resale      Apartment    3901.0  \n",
       "324  Ready_to_move        Resale  Builder_Floor    3901.0  \n",
       "325   Almost_ready  New_Property      Apartment    3901.0  \n",
       "326  Ready_to_move        Resale      Apartment    6347.0  \n",
       "327  Ready_to_move        Resale  Builder_Floor   41304.0  \n",
       "328  Ready_to_move        Resale  Builder_Floor   41304.0  \n",
       "331  Ready_to_move  New_Property      Apartment    5000.0  \n",
       "332  Ready_to_move        Resale  Builder_Floor    8701.0  \n",
       "333  Ready_to_move        Resale  Builder_Floor    5556.0  \n",
       "334  Ready_to_move  New_Property      Apartment   85715.0  \n",
       "335  Ready_to_move        Resale  Builder_Floor    4444.0  \n",
       "336  Ready_to_move  New_Property  Builder_Floor    4444.0  \n",
       "337  Ready_to_move        Resale  Builder_Floor    6944.0  \n",
       "338  Ready_to_move        Resale      Apartment    7222.0  \n",
       "339  Ready_to_move        Resale      Apartment   11220.0  \n",
       "340  Ready_to_move        Resale  Builder_Floor    5357.0  \n",
       "341  Ready_to_move        Resale      Apartment    5357.0  \n",
       "342  Ready_to_move        Resale  Builder_Floor    6706.0  \n",
       "343  Ready_to_move        Resale  Builder_Floor   10288.0  \n",
       "344  Ready_to_move        Resale  Builder_Floor   28283.0  \n",
       "345  Ready_to_move        Resale  Builder_Floor    8923.0  \n",
       "346  Ready_to_move        Resale  Builder_Floor    8222.0  \n",
       "347  Ready_to_move        Resale  Builder_Floor   20000.0  \n",
       "348  Ready_to_move        Resale  Builder_Floor   14550.0  \n",
       "350  Ready_to_move        Resale  Builder_Floor   30093.0  \n",
       "351  Ready_to_move        Resale  Builder_Floor   35714.0  \n",
       "352  Ready_to_move        Resale  Builder_Floor   35714.0  \n",
       "353  Ready_to_move        Resale  Builder_Floor   35714.0  \n",
       "354  Ready_to_move        Resale  Builder_Floor   35714.0  \n",
       "355  Ready_to_move  New_Property  Builder_Floor   22857.0  \n",
       "356  Ready_to_move        Resale  Builder_Floor   22857.0  \n",
       "357  Ready_to_move        Resale  Builder_Floor   12500.0  \n",
       "358  Ready_to_move        Resale  Builder_Floor   12500.0  \n",
       "513  Ready_to_move        Resale      Apartment    4444.0  \n",
       "514  Ready_to_move        Resale      Apartment    7143.0  \n",
       "515  Ready_to_move  New_Property      Apartment    7143.0  \n",
       "516  Ready_to_move        Resale      Apartment   13333.0  \n",
       "517  Ready_to_move        Resale  Builder_Floor    9722.0  \n",
       "518  Ready_to_move        Resale  Builder_Floor   19444.0  \n",
       "519  Ready_to_move        Resale  Builder_Floor    6667.0  \n",
       "526  Ready_to_move        Resale      Apartment    6667.0  \n",
       "529  Ready_to_move  New_Property      Apartment    6667.0  "
      ]
     },
     "execution_count": 25,
     "metadata": {},
     "output_type": "execute_result"
    }
   ],
   "source": [
    "df[df.Locality.str.contains(\"Shahdara\")].head(60)"
   ]
  },
  {
   "cell_type": "code",
   "execution_count": 26,
   "metadata": {
    "colab": {
     "base_uri": "https://localhost:8080/",
     "height": 0
    },
    "id": "OzyoI2sM2yXw",
    "outputId": "04a773a1-97ce-4976-a195-79b71ffd27f2"
   },
   "outputs": [
    {
     "data": {
      "text/html": [
       "<div>\n",
       "<style scoped>\n",
       "    .dataframe tbody tr th:only-of-type {\n",
       "        vertical-align: middle;\n",
       "    }\n",
       "\n",
       "    .dataframe tbody tr th {\n",
       "        vertical-align: top;\n",
       "    }\n",
       "\n",
       "    .dataframe thead th {\n",
       "        text-align: right;\n",
       "    }\n",
       "</style>\n",
       "<table border=\"1\" class=\"dataframe\">\n",
       "  <thead>\n",
       "    <tr style=\"text-align: right;\">\n",
       "      <th></th>\n",
       "      <th>Area</th>\n",
       "      <th>BHK</th>\n",
       "      <th>Bathroom</th>\n",
       "      <th>Furnishing</th>\n",
       "      <th>Locality</th>\n",
       "      <th>Parking</th>\n",
       "      <th>Price</th>\n",
       "      <th>Status</th>\n",
       "      <th>Transaction</th>\n",
       "      <th>Type</th>\n",
       "      <th>Per_Sqft</th>\n",
       "    </tr>\n",
       "  </thead>\n",
       "  <tbody>\n",
       "    <tr>\n",
       "      <th>505</th>\n",
       "      <td>1550.0000</td>\n",
       "      <td>4</td>\n",
       "      <td>3.0</td>\n",
       "      <td>Semi-Furnished</td>\n",
       "      <td>Rohini Sector 24</td>\n",
       "      <td>1.0</td>\n",
       "      <td>13000000</td>\n",
       "      <td>Ready_to_move</td>\n",
       "      <td>New_Property</td>\n",
       "      <td>Builder_Floor</td>\n",
       "      <td>30556.0</td>\n",
       "    </tr>\n",
       "    <tr>\n",
       "      <th>506</th>\n",
       "      <td>1600.0000</td>\n",
       "      <td>3</td>\n",
       "      <td>3.0</td>\n",
       "      <td>Semi-Furnished</td>\n",
       "      <td>Greater Kailash 1</td>\n",
       "      <td>1.0</td>\n",
       "      <td>30000000</td>\n",
       "      <td>Ready_to_move</td>\n",
       "      <td>New_Property</td>\n",
       "      <td>Builder_Floor</td>\n",
       "      <td>18750.0</td>\n",
       "    </tr>\n",
       "    <tr>\n",
       "      <th>507</th>\n",
       "      <td>700.0000</td>\n",
       "      <td>2</td>\n",
       "      <td>2.0</td>\n",
       "      <td>Semi-Furnished</td>\n",
       "      <td>Khanpur, Madangir</td>\n",
       "      <td>1.0</td>\n",
       "      <td>2400000</td>\n",
       "      <td>Ready_to_move</td>\n",
       "      <td>New_Property</td>\n",
       "      <td>Builder_Floor</td>\n",
       "      <td>18750.0</td>\n",
       "    </tr>\n",
       "    <tr>\n",
       "      <th>508</th>\n",
       "      <td>45.0000</td>\n",
       "      <td>4</td>\n",
       "      <td>3.0</td>\n",
       "      <td>Unfurnished</td>\n",
       "      <td>Batla House, Okhla</td>\n",
       "      <td>1.0</td>\n",
       "      <td>5500000</td>\n",
       "      <td>Ready_to_move</td>\n",
       "      <td>New_Property</td>\n",
       "      <td>Builder_Floor</td>\n",
       "      <td>18750.0</td>\n",
       "    </tr>\n",
       "    <tr>\n",
       "      <th>513</th>\n",
       "      <td>1250.0000</td>\n",
       "      <td>2</td>\n",
       "      <td>1.0</td>\n",
       "      <td>Semi-Furnished</td>\n",
       "      <td>DDA Flats Mansarovar Park, Seelampur, Shahdara</td>\n",
       "      <td>NaN</td>\n",
       "      <td>7500000</td>\n",
       "      <td>Ready_to_move</td>\n",
       "      <td>Resale</td>\n",
       "      <td>Apartment</td>\n",
       "      <td>4444.0</td>\n",
       "    </tr>\n",
       "    <tr>\n",
       "      <th>514</th>\n",
       "      <td>504.0000</td>\n",
       "      <td>3</td>\n",
       "      <td>1.0</td>\n",
       "      <td>Semi-Furnished</td>\n",
       "      <td>Seelampur, Shahdara</td>\n",
       "      <td>NaN</td>\n",
       "      <td>3600000</td>\n",
       "      <td>Ready_to_move</td>\n",
       "      <td>Resale</td>\n",
       "      <td>Apartment</td>\n",
       "      <td>7143.0</td>\n",
       "    </tr>\n",
       "    <tr>\n",
       "      <th>515</th>\n",
       "      <td>65.0000</td>\n",
       "      <td>3</td>\n",
       "      <td>2.0</td>\n",
       "      <td>Semi-Furnished</td>\n",
       "      <td>Shanti Mohalla, Shahdara</td>\n",
       "      <td>NaN</td>\n",
       "      <td>35000000</td>\n",
       "      <td>Ready_to_move</td>\n",
       "      <td>New_Property</td>\n",
       "      <td>Apartment</td>\n",
       "      <td>7143.0</td>\n",
       "    </tr>\n",
       "    <tr>\n",
       "      <th>516</th>\n",
       "      <td>450.0000</td>\n",
       "      <td>2</td>\n",
       "      <td>1.0</td>\n",
       "      <td>Unfurnished</td>\n",
       "      <td>Seelampur, Shahdara</td>\n",
       "      <td>NaN</td>\n",
       "      <td>6000000</td>\n",
       "      <td>Ready_to_move</td>\n",
       "      <td>Resale</td>\n",
       "      <td>Apartment</td>\n",
       "      <td>13333.0</td>\n",
       "    </tr>\n",
       "    <tr>\n",
       "      <th>517</th>\n",
       "      <td>1800.0000</td>\n",
       "      <td>4</td>\n",
       "      <td>2.0</td>\n",
       "      <td>Furnished</td>\n",
       "      <td>Rajgarh Colony, Shahdara</td>\n",
       "      <td>NaN</td>\n",
       "      <td>17500000</td>\n",
       "      <td>Ready_to_move</td>\n",
       "      <td>Resale</td>\n",
       "      <td>Builder_Floor</td>\n",
       "      <td>9722.0</td>\n",
       "    </tr>\n",
       "    <tr>\n",
       "      <th>518</th>\n",
       "      <td>1800.0000</td>\n",
       "      <td>4</td>\n",
       "      <td>3.0</td>\n",
       "      <td>Furnished</td>\n",
       "      <td>Kanti Nagar East, Shahdara</td>\n",
       "      <td>NaN</td>\n",
       "      <td>35000000</td>\n",
       "      <td>Ready_to_move</td>\n",
       "      <td>Resale</td>\n",
       "      <td>Builder_Floor</td>\n",
       "      <td>19444.0</td>\n",
       "    </tr>\n",
       "    <tr>\n",
       "      <th>519</th>\n",
       "      <td>1530.0000</td>\n",
       "      <td>5</td>\n",
       "      <td>2.0</td>\n",
       "      <td>Furnished</td>\n",
       "      <td>Raghubarpura, Shahdara</td>\n",
       "      <td>NaN</td>\n",
       "      <td>10200000</td>\n",
       "      <td>Ready_to_move</td>\n",
       "      <td>Resale</td>\n",
       "      <td>Builder_Floor</td>\n",
       "      <td>6667.0</td>\n",
       "    </tr>\n",
       "    <tr>\n",
       "      <th>520</th>\n",
       "      <td>1750.0000</td>\n",
       "      <td>4</td>\n",
       "      <td>4.0</td>\n",
       "      <td>Unfurnished</td>\n",
       "      <td>Vasant Kunj Sector C</td>\n",
       "      <td>1.0</td>\n",
       "      <td>29000000</td>\n",
       "      <td>Ready_to_move</td>\n",
       "      <td>New_Property</td>\n",
       "      <td>Apartment</td>\n",
       "      <td>6667.0</td>\n",
       "    </tr>\n",
       "    <tr>\n",
       "      <th>521</th>\n",
       "      <td>2210.0000</td>\n",
       "      <td>4</td>\n",
       "      <td>3.0</td>\n",
       "      <td>Semi-Furnished</td>\n",
       "      <td>Sukhdev Vihar, Okhla</td>\n",
       "      <td>1.0</td>\n",
       "      <td>41000000</td>\n",
       "      <td>Ready_to_move</td>\n",
       "      <td>Resale</td>\n",
       "      <td>Builder_Floor</td>\n",
       "      <td>6667.0</td>\n",
       "    </tr>\n",
       "    <tr>\n",
       "      <th>522</th>\n",
       "      <td>760.0000</td>\n",
       "      <td>3</td>\n",
       "      <td>2.0</td>\n",
       "      <td>Furnished</td>\n",
       "      <td>Geeta Colony</td>\n",
       "      <td>1.0</td>\n",
       "      <td>6000000</td>\n",
       "      <td>Ready_to_move</td>\n",
       "      <td>Resale</td>\n",
       "      <td>Builder_Floor</td>\n",
       "      <td>6667.0</td>\n",
       "    </tr>\n",
       "    <tr>\n",
       "      <th>523</th>\n",
       "      <td>400.0000</td>\n",
       "      <td>2</td>\n",
       "      <td>1.0</td>\n",
       "      <td>Furnished</td>\n",
       "      <td>Krishna Nagar Block A</td>\n",
       "      <td>1.0</td>\n",
       "      <td>2500000</td>\n",
       "      <td>Ready_to_move</td>\n",
       "      <td>New_Property</td>\n",
       "      <td>Apartment</td>\n",
       "      <td>6667.0</td>\n",
       "    </tr>\n",
       "    <tr>\n",
       "      <th>524</th>\n",
       "      <td>380.0000</td>\n",
       "      <td>1</td>\n",
       "      <td>1.0</td>\n",
       "      <td>Unfurnished</td>\n",
       "      <td>Geeta Colony</td>\n",
       "      <td>1.0</td>\n",
       "      <td>2200000</td>\n",
       "      <td>Ready_to_move</td>\n",
       "      <td>Resale</td>\n",
       "      <td>Builder_Floor</td>\n",
       "      <td>6667.0</td>\n",
       "    </tr>\n",
       "    <tr>\n",
       "      <th>525</th>\n",
       "      <td>904.1676</td>\n",
       "      <td>2</td>\n",
       "      <td>2.0</td>\n",
       "      <td>Furnished</td>\n",
       "      <td>Taj Enclave, Khairatabad</td>\n",
       "      <td>1.0</td>\n",
       "      <td>21500000</td>\n",
       "      <td>Ready_to_move</td>\n",
       "      <td>New_Property</td>\n",
       "      <td>Apartment</td>\n",
       "      <td>6667.0</td>\n",
       "    </tr>\n",
       "    <tr>\n",
       "      <th>526</th>\n",
       "      <td>900.0000</td>\n",
       "      <td>4</td>\n",
       "      <td>1.0</td>\n",
       "      <td>Furnished</td>\n",
       "      <td>Shastri Park, Shahdara</td>\n",
       "      <td>1.0</td>\n",
       "      <td>15000000</td>\n",
       "      <td>Ready_to_move</td>\n",
       "      <td>Resale</td>\n",
       "      <td>Apartment</td>\n",
       "      <td>6667.0</td>\n",
       "    </tr>\n",
       "    <tr>\n",
       "      <th>527</th>\n",
       "      <td>810.0000</td>\n",
       "      <td>5</td>\n",
       "      <td>6.0</td>\n",
       "      <td>Furnished</td>\n",
       "      <td>Geeta Colony</td>\n",
       "      <td>1.0</td>\n",
       "      <td>28900000</td>\n",
       "      <td>Ready_to_move</td>\n",
       "      <td>Resale</td>\n",
       "      <td>Apartment</td>\n",
       "      <td>6667.0</td>\n",
       "    </tr>\n",
       "    <tr>\n",
       "      <th>528</th>\n",
       "      <td>100.0000</td>\n",
       "      <td>3</td>\n",
       "      <td>2.0</td>\n",
       "      <td>Unfurnished</td>\n",
       "      <td>Geeta Colony</td>\n",
       "      <td>1.0</td>\n",
       "      <td>5500000</td>\n",
       "      <td>Ready_to_move</td>\n",
       "      <td>Resale</td>\n",
       "      <td>Builder_Floor</td>\n",
       "      <td>6667.0</td>\n",
       "    </tr>\n",
       "    <tr>\n",
       "      <th>529</th>\n",
       "      <td>50.0000</td>\n",
       "      <td>2</td>\n",
       "      <td>1.0</td>\n",
       "      <td>Semi-Furnished</td>\n",
       "      <td>Shastri Park, Shahdara</td>\n",
       "      <td>1.0</td>\n",
       "      <td>1950000</td>\n",
       "      <td>Ready_to_move</td>\n",
       "      <td>New_Property</td>\n",
       "      <td>Apartment</td>\n",
       "      <td>6667.0</td>\n",
       "    </tr>\n",
       "    <tr>\n",
       "      <th>530</th>\n",
       "      <td>58.0000</td>\n",
       "      <td>2</td>\n",
       "      <td>1.0</td>\n",
       "      <td>Unfurnished</td>\n",
       "      <td>Geeta Colony</td>\n",
       "      <td>1.0</td>\n",
       "      <td>3800000</td>\n",
       "      <td>Ready_to_move</td>\n",
       "      <td>Resale</td>\n",
       "      <td>Apartment</td>\n",
       "      <td>6667.0</td>\n",
       "    </tr>\n",
       "    <tr>\n",
       "      <th>531</th>\n",
       "      <td>900.0000</td>\n",
       "      <td>2</td>\n",
       "      <td>1.0</td>\n",
       "      <td>Semi-Furnished</td>\n",
       "      <td>Sitaram Bazar, Chandni Chowk</td>\n",
       "      <td>1.0</td>\n",
       "      <td>6200000</td>\n",
       "      <td>Ready_to_move</td>\n",
       "      <td>New_Property</td>\n",
       "      <td>Builder_Floor</td>\n",
       "      <td>6667.0</td>\n",
       "    </tr>\n",
       "    <tr>\n",
       "      <th>532</th>\n",
       "      <td>1650.0000</td>\n",
       "      <td>4</td>\n",
       "      <td>3.0</td>\n",
       "      <td>Furnished</td>\n",
       "      <td>Shahdara</td>\n",
       "      <td>1.0</td>\n",
       "      <td>14000000</td>\n",
       "      <td>Almost_ready</td>\n",
       "      <td>New_Property</td>\n",
       "      <td>Apartment</td>\n",
       "      <td>6667.0</td>\n",
       "    </tr>\n",
       "    <tr>\n",
       "      <th>533</th>\n",
       "      <td>1000.0000</td>\n",
       "      <td>2</td>\n",
       "      <td>2.0</td>\n",
       "      <td>Unfurnished</td>\n",
       "      <td>Laxmi Nagar</td>\n",
       "      <td>1.0</td>\n",
       "      <td>7500000</td>\n",
       "      <td>Ready_to_move</td>\n",
       "      <td>Resale</td>\n",
       "      <td>Apartment</td>\n",
       "      <td>6667.0</td>\n",
       "    </tr>\n",
       "    <tr>\n",
       "      <th>534</th>\n",
       "      <td>852.0000</td>\n",
       "      <td>2</td>\n",
       "      <td>2.0</td>\n",
       "      <td>Unfurnished</td>\n",
       "      <td>Shahdara How Auctions work? The borrower has t...</td>\n",
       "      <td>1.0</td>\n",
       "      <td>2670000</td>\n",
       "      <td>Ready_to_move</td>\n",
       "      <td>Resale</td>\n",
       "      <td>Apartment</td>\n",
       "      <td>6667.0</td>\n",
       "    </tr>\n",
       "    <tr>\n",
       "      <th>535</th>\n",
       "      <td>700.0000</td>\n",
       "      <td>2</td>\n",
       "      <td>2.0</td>\n",
       "      <td>Semi-Furnished</td>\n",
       "      <td>Shahdara</td>\n",
       "      <td>1.0</td>\n",
       "      <td>2500000</td>\n",
       "      <td>Ready_to_move</td>\n",
       "      <td>Resale</td>\n",
       "      <td>Apartment</td>\n",
       "      <td>6667.0</td>\n",
       "    </tr>\n",
       "    <tr>\n",
       "      <th>536</th>\n",
       "      <td>990.0000</td>\n",
       "      <td>3</td>\n",
       "      <td>2.0</td>\n",
       "      <td>Unfurnished</td>\n",
       "      <td>Laxmi Nagar</td>\n",
       "      <td>1.0</td>\n",
       "      <td>4000000</td>\n",
       "      <td>Ready_to_move</td>\n",
       "      <td>Resale</td>\n",
       "      <td>Apartment</td>\n",
       "      <td>4040.0</td>\n",
       "    </tr>\n",
       "    <tr>\n",
       "      <th>537</th>\n",
       "      <td>450.0000</td>\n",
       "      <td>2</td>\n",
       "      <td>1.0</td>\n",
       "      <td>Semi-Furnished</td>\n",
       "      <td>Laxmi Nagar</td>\n",
       "      <td>1.0</td>\n",
       "      <td>3500000</td>\n",
       "      <td>Ready_to_move</td>\n",
       "      <td>Resale</td>\n",
       "      <td>Builder_Floor</td>\n",
       "      <td>7778.0</td>\n",
       "    </tr>\n",
       "    <tr>\n",
       "      <th>538</th>\n",
       "      <td>1000.0000</td>\n",
       "      <td>2</td>\n",
       "      <td>2.0</td>\n",
       "      <td>Unfurnished</td>\n",
       "      <td>Laxmi Nagar</td>\n",
       "      <td>1.0</td>\n",
       "      <td>5000000</td>\n",
       "      <td>Ready_to_move</td>\n",
       "      <td>New_Property</td>\n",
       "      <td>Apartment</td>\n",
       "      <td>5000.0</td>\n",
       "    </tr>\n",
       "    <tr>\n",
       "      <th>539</th>\n",
       "      <td>1700.0000</td>\n",
       "      <td>4</td>\n",
       "      <td>3.0</td>\n",
       "      <td>Semi-Furnished</td>\n",
       "      <td>Saket</td>\n",
       "      <td>2.0</td>\n",
       "      <td>29500000</td>\n",
       "      <td>Ready_to_move</td>\n",
       "      <td>Resale</td>\n",
       "      <td>Builder_Floor</td>\n",
       "      <td>21071.0</td>\n",
       "    </tr>\n",
       "    <tr>\n",
       "      <th>540</th>\n",
       "      <td>1350.0000</td>\n",
       "      <td>3</td>\n",
       "      <td>2.0</td>\n",
       "      <td>Unfurnished</td>\n",
       "      <td>Anupam Enclave, Saket</td>\n",
       "      <td>1.0</td>\n",
       "      <td>19000000</td>\n",
       "      <td>Ready_to_move</td>\n",
       "      <td>Resale</td>\n",
       "      <td>Builder_Floor</td>\n",
       "      <td>14074.0</td>\n",
       "    </tr>\n",
       "    <tr>\n",
       "      <th>541</th>\n",
       "      <td>2100.0000</td>\n",
       "      <td>4</td>\n",
       "      <td>3.0</td>\n",
       "      <td>Furnished</td>\n",
       "      <td>Saket</td>\n",
       "      <td>1.0</td>\n",
       "      <td>25500000</td>\n",
       "      <td>Ready_to_move</td>\n",
       "      <td>Resale</td>\n",
       "      <td>Apartment</td>\n",
       "      <td>14074.0</td>\n",
       "    </tr>\n",
       "    <tr>\n",
       "      <th>542</th>\n",
       "      <td>2600.0000</td>\n",
       "      <td>4</td>\n",
       "      <td>4.0</td>\n",
       "      <td>Semi-Furnished</td>\n",
       "      <td>Saket</td>\n",
       "      <td>3.0</td>\n",
       "      <td>75000000</td>\n",
       "      <td>Ready_to_move</td>\n",
       "      <td>New_Property</td>\n",
       "      <td>Builder_Floor</td>\n",
       "      <td>28846.0</td>\n",
       "    </tr>\n",
       "    <tr>\n",
       "      <th>543</th>\n",
       "      <td>3000.0000</td>\n",
       "      <td>4</td>\n",
       "      <td>5.0</td>\n",
       "      <td>Semi-Furnished</td>\n",
       "      <td>Saket</td>\n",
       "      <td>4.0</td>\n",
       "      <td>75000000</td>\n",
       "      <td>Ready_to_move</td>\n",
       "      <td>New_Property</td>\n",
       "      <td>Builder_Floor</td>\n",
       "      <td>28846.0</td>\n",
       "    </tr>\n",
       "    <tr>\n",
       "      <th>544</th>\n",
       "      <td>1450.0000</td>\n",
       "      <td>3</td>\n",
       "      <td>3.0</td>\n",
       "      <td>Semi-Furnished</td>\n",
       "      <td>RWA Flats, Saket</td>\n",
       "      <td>1.0</td>\n",
       "      <td>34000000</td>\n",
       "      <td>Almost_ready</td>\n",
       "      <td>New_Property</td>\n",
       "      <td>Builder_Floor</td>\n",
       "      <td>28846.0</td>\n",
       "    </tr>\n",
       "    <tr>\n",
       "      <th>545</th>\n",
       "      <td>2050.0000</td>\n",
       "      <td>4</td>\n",
       "      <td>4.0</td>\n",
       "      <td>Semi-Furnished</td>\n",
       "      <td>Saket</td>\n",
       "      <td>1.0</td>\n",
       "      <td>47500000</td>\n",
       "      <td>Ready_to_move</td>\n",
       "      <td>New_Property</td>\n",
       "      <td>Builder_Floor</td>\n",
       "      <td>28846.0</td>\n",
       "    </tr>\n",
       "    <tr>\n",
       "      <th>546</th>\n",
       "      <td>3000.0000</td>\n",
       "      <td>4</td>\n",
       "      <td>5.0</td>\n",
       "      <td>Semi-Furnished</td>\n",
       "      <td>Metrotech Builder Floors, Saket</td>\n",
       "      <td>3.0</td>\n",
       "      <td>75000000</td>\n",
       "      <td>Ready_to_move</td>\n",
       "      <td>New_Property</td>\n",
       "      <td>Builder_Floor</td>\n",
       "      <td>28846.0</td>\n",
       "    </tr>\n",
       "    <tr>\n",
       "      <th>547</th>\n",
       "      <td>1800.0000</td>\n",
       "      <td>3</td>\n",
       "      <td>3.0</td>\n",
       "      <td>Semi-Furnished</td>\n",
       "      <td>Saket Court Residential Complex, Saket</td>\n",
       "      <td>2.0</td>\n",
       "      <td>23000000</td>\n",
       "      <td>Ready_to_move</td>\n",
       "      <td>Resale</td>\n",
       "      <td>Apartment</td>\n",
       "      <td>28846.0</td>\n",
       "    </tr>\n",
       "    <tr>\n",
       "      <th>548</th>\n",
       "      <td>900.0000</td>\n",
       "      <td>3</td>\n",
       "      <td>2.0</td>\n",
       "      <td>Semi-Furnished</td>\n",
       "      <td>Press Enclave Society, Saket</td>\n",
       "      <td>1.0</td>\n",
       "      <td>24000000</td>\n",
       "      <td>Ready_to_move</td>\n",
       "      <td>Resale</td>\n",
       "      <td>Apartment</td>\n",
       "      <td>28846.0</td>\n",
       "    </tr>\n",
       "    <tr>\n",
       "      <th>549</th>\n",
       "      <td>1500.0000</td>\n",
       "      <td>3</td>\n",
       "      <td>2.0</td>\n",
       "      <td>Semi-Furnished</td>\n",
       "      <td>RWA Flats, Saket</td>\n",
       "      <td>2.0</td>\n",
       "      <td>21500000</td>\n",
       "      <td>Ready_to_move</td>\n",
       "      <td>Resale</td>\n",
       "      <td>Apartment</td>\n",
       "      <td>28846.0</td>\n",
       "    </tr>\n",
       "    <tr>\n",
       "      <th>550</th>\n",
       "      <td>1500.0000</td>\n",
       "      <td>3</td>\n",
       "      <td>2.0</td>\n",
       "      <td>Semi-Furnished</td>\n",
       "      <td>Saket</td>\n",
       "      <td>1.0</td>\n",
       "      <td>28500000</td>\n",
       "      <td>Ready_to_move</td>\n",
       "      <td>New_Property</td>\n",
       "      <td>Builder_Floor</td>\n",
       "      <td>28846.0</td>\n",
       "    </tr>\n",
       "    <tr>\n",
       "      <th>551</th>\n",
       "      <td>1800.0000</td>\n",
       "      <td>4</td>\n",
       "      <td>4.0</td>\n",
       "      <td>Semi-Furnished</td>\n",
       "      <td>Project Paryavaran Complex, Saket</td>\n",
       "      <td>1.0</td>\n",
       "      <td>12500000</td>\n",
       "      <td>Ready_to_move</td>\n",
       "      <td>Resale</td>\n",
       "      <td>Builder_Floor</td>\n",
       "      <td>6944.0</td>\n",
       "    </tr>\n",
       "    <tr>\n",
       "      <th>552</th>\n",
       "      <td>1674.0000</td>\n",
       "      <td>3</td>\n",
       "      <td>3.0</td>\n",
       "      <td>Unfurnished</td>\n",
       "      <td>Saket</td>\n",
       "      <td>1.0</td>\n",
       "      <td>45000000</td>\n",
       "      <td>Ready_to_move</td>\n",
       "      <td>Resale</td>\n",
       "      <td>Builder_Floor</td>\n",
       "      <td>6944.0</td>\n",
       "    </tr>\n",
       "    <tr>\n",
       "      <th>553</th>\n",
       "      <td>2025.0000</td>\n",
       "      <td>4</td>\n",
       "      <td>3.0</td>\n",
       "      <td>Furnished</td>\n",
       "      <td>Saket</td>\n",
       "      <td>2.0</td>\n",
       "      <td>30500000</td>\n",
       "      <td>Ready_to_move</td>\n",
       "      <td>Resale</td>\n",
       "      <td>Builder_Floor</td>\n",
       "      <td>6944.0</td>\n",
       "    </tr>\n",
       "    <tr>\n",
       "      <th>554</th>\n",
       "      <td>1300.0000</td>\n",
       "      <td>3</td>\n",
       "      <td>3.0</td>\n",
       "      <td>Semi-Furnished</td>\n",
       "      <td>Saket</td>\n",
       "      <td>3.0</td>\n",
       "      <td>22500000</td>\n",
       "      <td>Ready_to_move</td>\n",
       "      <td>Resale</td>\n",
       "      <td>Builder_Floor</td>\n",
       "      <td>6944.0</td>\n",
       "    </tr>\n",
       "    <tr>\n",
       "      <th>555</th>\n",
       "      <td>990.0000</td>\n",
       "      <td>3</td>\n",
       "      <td>3.0</td>\n",
       "      <td>Furnished</td>\n",
       "      <td>Press Enclave Society, Saket</td>\n",
       "      <td>1.0</td>\n",
       "      <td>28000000</td>\n",
       "      <td>Ready_to_move</td>\n",
       "      <td>Resale</td>\n",
       "      <td>Apartment</td>\n",
       "      <td>6944.0</td>\n",
       "    </tr>\n",
       "    <tr>\n",
       "      <th>556</th>\n",
       "      <td>2100.0000</td>\n",
       "      <td>3</td>\n",
       "      <td>4.0</td>\n",
       "      <td>Semi-Furnished</td>\n",
       "      <td>Saket</td>\n",
       "      <td>2.0</td>\n",
       "      <td>25000000</td>\n",
       "      <td>Ready_to_move</td>\n",
       "      <td>Resale</td>\n",
       "      <td>Builder_Floor</td>\n",
       "      <td>14705.0</td>\n",
       "    </tr>\n",
       "    <tr>\n",
       "      <th>557</th>\n",
       "      <td>2250.0000</td>\n",
       "      <td>4</td>\n",
       "      <td>4.0</td>\n",
       "      <td>Semi-Furnished</td>\n",
       "      <td>Saket</td>\n",
       "      <td>2.0</td>\n",
       "      <td>33700000</td>\n",
       "      <td>Ready_to_move</td>\n",
       "      <td>Resale</td>\n",
       "      <td>Builder_Floor</td>\n",
       "      <td>14705.0</td>\n",
       "    </tr>\n",
       "    <tr>\n",
       "      <th>558</th>\n",
       "      <td>1500.0000</td>\n",
       "      <td>3</td>\n",
       "      <td>3.0</td>\n",
       "      <td>Semi-Furnished</td>\n",
       "      <td>Saket</td>\n",
       "      <td>1.0</td>\n",
       "      <td>27000000</td>\n",
       "      <td>Ready_to_move</td>\n",
       "      <td>Resale</td>\n",
       "      <td>Builder_Floor</td>\n",
       "      <td>18000.0</td>\n",
       "    </tr>\n",
       "    <tr>\n",
       "      <th>559</th>\n",
       "      <td>2700.0000</td>\n",
       "      <td>4</td>\n",
       "      <td>4.0</td>\n",
       "      <td>Semi-Furnished</td>\n",
       "      <td>Saket</td>\n",
       "      <td>2.0</td>\n",
       "      <td>43500000</td>\n",
       "      <td>Ready_to_move</td>\n",
       "      <td>New_Property</td>\n",
       "      <td>Builder_Floor</td>\n",
       "      <td>18000.0</td>\n",
       "    </tr>\n",
       "    <tr>\n",
       "      <th>560</th>\n",
       "      <td>1700.0000</td>\n",
       "      <td>3</td>\n",
       "      <td>3.0</td>\n",
       "      <td>Semi-Furnished</td>\n",
       "      <td>RWA Flats, Saket</td>\n",
       "      <td>2.0</td>\n",
       "      <td>29000000</td>\n",
       "      <td>Ready_to_move</td>\n",
       "      <td>New_Property</td>\n",
       "      <td>Builder_Floor</td>\n",
       "      <td>18000.0</td>\n",
       "    </tr>\n",
       "    <tr>\n",
       "      <th>561</th>\n",
       "      <td>1700.0000</td>\n",
       "      <td>3</td>\n",
       "      <td>3.0</td>\n",
       "      <td>Semi-Furnished</td>\n",
       "      <td>Saket</td>\n",
       "      <td>2.0</td>\n",
       "      <td>30000000</td>\n",
       "      <td>Ready_to_move</td>\n",
       "      <td>Resale</td>\n",
       "      <td>Builder_Floor</td>\n",
       "      <td>17647.0</td>\n",
       "    </tr>\n",
       "    <tr>\n",
       "      <th>562</th>\n",
       "      <td>2050.0000</td>\n",
       "      <td>4</td>\n",
       "      <td>4.0</td>\n",
       "      <td>Semi-Furnished</td>\n",
       "      <td>Saket</td>\n",
       "      <td>2.0</td>\n",
       "      <td>52100000</td>\n",
       "      <td>Ready_to_move</td>\n",
       "      <td>New_Property</td>\n",
       "      <td>Apartment</td>\n",
       "      <td>17647.0</td>\n",
       "    </tr>\n",
       "    <tr>\n",
       "      <th>563</th>\n",
       "      <td>1800.0000</td>\n",
       "      <td>3</td>\n",
       "      <td>3.0</td>\n",
       "      <td>Unfurnished</td>\n",
       "      <td>Saket</td>\n",
       "      <td>1.0</td>\n",
       "      <td>32500000</td>\n",
       "      <td>Ready_to_move</td>\n",
       "      <td>New_Property</td>\n",
       "      <td>Builder_Floor</td>\n",
       "      <td>18055.0</td>\n",
       "    </tr>\n",
       "    <tr>\n",
       "      <th>564</th>\n",
       "      <td>1500.0000</td>\n",
       "      <td>3</td>\n",
       "      <td>2.0</td>\n",
       "      <td>Semi-Furnished</td>\n",
       "      <td>Saket</td>\n",
       "      <td>1.0</td>\n",
       "      <td>20500000</td>\n",
       "      <td>Ready_to_move</td>\n",
       "      <td>Resale</td>\n",
       "      <td>Apartment</td>\n",
       "      <td>18055.0</td>\n",
       "    </tr>\n",
       "  </tbody>\n",
       "</table>\n",
       "</div>"
      ],
      "text/plain": [
       "          Area  BHK  Bathroom      Furnishing  \\\n",
       "505  1550.0000    4       3.0  Semi-Furnished   \n",
       "506  1600.0000    3       3.0  Semi-Furnished   \n",
       "507   700.0000    2       2.0  Semi-Furnished   \n",
       "508    45.0000    4       3.0     Unfurnished   \n",
       "513  1250.0000    2       1.0  Semi-Furnished   \n",
       "514   504.0000    3       1.0  Semi-Furnished   \n",
       "515    65.0000    3       2.0  Semi-Furnished   \n",
       "516   450.0000    2       1.0     Unfurnished   \n",
       "517  1800.0000    4       2.0       Furnished   \n",
       "518  1800.0000    4       3.0       Furnished   \n",
       "519  1530.0000    5       2.0       Furnished   \n",
       "520  1750.0000    4       4.0     Unfurnished   \n",
       "521  2210.0000    4       3.0  Semi-Furnished   \n",
       "522   760.0000    3       2.0       Furnished   \n",
       "523   400.0000    2       1.0       Furnished   \n",
       "524   380.0000    1       1.0     Unfurnished   \n",
       "525   904.1676    2       2.0       Furnished   \n",
       "526   900.0000    4       1.0       Furnished   \n",
       "527   810.0000    5       6.0       Furnished   \n",
       "528   100.0000    3       2.0     Unfurnished   \n",
       "529    50.0000    2       1.0  Semi-Furnished   \n",
       "530    58.0000    2       1.0     Unfurnished   \n",
       "531   900.0000    2       1.0  Semi-Furnished   \n",
       "532  1650.0000    4       3.0       Furnished   \n",
       "533  1000.0000    2       2.0     Unfurnished   \n",
       "534   852.0000    2       2.0     Unfurnished   \n",
       "535   700.0000    2       2.0  Semi-Furnished   \n",
       "536   990.0000    3       2.0     Unfurnished   \n",
       "537   450.0000    2       1.0  Semi-Furnished   \n",
       "538  1000.0000    2       2.0     Unfurnished   \n",
       "539  1700.0000    4       3.0  Semi-Furnished   \n",
       "540  1350.0000    3       2.0     Unfurnished   \n",
       "541  2100.0000    4       3.0       Furnished   \n",
       "542  2600.0000    4       4.0  Semi-Furnished   \n",
       "543  3000.0000    4       5.0  Semi-Furnished   \n",
       "544  1450.0000    3       3.0  Semi-Furnished   \n",
       "545  2050.0000    4       4.0  Semi-Furnished   \n",
       "546  3000.0000    4       5.0  Semi-Furnished   \n",
       "547  1800.0000    3       3.0  Semi-Furnished   \n",
       "548   900.0000    3       2.0  Semi-Furnished   \n",
       "549  1500.0000    3       2.0  Semi-Furnished   \n",
       "550  1500.0000    3       2.0  Semi-Furnished   \n",
       "551  1800.0000    4       4.0  Semi-Furnished   \n",
       "552  1674.0000    3       3.0     Unfurnished   \n",
       "553  2025.0000    4       3.0       Furnished   \n",
       "554  1300.0000    3       3.0  Semi-Furnished   \n",
       "555   990.0000    3       3.0       Furnished   \n",
       "556  2100.0000    3       4.0  Semi-Furnished   \n",
       "557  2250.0000    4       4.0  Semi-Furnished   \n",
       "558  1500.0000    3       3.0  Semi-Furnished   \n",
       "559  2700.0000    4       4.0  Semi-Furnished   \n",
       "560  1700.0000    3       3.0  Semi-Furnished   \n",
       "561  1700.0000    3       3.0  Semi-Furnished   \n",
       "562  2050.0000    4       4.0  Semi-Furnished   \n",
       "563  1800.0000    3       3.0     Unfurnished   \n",
       "564  1500.0000    3       2.0  Semi-Furnished   \n",
       "\n",
       "                                              Locality  Parking     Price  \\\n",
       "505                                   Rohini Sector 24      1.0  13000000   \n",
       "506                                  Greater Kailash 1      1.0  30000000   \n",
       "507                                  Khanpur, Madangir      1.0   2400000   \n",
       "508                                 Batla House, Okhla      1.0   5500000   \n",
       "513     DDA Flats Mansarovar Park, Seelampur, Shahdara      NaN   7500000   \n",
       "514                                Seelampur, Shahdara      NaN   3600000   \n",
       "515                           Shanti Mohalla, Shahdara      NaN  35000000   \n",
       "516                                Seelampur, Shahdara      NaN   6000000   \n",
       "517                           Rajgarh Colony, Shahdara      NaN  17500000   \n",
       "518                         Kanti Nagar East, Shahdara      NaN  35000000   \n",
       "519                             Raghubarpura, Shahdara      NaN  10200000   \n",
       "520                               Vasant Kunj Sector C      1.0  29000000   \n",
       "521                               Sukhdev Vihar, Okhla      1.0  41000000   \n",
       "522                                       Geeta Colony      1.0   6000000   \n",
       "523                              Krishna Nagar Block A      1.0   2500000   \n",
       "524                                       Geeta Colony      1.0   2200000   \n",
       "525                           Taj Enclave, Khairatabad      1.0  21500000   \n",
       "526                             Shastri Park, Shahdara      1.0  15000000   \n",
       "527                                       Geeta Colony      1.0  28900000   \n",
       "528                                       Geeta Colony      1.0   5500000   \n",
       "529                             Shastri Park, Shahdara      1.0   1950000   \n",
       "530                                       Geeta Colony      1.0   3800000   \n",
       "531                       Sitaram Bazar, Chandni Chowk      1.0   6200000   \n",
       "532                                           Shahdara      1.0  14000000   \n",
       "533                                        Laxmi Nagar      1.0   7500000   \n",
       "534  Shahdara How Auctions work? The borrower has t...      1.0   2670000   \n",
       "535                                           Shahdara      1.0   2500000   \n",
       "536                                        Laxmi Nagar      1.0   4000000   \n",
       "537                                        Laxmi Nagar      1.0   3500000   \n",
       "538                                        Laxmi Nagar      1.0   5000000   \n",
       "539                                              Saket      2.0  29500000   \n",
       "540                              Anupam Enclave, Saket      1.0  19000000   \n",
       "541                                              Saket      1.0  25500000   \n",
       "542                                              Saket      3.0  75000000   \n",
       "543                                              Saket      4.0  75000000   \n",
       "544                                   RWA Flats, Saket      1.0  34000000   \n",
       "545                                              Saket      1.0  47500000   \n",
       "546                    Metrotech Builder Floors, Saket      3.0  75000000   \n",
       "547             Saket Court Residential Complex, Saket      2.0  23000000   \n",
       "548                       Press Enclave Society, Saket      1.0  24000000   \n",
       "549                                   RWA Flats, Saket      2.0  21500000   \n",
       "550                                              Saket      1.0  28500000   \n",
       "551                  Project Paryavaran Complex, Saket      1.0  12500000   \n",
       "552                                              Saket      1.0  45000000   \n",
       "553                                              Saket      2.0  30500000   \n",
       "554                                              Saket      3.0  22500000   \n",
       "555                       Press Enclave Society, Saket      1.0  28000000   \n",
       "556                                              Saket      2.0  25000000   \n",
       "557                                              Saket      2.0  33700000   \n",
       "558                                              Saket      1.0  27000000   \n",
       "559                                              Saket      2.0  43500000   \n",
       "560                                   RWA Flats, Saket      2.0  29000000   \n",
       "561                                              Saket      2.0  30000000   \n",
       "562                                              Saket      2.0  52100000   \n",
       "563                                              Saket      1.0  32500000   \n",
       "564                                              Saket      1.0  20500000   \n",
       "\n",
       "            Status   Transaction           Type  Per_Sqft  \n",
       "505  Ready_to_move  New_Property  Builder_Floor   30556.0  \n",
       "506  Ready_to_move  New_Property  Builder_Floor   18750.0  \n",
       "507  Ready_to_move  New_Property  Builder_Floor   18750.0  \n",
       "508  Ready_to_move  New_Property  Builder_Floor   18750.0  \n",
       "513  Ready_to_move        Resale      Apartment    4444.0  \n",
       "514  Ready_to_move        Resale      Apartment    7143.0  \n",
       "515  Ready_to_move  New_Property      Apartment    7143.0  \n",
       "516  Ready_to_move        Resale      Apartment   13333.0  \n",
       "517  Ready_to_move        Resale  Builder_Floor    9722.0  \n",
       "518  Ready_to_move        Resale  Builder_Floor   19444.0  \n",
       "519  Ready_to_move        Resale  Builder_Floor    6667.0  \n",
       "520  Ready_to_move  New_Property      Apartment    6667.0  \n",
       "521  Ready_to_move        Resale  Builder_Floor    6667.0  \n",
       "522  Ready_to_move        Resale  Builder_Floor    6667.0  \n",
       "523  Ready_to_move  New_Property      Apartment    6667.0  \n",
       "524  Ready_to_move        Resale  Builder_Floor    6667.0  \n",
       "525  Ready_to_move  New_Property      Apartment    6667.0  \n",
       "526  Ready_to_move        Resale      Apartment    6667.0  \n",
       "527  Ready_to_move        Resale      Apartment    6667.0  \n",
       "528  Ready_to_move        Resale  Builder_Floor    6667.0  \n",
       "529  Ready_to_move  New_Property      Apartment    6667.0  \n",
       "530  Ready_to_move        Resale      Apartment    6667.0  \n",
       "531  Ready_to_move  New_Property  Builder_Floor    6667.0  \n",
       "532   Almost_ready  New_Property      Apartment    6667.0  \n",
       "533  Ready_to_move        Resale      Apartment    6667.0  \n",
       "534  Ready_to_move        Resale      Apartment    6667.0  \n",
       "535  Ready_to_move        Resale      Apartment    6667.0  \n",
       "536  Ready_to_move        Resale      Apartment    4040.0  \n",
       "537  Ready_to_move        Resale  Builder_Floor    7778.0  \n",
       "538  Ready_to_move  New_Property      Apartment    5000.0  \n",
       "539  Ready_to_move        Resale  Builder_Floor   21071.0  \n",
       "540  Ready_to_move        Resale  Builder_Floor   14074.0  \n",
       "541  Ready_to_move        Resale      Apartment   14074.0  \n",
       "542  Ready_to_move  New_Property  Builder_Floor   28846.0  \n",
       "543  Ready_to_move  New_Property  Builder_Floor   28846.0  \n",
       "544   Almost_ready  New_Property  Builder_Floor   28846.0  \n",
       "545  Ready_to_move  New_Property  Builder_Floor   28846.0  \n",
       "546  Ready_to_move  New_Property  Builder_Floor   28846.0  \n",
       "547  Ready_to_move        Resale      Apartment   28846.0  \n",
       "548  Ready_to_move        Resale      Apartment   28846.0  \n",
       "549  Ready_to_move        Resale      Apartment   28846.0  \n",
       "550  Ready_to_move  New_Property  Builder_Floor   28846.0  \n",
       "551  Ready_to_move        Resale  Builder_Floor    6944.0  \n",
       "552  Ready_to_move        Resale  Builder_Floor    6944.0  \n",
       "553  Ready_to_move        Resale  Builder_Floor    6944.0  \n",
       "554  Ready_to_move        Resale  Builder_Floor    6944.0  \n",
       "555  Ready_to_move        Resale      Apartment    6944.0  \n",
       "556  Ready_to_move        Resale  Builder_Floor   14705.0  \n",
       "557  Ready_to_move        Resale  Builder_Floor   14705.0  \n",
       "558  Ready_to_move        Resale  Builder_Floor   18000.0  \n",
       "559  Ready_to_move  New_Property  Builder_Floor   18000.0  \n",
       "560  Ready_to_move  New_Property  Builder_Floor   18000.0  \n",
       "561  Ready_to_move        Resale  Builder_Floor   17647.0  \n",
       "562  Ready_to_move  New_Property      Apartment   17647.0  \n",
       "563  Ready_to_move  New_Property  Builder_Floor   18055.0  \n",
       "564  Ready_to_move        Resale      Apartment   18055.0  "
      ]
     },
     "execution_count": 26,
     "metadata": {},
     "output_type": "execute_result"
    }
   ],
   "source": [
    "df[444:500]"
   ]
  },
  {
   "cell_type": "markdown",
   "metadata": {
    "id": "5N77duTc47zQ"
   },
   "source": [
    "In Majority Value of Parking nan values is from Shahdra and in shahdra there are mostly 1 parking , So i am replacing nan values with 1."
   ]
  },
  {
   "cell_type": "code",
   "execution_count": 27,
   "metadata": {
    "id": "_I5M4O2_2RF_"
   },
   "outputs": [],
   "source": [
    "df['Parking'] = df['Parking'].fillna(\"1.0\")"
   ]
  },
  {
   "cell_type": "code",
   "execution_count": 28,
   "metadata": {
    "colab": {
     "base_uri": "https://localhost:8080/"
    },
    "id": "-1iTfXIa5qJ3",
    "outputId": "b6b5e825-0988-4119-a21a-198a5ca0d880"
   },
   "outputs": [
    {
     "data": {
      "text/plain": [
       "Area           0\n",
       "BHK            0\n",
       "Bathroom       0\n",
       "Furnishing     0\n",
       "Locality       0\n",
       "Parking        0\n",
       "Price          0\n",
       "Status         0\n",
       "Transaction    0\n",
       "Type           0\n",
       "Per_Sqft       0\n",
       "dtype: int64"
      ]
     },
     "execution_count": 28,
     "metadata": {},
     "output_type": "execute_result"
    }
   ],
   "source": [
    "df.isnull().sum()"
   ]
  },
  {
   "cell_type": "markdown",
   "metadata": {
    "id": "rDIL-5eJ5ri3"
   },
   "source": [
    "We have Done with Missing Values"
   ]
  },
  {
   "cell_type": "markdown",
   "metadata": {
    "id": "GHHMkeR57S8L"
   },
   "source": [
    "#EDA"
   ]
  },
  {
   "cell_type": "code",
   "execution_count": 29,
   "metadata": {
    "colab": {
     "base_uri": "https://localhost:8080/",
     "height": 0
    },
    "id": "rNnO6cchA_b-",
    "outputId": "c8d8df5d-731f-406f-8686-d7fad58faf66"
   },
   "outputs": [
    {
     "name": "stderr",
     "output_type": "stream",
     "text": [
      "C:\\Users\\sony\\anaconda3\\lib\\site-packages\\seaborn\\_decorators.py:36: FutureWarning: Pass the following variable as a keyword arg: x. From version 0.12, the only valid positional argument will be `data`, and passing other arguments without an explicit keyword will result in an error or misinterpretation.\n",
      "  warnings.warn(\n"
     ]
    },
    {
     "data": {
      "text/plain": [
       "<AxesSubplot:xlabel='BHK', ylabel='count'>"
      ]
     },
     "execution_count": 29,
     "metadata": {},
     "output_type": "execute_result"
    },
    {
     "data": {
      "image/png": "[encoded data removed]",
      "text/plain": [
       "<Figure size 432x288 with 1 Axes>"
      ]
     },
     "metadata": {
      "needs_background": "light"
     },
     "output_type": "display_data"
    }
   ],
   "source": [
    "sns.countplot(df['BHK'])"
   ]
  },
  {
   "cell_type": "code",
   "execution_count": 30,
   "metadata": {
    "colab": {
     "base_uri": "https://localhost:8080/",
     "height": 0
    },
    "id": "NbUxaCw9UCvf",
    "outputId": "600af3ea-c60f-44a7-80a2-e68c03333c6c"
   },
   "outputs": [
    {
     "name": "stderr",
     "output_type": "stream",
     "text": [
      "C:\\Users\\sony\\anaconda3\\lib\\site-packages\\seaborn\\_decorators.py:36: FutureWarning: Pass the following variable as a keyword arg: x. From version 0.12, the only valid positional argument will be `data`, and passing other arguments without an explicit keyword will result in an error or misinterpretation.\n",
      "  warnings.warn(\n"
     ]
    },
    {
     "data": {
      "text/plain": [
       "<AxesSubplot:xlabel='Bathroom', ylabel='count'>"
      ]
     },
     "execution_count": 30,
     "metadata": {},
     "output_type": "execute_result"
    },
    {
     "data": {
      "image/png": "[encoded data removed]",
      "text/plain": [
       "<Figure size 432x288 with 1 Axes>"
      ]
     },
     "metadata": {
      "needs_background": "light"
     },
     "output_type": "display_data"
    }
   ],
   "source": [
    "sns.countplot(df['Bathroom'])"
   ]
  },
  {
   "cell_type": "code",
   "execution_count": 31,
   "metadata": {
    "colab": {
     "base_uri": "https://localhost:8080/"
    },
    "id": "wALiOtLiA_Zm",
    "outputId": "a3d7532a-d5ff-41c0-8744-7aaf6e8ae674"
   },
   "outputs": [
    {
     "data": {
      "text/plain": [
       "3    416\n",
       "2    300\n",
       "4    183\n",
       "1     82\n",
       "5     26\n",
       "6      6\n",
       "7      1\n",
       "Name: BHK, dtype: int64"
      ]
     },
     "execution_count": 31,
     "metadata": {},
     "output_type": "execute_result"
    }
   ],
   "source": [
    "df['BHK'].value_counts()"
   ]
  },
  {
   "cell_type": "code",
   "execution_count": 32,
   "metadata": {
    "colab": {
     "base_uri": "https://localhost:8080/",
     "height": 0
    },
    "id": "8eAu_fvrUKZm",
    "outputId": "e7c26b2b-8bce-4985-aefe-7cf2411a5dc2"
   },
   "outputs": [
    {
     "data": {
      "text/plain": [
       "<AxesSubplot:>"
      ]
     },
     "execution_count": 32,
     "metadata": {},
     "output_type": "execute_result"
    },
    {
     "data": {
      "image/png": "[encoded data removed]",
      "text/plain": [
       "<Figure size 432x288 with 1 Axes>"
      ]
     },
     "metadata": {
      "needs_background": "light"
     },
     "output_type": "display_data"
    }
   ],
   "source": [
    "df.Furnishing.value_counts().plot.bar()"
   ]
  },
  {
   "cell_type": "code",
   "execution_count": 33,
   "metadata": {
    "colab": {
     "base_uri": "https://localhost:8080/",
     "height": 0
    },
    "id": "Cs40Id7MUW0G",
    "outputId": "05a239b0-b8dc-40d1-db5d-2d8996eebf66"
   },
   "outputs": [
    {
     "name": "stderr",
     "output_type": "stream",
     "text": [
      "C:\\Users\\sony\\anaconda3\\lib\\site-packages\\seaborn\\_decorators.py:36: FutureWarning: Pass the following variable as a keyword arg: x. From version 0.12, the only valid positional argument will be `data`, and passing other arguments without an explicit keyword will result in an error or misinterpretation.\n",
      "  warnings.warn(\n"
     ]
    },
    {
     "data": {
      "text/plain": [
       "<AxesSubplot:xlabel='Parking', ylabel='count'>"
      ]
     },
     "execution_count": 33,
     "metadata": {},
     "output_type": "execute_result"
    },
    {
     "data": {
      "image/png": "[encoded data removed]",
      "text/plain": [
       "<Figure size 432x288 with 1 Axes>"
      ]
     },
     "metadata": {
      "needs_background": "light"
     },
     "output_type": "display_data"
    }
   ],
   "source": [
    "sns.countplot(df.Parking)"
   ]
  },
  {
   "cell_type": "code",
   "execution_count": 34,
   "metadata": {
    "colab": {
     "base_uri": "https://localhost:8080/"
    },
    "id": "ZKkKxYrMUjHB",
    "outputId": "b1e71689-fa4a-4061-9849-3e72673d9a0a"
   },
   "outputs": [
    {
     "data": {
      "text/plain": [
       "1.0     671\n",
       "2.0     256\n",
       "3.0      52\n",
       "4.0      10\n",
       "1.0       9\n",
       "5.0       7\n",
       "39.0      7\n",
       "9.0       1\n",
       "10.0      1\n",
       "Name: Parking, dtype: int64"
      ]
     },
     "execution_count": 34,
     "metadata": {},
     "output_type": "execute_result"
    }
   ],
   "source": [
    "df.Parking.value_counts()"
   ]
  },
  {
   "cell_type": "code",
   "execution_count": 35,
   "metadata": {
    "colab": {
     "base_uri": "https://localhost:8080/",
     "height": 0
    },
    "id": "-x3qwS9iUe48",
    "outputId": "6da8c607-74c0-4660-ce47-0e229c378c01"
   },
   "outputs": [
    {
     "name": "stderr",
     "output_type": "stream",
     "text": [
      "C:\\Users\\sony\\anaconda3\\lib\\site-packages\\seaborn\\_decorators.py:36: FutureWarning: Pass the following variable as a keyword arg: x. From version 0.12, the only valid positional argument will be `data`, and passing other arguments without an explicit keyword will result in an error or misinterpretation.\n",
      "  warnings.warn(\n"
     ]
    },
    {
     "data": {
      "text/plain": [
       "<AxesSubplot:xlabel='Status', ylabel='count'>"
      ]
     },
     "execution_count": 35,
     "metadata": {},
     "output_type": "execute_result"
    },
    {
     "data": {
      "image/png": "[encoded data removed]",
      "text/plain": [
       "<Figure size 432x288 with 1 Axes>"
      ]
     },
     "metadata": {
      "needs_background": "light"
     },
     "output_type": "display_data"
    }
   ],
   "source": [
    "sns.countplot(df.Status)\n"
   ]
  },
  {
   "cell_type": "code",
   "execution_count": 36,
   "metadata": {
    "colab": {
     "base_uri": "https://localhost:8080/",
     "height": 0
    },
    "id": "S6mYb7HIV39b",
    "outputId": "d6efd5da-6f75-4cb7-a7af-9c817b5662ff"
   },
   "outputs": [
    {
     "name": "stderr",
     "output_type": "stream",
     "text": [
      "C:\\Users\\sony\\anaconda3\\lib\\site-packages\\seaborn\\_decorators.py:36: FutureWarning: Pass the following variable as a keyword arg: x. From version 0.12, the only valid positional argument will be `data`, and passing other arguments without an explicit keyword will result in an error or misinterpretation.\n",
      "  warnings.warn(\n"
     ]
    },
    {
     "data": {
      "text/plain": [
       "<AxesSubplot:xlabel='Type', ylabel='count'>"
      ]
     },
     "execution_count": 36,
     "metadata": {},
     "output_type": "execute_result"
    },
    {
     "data": {
      "image/png": "[encoded data removed]",
      "text/plain": [
       "<Figure size 432x288 with 1 Axes>"
      ]
     },
     "metadata": {
      "needs_background": "light"
     },
     "output_type": "display_data"
    }
   ],
   "source": [
    "sns.countplot(df.Type)"
   ]
  },
  {
   "cell_type": "code",
   "execution_count": 37,
   "metadata": {
    "colab": {
     "base_uri": "https://localhost:8080/",
     "height": 0
    },
    "id": "BYMBjRalUe2x",
    "outputId": "f3f97338-73ee-4141-aa9d-99cdc4e9d4fd"
   },
   "outputs": [
    {
     "data": {
      "text/plain": [
       "<AxesSubplot:xlabel='Area', ylabel='Price'>"
      ]
     },
     "execution_count": 37,
     "metadata": {},
     "output_type": "execute_result"
    },
    {
     "data": {
      "image/png": "[encoded data removed]",
      "text/plain": [
       "<Figure size 1008x504 with 1 Axes>"
      ]
     },
     "metadata": {
      "needs_background": "light"
     },
     "output_type": "display_data"
    }
   ],
   "source": [
    "plt.figure(figsize=(14,7))\n",
    "sns.scatterplot(x=df.Area,y=df.Price)"
   ]
  },
  {
   "cell_type": "markdown",
   "metadata": {
    "id": "oJpC08mSVR42"
   },
   "source": [
    "**Observations**\n",
    "\n",
    "1.There are outliers in many columns\n",
    "\n",
    "2.There are linear relationship between Price and Area.\n",
    "\n",
    "3.There is some error in Parking as it is not possible to have 39 parkings, So we will work on it.\n"
   ]
  },
  {
   "cell_type": "markdown",
   "metadata": {
    "id": "dXUo_HC-WKIQ"
   },
   "source": [
    "#Outliers"
   ]
  },
  {
   "cell_type": "code",
   "execution_count": 38,
   "metadata": {
    "colab": {
     "base_uri": "https://localhost:8080/"
    },
    "id": "VhtsRIwGtFo_",
    "outputId": "e1ad6728-5d5f-4200-d568-c759b302bee0"
   },
   "outputs": [
    {
     "data": {
      "text/plain": [
       "Area           0\n",
       "BHK            0\n",
       "Bathroom       0\n",
       "Furnishing     0\n",
       "Locality       0\n",
       "Parking        0\n",
       "Price          0\n",
       "Status         0\n",
       "Transaction    0\n",
       "Type           0\n",
       "Per_Sqft       0\n",
       "dtype: int64"
      ]
     },
     "execution_count": 38,
     "metadata": {},
     "output_type": "execute_result"
    }
   ],
   "source": [
    "df.isnull().sum()"
   ]
  },
  {
   "cell_type": "code",
   "execution_count": 39,
   "metadata": {
    "colab": {
     "base_uri": "https://localhost:8080/",
     "height": 0
    },
    "id": "-B9ZPTZMA_Xb",
    "outputId": "51030cba-2476-4d4f-f247-5f1a52ff9611"
   },
   "outputs": [
    {
     "data": {
      "text/plain": [
       "<AxesSubplot:>"
      ]
     },
     "execution_count": 39,
     "metadata": {},
     "output_type": "execute_result"
    },
    {
     "data": {
      "image/png": "[encoded data removed]",
      "text/plain": [
       "<Figure size 432x288 with 1 Axes>"
      ]
     },
     "metadata": {
      "needs_background": "light"
     },
     "output_type": "display_data"
    }
   ],
   "source": [
    "df.boxplot(\"BHK\")"
   ]
  },
  {
   "cell_type": "code",
   "execution_count": 40,
   "metadata": {
    "id": "fFqkgsoXvnO0"
   },
   "outputs": [],
   "source": [
    "Q1 = df[\"BHK\"].quantile(0.25)\n",
    "Q3 = df[\"BHK\"].quantile(0.75)\n",
    "IQR = Q3 - Q1\n",
    "df = df[~((df[\"BHK\"] < (Q1 - 1.5 * IQR)) |(df[\"BHK\"] > (Q3 + 1.5 * IQR)))]"
   ]
  },
  {
   "cell_type": "code",
   "execution_count": 41,
   "metadata": {
    "colab": {
     "base_uri": "https://localhost:8080/",
     "height": 0
    },
    "id": "zpeO7-nov7lD",
    "outputId": "58d49a13-bd62-43ab-d127-9ffa3978b16a"
   },
   "outputs": [
    {
     "data": {
      "text/plain": [
       "<AxesSubplot:>"
      ]
     },
     "execution_count": 41,
     "metadata": {},
     "output_type": "execute_result"
    },
    {
     "data": {
      "image/png": "[encoded data removed]",
      "text/plain": [
       "<Figure size 432x288 with 1 Axes>"
      ]
     },
     "metadata": {
      "needs_background": "light"
     },
     "output_type": "display_data"
    }
   ],
   "source": [
    "df.boxplot(\"BHK\")"
   ]
  },
  {
   "cell_type": "code",
   "execution_count": 42,
   "metadata": {
    "colab": {
     "base_uri": "https://localhost:8080/"
    },
    "id": "YEUCY-GvtImk",
    "outputId": "fb60979d-d023-43ed-9a47-a9625afad5b7"
   },
   "outputs": [
    {
     "data": {
      "text/plain": [
       "Area           0\n",
       "BHK            0\n",
       "Bathroom       0\n",
       "Furnishing     0\n",
       "Locality       0\n",
       "Parking        0\n",
       "Price          0\n",
       "Status         0\n",
       "Transaction    0\n",
       "Type           0\n",
       "Per_Sqft       0\n",
       "dtype: int64"
      ]
     },
     "execution_count": 42,
     "metadata": {},
     "output_type": "execute_result"
    }
   ],
   "source": [
    "df.isnull().sum()"
   ]
  },
  {
   "cell_type": "code",
   "execution_count": 43,
   "metadata": {
    "colab": {
     "base_uri": "https://localhost:8080/"
    },
    "id": "s-FgM9lXA_P1",
    "outputId": "62abd324-991b-4b92-9e59-9a7e566a8d4d"
   },
   "outputs": [
    {
     "data": {
      "text/plain": [
       "3    416\n",
       "2    300\n",
       "4    183\n",
       "1     82\n",
       "Name: BHK, dtype: int64"
      ]
     },
     "execution_count": 43,
     "metadata": {},
     "output_type": "execute_result"
    }
   ],
   "source": [
    "df['BHK'].value_counts()"
   ]
  },
  {
   "cell_type": "code",
   "execution_count": 44,
   "metadata": {
    "id": "cJ15WfgBaNtV"
   },
   "outputs": [],
   "source": [
    "df['Parking'] = pd.to_numeric(df['Parking'], downcast='unsigned', errors='coerce')"
   ]
  },
  {
   "cell_type": "code",
   "execution_count": 45,
   "metadata": {
    "colab": {
     "base_uri": "https://localhost:8080/",
     "height": 0
    },
    "id": "Nb_qN4DzZnwv",
    "outputId": "c8f0375d-dd5a-4fb0-a170-7f379ee43155"
   },
   "outputs": [
    {
     "data": {
      "text/plain": [
       "<AxesSubplot:>"
      ]
     },
     "execution_count": 45,
     "metadata": {},
     "output_type": "execute_result"
    },
    {
     "data": {
      "image/png": "[encoded data removed]",
      "text/plain": [
       "<Figure size 432x288 with 1 Axes>"
      ]
     },
     "metadata": {
      "needs_background": "light"
     },
     "output_type": "display_data"
    }
   ],
   "source": [
    "df.boxplot(\"Parking\")"
   ]
  },
  {
   "cell_type": "code",
   "execution_count": 46,
   "metadata": {
    "colab": {
     "base_uri": "https://localhost:8080/"
    },
    "id": "Os8Ws2p1ZnuU",
    "outputId": "605acc5a-2201-4188-f334-21276641c2ab"
   },
   "outputs": [
    {
     "data": {
      "text/plain": [
       "1     662\n",
       "2     253\n",
       "3      43\n",
       "4       8\n",
       "5       7\n",
       "39      7\n",
       "10      1\n",
       "Name: Parking, dtype: int64"
      ]
     },
     "execution_count": 46,
     "metadata": {},
     "output_type": "execute_result"
    }
   ],
   "source": [
    "df.Parking.value_counts()"
   ]
  },
  {
   "cell_type": "markdown",
   "metadata": {
    "id": "uBUZ7sLoadrq"
   },
   "source": [
    "39 Parking is outlier, We will have to remove it."
   ]
  },
  {
   "cell_type": "code",
   "execution_count": 47,
   "metadata": {
    "id": "vnLPnqToZnrW"
   },
   "outputs": [],
   "source": [
    "Q1 = df[\"Parking\"].quantile(0.25)\n",
    "Q3 = df[\"Parking\"].quantile(0.75)\n",
    "IQR = Q3 - Q1\n",
    "df = df[~((df[\"Parking\"] < (Q1 - 9 * IQR)) |(df[\"Parking\"] > (Q3 + 9 * IQR)))]"
   ]
  },
  {
   "cell_type": "code",
   "execution_count": 48,
   "metadata": {
    "colab": {
     "base_uri": "https://localhost:8080/",
     "height": 0
    },
    "id": "wzjqh4kFwfTi",
    "outputId": "1d6a8ba2-90de-47e8-b383-b4bcd358434a"
   },
   "outputs": [
    {
     "data": {
      "text/plain": [
       "<AxesSubplot:>"
      ]
     },
     "execution_count": 48,
     "metadata": {},
     "output_type": "execute_result"
    },
    {
     "data": {
      "image/png": "[encoded data removed]",
      "text/plain": [
       "<Figure size 432x288 with 1 Axes>"
      ]
     },
     "metadata": {
      "needs_background": "light"
     },
     "output_type": "display_data"
    }
   ],
   "source": [
    "df.boxplot(\"Parking\")"
   ]
  },
  {
   "cell_type": "markdown",
   "metadata": {
    "id": "jG70yI4amnXi"
   },
   "source": [
    "#Feature Engineering"
   ]
  },
  {
   "cell_type": "code",
   "execution_count": 49,
   "metadata": {
    "colab": {
     "base_uri": "https://localhost:8080/",
     "height": 206
    },
    "id": "UbwLs7dYmqaQ",
    "outputId": "2c8ec2fa-0591-4524-e3df-11f4f8e42f98"
   },
   "outputs": [
    {
     "data": {
      "text/html": [
       "<div>\n",
       "<style scoped>\n",
       "    .dataframe tbody tr th:only-of-type {\n",
       "        vertical-align: middle;\n",
       "    }\n",
       "\n",
       "    .dataframe tbody tr th {\n",
       "        vertical-align: top;\n",
       "    }\n",
       "\n",
       "    .dataframe thead th {\n",
       "        text-align: right;\n",
       "    }\n",
       "</style>\n",
       "<table border=\"1\" class=\"dataframe\">\n",
       "  <thead>\n",
       "    <tr style=\"text-align: right;\">\n",
       "      <th></th>\n",
       "      <th>Area</th>\n",
       "      <th>BHK</th>\n",
       "      <th>Bathroom</th>\n",
       "      <th>Furnishing</th>\n",
       "      <th>Locality</th>\n",
       "      <th>Parking</th>\n",
       "      <th>Price</th>\n",
       "      <th>Status</th>\n",
       "      <th>Transaction</th>\n",
       "      <th>Type</th>\n",
       "      <th>Per_Sqft</th>\n",
       "    </tr>\n",
       "  </thead>\n",
       "  <tbody>\n",
       "    <tr>\n",
       "      <th>1</th>\n",
       "      <td>750.0</td>\n",
       "      <td>2</td>\n",
       "      <td>2.0</td>\n",
       "      <td>Semi-Furnished</td>\n",
       "      <td>J R Designers Floors, Rohini Sector 24</td>\n",
       "      <td>1</td>\n",
       "      <td>5000000</td>\n",
       "      <td>Ready_to_move</td>\n",
       "      <td>New_Property</td>\n",
       "      <td>Apartment</td>\n",
       "      <td>6667.0</td>\n",
       "    </tr>\n",
       "    <tr>\n",
       "      <th>2</th>\n",
       "      <td>950.0</td>\n",
       "      <td>2</td>\n",
       "      <td>2.0</td>\n",
       "      <td>Furnished</td>\n",
       "      <td>Citizen Apartment, Rohini Sector 13</td>\n",
       "      <td>1</td>\n",
       "      <td>15500000</td>\n",
       "      <td>Ready_to_move</td>\n",
       "      <td>Resale</td>\n",
       "      <td>Apartment</td>\n",
       "      <td>6667.0</td>\n",
       "    </tr>\n",
       "    <tr>\n",
       "      <th>3</th>\n",
       "      <td>600.0</td>\n",
       "      <td>2</td>\n",
       "      <td>2.0</td>\n",
       "      <td>Semi-Furnished</td>\n",
       "      <td>Rohini Sector 24</td>\n",
       "      <td>1</td>\n",
       "      <td>4200000</td>\n",
       "      <td>Ready_to_move</td>\n",
       "      <td>Resale</td>\n",
       "      <td>Builder_Floor</td>\n",
       "      <td>6667.0</td>\n",
       "    </tr>\n",
       "    <tr>\n",
       "      <th>4</th>\n",
       "      <td>650.0</td>\n",
       "      <td>2</td>\n",
       "      <td>2.0</td>\n",
       "      <td>Semi-Furnished</td>\n",
       "      <td>Rohini Sector 24 carpet area 650 sqft status R...</td>\n",
       "      <td>1</td>\n",
       "      <td>6200000</td>\n",
       "      <td>Ready_to_move</td>\n",
       "      <td>New_Property</td>\n",
       "      <td>Builder_Floor</td>\n",
       "      <td>6667.0</td>\n",
       "    </tr>\n",
       "    <tr>\n",
       "      <th>5</th>\n",
       "      <td>1300.0</td>\n",
       "      <td>4</td>\n",
       "      <td>3.0</td>\n",
       "      <td>Semi-Furnished</td>\n",
       "      <td>Rohini Sector 24</td>\n",
       "      <td>1</td>\n",
       "      <td>15500000</td>\n",
       "      <td>Ready_to_move</td>\n",
       "      <td>New_Property</td>\n",
       "      <td>Builder_Floor</td>\n",
       "      <td>6667.0</td>\n",
       "    </tr>\n",
       "  </tbody>\n",
       "</table>\n",
       "</div>"
      ],
      "text/plain": [
       "     Area  BHK  Bathroom      Furnishing  \\\n",
       "1   750.0    2       2.0  Semi-Furnished   \n",
       "2   950.0    2       2.0       Furnished   \n",
       "3   600.0    2       2.0  Semi-Furnished   \n",
       "4   650.0    2       2.0  Semi-Furnished   \n",
       "5  1300.0    4       3.0  Semi-Furnished   \n",
       "\n",
       "                                            Locality  Parking     Price  \\\n",
       "1             J R Designers Floors, Rohini Sector 24        1   5000000   \n",
       "2                Citizen Apartment, Rohini Sector 13        1  15500000   \n",
       "3                                   Rohini Sector 24        1   4200000   \n",
       "4  Rohini Sector 24 carpet area 650 sqft status R...        1   6200000   \n",
       "5                                   Rohini Sector 24        1  15500000   \n",
       "\n",
       "          Status   Transaction           Type  Per_Sqft  \n",
       "1  Ready_to_move  New_Property      Apartment    6667.0  \n",
       "2  Ready_to_move        Resale      Apartment    6667.0  \n",
       "3  Ready_to_move        Resale  Builder_Floor    6667.0  \n",
       "4  Ready_to_move  New_Property  Builder_Floor    6667.0  \n",
       "5  Ready_to_move  New_Property  Builder_Floor    6667.0  "
      ]
     },
     "execution_count": 49,
     "metadata": {},
     "output_type": "execute_result"
    }
   ],
   "source": [
    "df.head()"
   ]
  },
  {
   "cell_type": "code",
   "execution_count": 50,
   "metadata": {
    "id": "38csPVsVn58z"
   },
   "outputs": [],
   "source": [
    "df['Locality_1'] =df[\"Locality\"].str.split(',')"
   ]
  },
  {
   "cell_type": "code",
   "execution_count": 51,
   "metadata": {
    "colab": {
     "base_uri": "https://localhost:8080/"
    },
    "id": "qt_LlMf1YTTa",
    "outputId": "5b4112a6-4b1d-4152-b0de-085da651e626"
   },
   "outputs": [
    {
     "data": {
      "text/plain": [
       "(974, 12)"
      ]
     },
     "execution_count": 51,
     "metadata": {},
     "output_type": "execute_result"
    }
   ],
   "source": [
    "df.shape"
   ]
  },
  {
   "cell_type": "code",
   "execution_count": 52,
   "metadata": {
    "id": "-Eif-hIMQEd2"
   },
   "outputs": [],
   "source": [
    "location=[]\n",
    "for i in df[\"Locality_1\"]:\n",
    "  last=i[-1]\n",
    "  len_after=len(i[-1])\n",
    "  if len_after < 50:\n",
    "    last=i[-1]\n",
    "    location.append(last)\n",
    "  else:\n",
    "    location.append(i[0])"
   ]
  },
  {
   "cell_type": "code",
   "execution_count": 53,
   "metadata": {
    "colab": {
     "base_uri": "https://localhost:8080/"
    },
    "id": "gBZ3BC9rpJNU",
    "outputId": "2d242d39-2eb7-44cd-feb5-f03d607f9cb8"
   },
   "outputs": [
    {
     "name": "stdout",
     "output_type": "stream",
     "text": [
      "172\n",
      "974\n"
     ]
    }
   ],
   "source": [
    "from collections import Counter\n",
    "ab=Counter(location)\n",
    "print(len(ab))\n",
    "print(len(location))"
   ]
  },
  {
   "cell_type": "code",
   "execution_count": 54,
   "metadata": {
    "id": "5meG7CGyZBV1"
   },
   "outputs": [],
   "source": [
    "result = ''.join([i for i in location if not i.isdigit()])"
   ]
  },
  {
   "cell_type": "code",
   "execution_count": 55,
   "metadata": {
    "id": "5_p0vNTSX4jn"
   },
   "outputs": [],
   "source": [
    "import re\n",
    "location_1=[]\n",
    "for i in  location:\n",
    "  i = re.sub(r'[0-9]+', '', i)\n",
    "  location_1.append(i)"
   ]
  },
  {
   "cell_type": "code",
   "execution_count": 56,
   "metadata": {
    "colab": {
     "base_uri": "https://localhost:8080/"
    },
    "id": "eM_E99qEaeuw",
    "outputId": "ecb5fa2b-31fb-4046-c26c-bc24e03fb1ee"
   },
   "outputs": [
    {
     "name": "stdout",
     "output_type": "stream",
     "text": [
      "974\n"
     ]
    }
   ],
   "source": [
    "print(len(location_1))"
   ]
  },
  {
   "cell_type": "code",
   "execution_count": 57,
   "metadata": {
    "id": "sjsH0cgwX1y6"
   },
   "outputs": [],
   "source": [
    "unwanted_characters = ['Sector', 'Phase',\"Part\",\"East\",\"West\",\" A \",\" B \",\" C \",\"Block\",\"  \"]\n",
    "for i in range(len(location_1)):\n",
    "    for word in unwanted_characters: \n",
    "        location_1[i] = location_1[i].replace(word,'')"
   ]
  },
  {
   "cell_type": "code",
   "execution_count": 58,
   "metadata": {
    "id": "imHzR7NMcKjq"
   },
   "outputs": [],
   "source": [
    "df['Locality_1'] = location_1\n"
   ]
  },
  {
   "cell_type": "code",
   "execution_count": 59,
   "metadata": {
    "id": "YeB7iYk9aw7_"
   },
   "outputs": [],
   "source": [
    "mask = (df['Locality_1'].str.len() < 20) \n",
    "df = df.loc[mask]"
   ]
  },
  {
   "cell_type": "code",
   "execution_count": 60,
   "metadata": {
    "colab": {
     "base_uri": "https://localhost:8080/"
    },
    "id": "m3nehfi2cgbX",
    "outputId": "7a37a611-6f1b-4c38-9837-8de953c83f94"
   },
   "outputs": [
    {
     "data": {
      "text/plain": [
       "(912, 12)"
      ]
     },
     "execution_count": 60,
     "metadata": {},
     "output_type": "execute_result"
    }
   ],
   "source": [
    "df.shape"
   ]
  },
  {
   "cell_type": "code",
   "execution_count": 61,
   "metadata": {
    "colab": {
     "base_uri": "https://localhost:8080/"
    },
    "id": "DBDdqVlvdqlX",
    "outputId": "34ac7331-0c9f-46c5-ba70-ecba0d80c8fc"
   },
   "outputs": [],
   "source": [
    "df[\"Locality_1\"] = df[\"Locality_1\"].str.strip()"
   ]
  },
  {
   "cell_type": "code",
   "execution_count": 62,
   "metadata": {
    "colab": {
     "base_uri": "https://localhost:8080/"
    },
    "id": "P4E1-07oeaD-",
    "outputId": "83d21e2f-c5bc-44ff-d077-de22b272d3da"
   },
   "outputs": [
    {
     "data": {
      "text/plain": [
       "Rohini           68\n",
       "Lajpat Nagar     58\n",
       "Shahdara         57\n",
       "Dwarka           46\n",
       "Okhla            34\n",
       "                 ..\n",
       "Chandni Chowk     1\n",
       "DDA Flats         1\n",
       "Kirti Nagar)      1\n",
       "Vasant KunjA      1\n",
       "Khairatabad       1\n",
       "Name: Locality_1, Length: 61, dtype: int64"
      ]
     },
     "execution_count": 62,
     "metadata": {},
     "output_type": "execute_result"
    }
   ],
   "source": [
    "df.Locality_1.value_counts()"
   ]
  },
  {
   "cell_type": "markdown",
   "metadata": {
    "id": "RJFfGUYmbtVY"
   },
   "source": [
    "#Feature Selection"
   ]
  },
  {
   "cell_type": "code",
   "execution_count": 63,
   "metadata": {
    "colab": {
     "base_uri": "https://localhost:8080/"
    },
    "id": "FXt48OVkbqth",
    "outputId": "02f13d83-89ab-4876-a347-609070ba160c"
   },
   "outputs": [
    {
     "name": "stdout",
     "output_type": "stream",
     "text": [
      "<class 'pandas.core.frame.DataFrame'>\n",
      "Int64Index: 912 entries, 1 to 1258\n",
      "Data columns (total 12 columns):\n",
      " #   Column       Non-Null Count  Dtype  \n",
      "---  ------       --------------  -----  \n",
      " 0   Area         912 non-null    float64\n",
      " 1   BHK          912 non-null    int64  \n",
      " 2   Bathroom     912 non-null    float64\n",
      " 3   Furnishing   912 non-null    object \n",
      " 4   Locality     912 non-null    object \n",
      " 5   Parking      912 non-null    uint8  \n",
      " 6   Price        912 non-null    int64  \n",
      " 7   Status       912 non-null    object \n",
      " 8   Transaction  912 non-null    object \n",
      " 9   Type         912 non-null    object \n",
      " 10  Per_Sqft     912 non-null    float64\n",
      " 11  Locality_1   912 non-null    object \n",
      "dtypes: float64(3), int64(2), object(6), uint8(1)\n",
      "memory usage: 86.4+ KB\n"
     ]
    }
   ],
   "source": [
    "df.info()"
   ]
  },
  {
   "cell_type": "code",
   "execution_count": 64,
   "metadata": {
    "id": "qThit0cDbqoe"
   },
   "outputs": [],
   "source": [
    "objList = df.select_dtypes(include = \"object\").columns"
   ]
  },
  {
   "cell_type": "code",
   "execution_count": 65,
   "metadata": {
    "colab": {
     "base_uri": "https://localhost:8080/"
    },
    "id": "W-mLkMS_lztd",
    "outputId": "a0412c17-5a1c-49bc-fb4d-2eaffbed16be"
   },
   "outputs": [
    {
     "name": "stdout",
     "output_type": "stream",
     "text": [
      "<class 'pandas.core.frame.DataFrame'>\n",
      "Int64Index: 912 entries, 1 to 1258\n",
      "Data columns (total 12 columns):\n",
      " #   Column       Non-Null Count  Dtype  \n",
      "---  ------       --------------  -----  \n",
      " 0   Area         912 non-null    float64\n",
      " 1   BHK          912 non-null    int64  \n",
      " 2   Bathroom     912 non-null    float64\n",
      " 3   Furnishing   912 non-null    int32  \n",
      " 4   Locality     912 non-null    int32  \n",
      " 5   Parking      912 non-null    uint8  \n",
      " 6   Price        912 non-null    int64  \n",
      " 7   Status       912 non-null    int32  \n",
      " 8   Transaction  912 non-null    int32  \n",
      " 9   Type         912 non-null    int32  \n",
      " 10  Per_Sqft     912 non-null    float64\n",
      " 11  Locality_1   912 non-null    int32  \n",
      "dtypes: float64(3), int32(6), int64(2), uint8(1)\n",
      "memory usage: 65.0 KB\n",
      "None\n"
     ]
    }
   ],
   "source": [
    "from sklearn.preprocessing import LabelEncoder\n",
    "le = LabelEncoder()\n",
    "for feat in objList:\n",
    "    df[feat] = le.fit_transform(df[feat].astype(str))\n",
    "print (df.info())"
   ]
  },
  {
   "cell_type": "code",
   "execution_count": 66,
   "metadata": {
    "colab": {
     "base_uri": "https://localhost:8080/",
     "height": 575
    },
    "id": "zChPx-Sgl56x",
    "outputId": "e96243f6-872a-4dda-caca-5710492c2c43"
   },
   "outputs": [
    {
     "data": {
      "text/plain": [
       "<AxesSubplot:>"
      ]
     },
     "execution_count": 66,
     "metadata": {},
     "output_type": "execute_result"
    },
    {
     "data": {
      "image/png": "[encoded data removed]",
      "text/plain": [
       "<Figure size 842.4x595.44 with 2 Axes>"
      ]
     },
     "metadata": {},
     "output_type": "display_data"
    }
   ],
   "source": [
    "corr = df.corr()\n",
    "sns.set(rc={'figure.figsize':(11.7,8.27)})\n",
    "\n",
    "sns.heatmap(corr, cmap=\"Blues\", annot=True)"
   ]
  },
  {
   "cell_type": "markdown",
   "metadata": {
    "id": "BRzDzk8omYWo"
   },
   "source": [
    "1.We Have to remove Locality becuase it is very messy and have only 4% of correlation with Price.\n",
    "\n",
    "2.Furnishing also have only 0.7% of correlation. We wil have to remove it."
   ]
  },
  {
   "cell_type": "code",
   "execution_count": 67,
   "metadata": {
    "colab": {
     "base_uri": "https://localhost:8080/",
     "height": 424
    },
    "id": "G4HDX0yql54W",
    "outputId": "55525366-aa3e-4991-f81a-440fb8244af7"
   },
   "outputs": [],
   "source": [
    "df=df.drop(columns=['Locality', 'Furnishing',\"Status\",\"Transaction\",\"Type\",\"Per_Sqft\"])"
   ]
  },
  {
   "cell_type": "code",
   "execution_count": 68,
   "metadata": {},
   "outputs": [
    {
     "data": {
      "text/plain": [
       "Index(['Area', 'BHK', 'Bathroom', 'Parking', 'Price', 'Locality_1'], dtype='object')"
      ]
     },
     "execution_count": 68,
     "metadata": {},
     "output_type": "execute_result"
    }
   ],
   "source": [
    "df.columns"
   ]
  },
  {
   "cell_type": "code",
   "execution_count": 69,
   "metadata": {
    "id": "-ZMd-qDLo30M"
   },
   "outputs": [],
   "source": [
    "df.dropna(inplace=True)"
   ]
  },
  {
   "cell_type": "code",
   "execution_count": 70,
   "metadata": {
    "colab": {
     "base_uri": "https://localhost:8080/"
    },
    "id": "IszXRmZ8p4V4",
    "outputId": "a14cf958-e4b9-4cc6-dda4-318511a1a7cf"
   },
   "outputs": [
    {
     "data": {
      "text/plain": [
       "Area          0\n",
       "BHK           0\n",
       "Bathroom      0\n",
       "Parking       0\n",
       "Price         0\n",
       "Locality_1    0\n",
       "dtype: int64"
      ]
     },
     "execution_count": 70,
     "metadata": {},
     "output_type": "execute_result"
    }
   ],
   "source": [
    "df.isnull().sum()"
   ]
  },
  {
   "cell_type": "markdown",
   "metadata": {
    "id": "UB0-M_oEsNvG"
   },
   "source": [
    "# Apply Models"
   ]
  },
  {
   "cell_type": "code",
   "execution_count": 71,
   "metadata": {
    "id": "ymVd14sZl51i"
   },
   "outputs": [],
   "source": [
    "from sklearn.model_selection import train_test_split\n",
    "Y = df.Price\n",
    "X = df.drop('Price',axis=1)"
   ]
  },
  {
   "cell_type": "code",
   "execution_count": 72,
   "metadata": {},
   "outputs": [],
   "source": [
    "X[\"Bathroom\"]=X.Bathroom.astype(int)"
   ]
  },
  {
   "cell_type": "code",
   "execution_count": 73,
   "metadata": {
    "id": "QrPf_wWwl5zI"
   },
   "outputs": [],
   "source": [
    "x_train,x_test,y_train,y_test = train_test_split(X,Y,test_size = 0.25,random_state = 42)"
   ]
  },
  {
   "cell_type": "code",
   "execution_count": 74,
   "metadata": {
    "id": "WwsPUW83jkVm"
   },
   "outputs": [],
   "source": [
    "from sklearn.linear_model import LinearRegression\n",
    "lr=LinearRegression()"
   ]
  },
  {
   "cell_type": "code",
   "execution_count": 75,
   "metadata": {
    "colab": {
     "base_uri": "https://localhost:8080/"
    },
    "id": "wEnVX-GsoiqT",
    "outputId": "e5a251fc-4cde-4bc2-dffc-92b641c855e3"
   },
   "outputs": [
    {
     "data": {
      "text/plain": [
       "LinearRegression()"
      ]
     },
     "execution_count": 75,
     "metadata": {},
     "output_type": "execute_result"
    }
   ],
   "source": [
    "lr.fit(x_train,y_train)"
   ]
  },
  {
   "cell_type": "code",
   "execution_count": 76,
   "metadata": {
    "id": "lr62bIYpoikp"
   },
   "outputs": [],
   "source": [
    "y_pred=lr.predict(x_test)"
   ]
  },
  {
   "cell_type": "code",
   "execution_count": 77,
   "metadata": {
    "colab": {
     "base_uri": "https://localhost:8080/"
    },
    "id": "Nrj30lGroigr",
    "outputId": "d7001699-fee9-418a-dddf-a65bb79e059d"
   },
   "outputs": [
    {
     "data": {
      "text/plain": [
       "array([ 1.25849704e+07,  1.15669904e+07,  1.13645967e+07, -5.97758160e+06,\n",
       "        8.28774179e+06,  2.77202055e+07,  1.11329598e+07,  2.69980119e+07,\n",
       "        2.64931747e+07,  3.05326202e+07,  4.37678868e+07,  1.42995421e+07,\n",
       "        1.38062805e+07,  1.33494157e+07,  3.19701020e+07,  1.21119761e+07,\n",
       "        1.20387012e+07,  1.24511811e+07,  2.77202055e+07,  1.12452673e+07,\n",
       "        7.06974577e+07, -5.97995797e+06,  1.01271570e+07, -4.74698300e+06,\n",
       "        2.84391977e+07,  6.17081946e+07,  9.62373953e+06,  2.65126910e+07,\n",
       "        1.35136567e+07,  4.59702299e+07,  8.62495414e+06,  2.93367487e+07,\n",
       "        9.97310054e+06,  6.22547839e+07,  3.05110695e+07,  1.01287577e+07,\n",
       "        4.73256465e+07,  3.08010186e+07, -5.42401509e+06,  8.22457005e+06,\n",
       "        1.43088050e+07,  2.55899526e+07,  1.08901393e+07,  3.09135743e+07,\n",
       "        1.36206983e+07,  1.08579732e+07, -5.46711656e+06,  4.52968763e+07,\n",
       "        3.03338615e+07,  1.02530027e+07,  1.03776398e+07,  2.69698730e+07,\n",
       "        2.72017581e+07,  1.19281800e+07,  1.12870163e+07,  6.89554418e+07,\n",
       "        3.03907797e+07,  1.06426513e+07,  1.07676758e+07,  3.10092930e+07,\n",
       "       -5.88401100e+06,  2.72303308e+07,  2.72729985e+07, -5.25570817e+06,\n",
       "        9.42017429e+06, -4.66947455e+06, -6.13235355e+06,  1.45661543e+07,\n",
       "        3.13248873e+07,  3.01682293e+07,  3.28851063e+07,  1.30744291e+07,\n",
       "       -5.58882610e+06,  6.65231614e+07,  3.69334976e+07,  1.06426513e+07,\n",
       "       -5.48432005e+06,  1.00820211e+07,  1.08387353e+07,  1.00459416e+07,\n",
       "        6.25675035e+07,  3.04729555e+07,  1.04438927e+07,  5.33025102e+07,\n",
       "        3.05230789e+07,  1.32011964e+07,  2.76142380e+07,  2.90402547e+07,\n",
       "        1.09702807e+07,  1.04449923e+07,  1.07549588e+07,  1.03871811e+07,\n",
       "        2.76460839e+07,  2.84922742e+07,  9.72407926e+06,  1.09739158e+07,\n",
       "        1.03163744e+07,  1.02099732e+07,  2.85551403e+07,  3.05326202e+07,\n",
       "        1.01274772e+07,  1.29783933e+07, -5.89158973e+06,  2.73789660e+07,\n",
       "       -5.98901811e+06,  1.02285708e+07,  3.01185397e+07, -5.72229227e+06,\n",
       "        1.13943363e+07,  1.08725020e+07,  1.36141101e+07,  2.97838884e+07,\n",
       "        1.03895356e+07, -5.66868912e+06,  3.06088481e+07,  1.14338444e+07,\n",
       "       -5.55434723e+06,  1.04834624e+07,  1.10199703e+07,  2.66054821e+07,\n",
       "        1.20125967e+07,  1.06952941e+07, -5.48432005e+06,  4.11470231e+07,\n",
       "        1.11357097e+07,  1.01602835e+07, -5.36057609e+06,  2.60434995e+07,\n",
       "        3.00585548e+07,  2.81642111e+07,  1.09560862e+07,  3.01155866e+07,\n",
       "       -5.11308817e+06, -1.14305514e+06,  2.94707878e+07,  3.00886146e+07,\n",
       "        3.04266527e+07,  2.78983065e+07,  2.37275251e+07, -5.35106039e+06,\n",
       "        4.65603515e+07,  1.04538677e+07,  4.52322240e+07,  3.17650723e+07,\n",
       "        4.63831436e+07,  2.93334052e+07,  2.97789009e+07,  1.20990509e+07,\n",
       "       -4.88024267e+06,  1.12543459e+07,  2.70874162e+07, -5.45133281e+06,\n",
       "       -1.87202240e+06,  2.76142380e+07,  2.92759315e+07, -5.30429824e+06,\n",
       "        1.35344953e+07,  1.24151016e+07,  1.48385079e+07,  2.84391977e+07,\n",
       "        2.72017581e+07,  1.09176379e+07,  6.39328423e+07,  2.81642111e+07,\n",
       "        1.03163744e+07,  1.10479939e+07,  1.30210354e+07,  4.71881532e+07,\n",
       "        1.02398264e+07,  1.08206354e+07,  9.93498658e+06,  2.83434535e+07,\n",
       "        2.65673682e+07,  1.21401150e+07,  9.49999557e+06,  1.36073442e+07,\n",
       "        2.68253578e+07,  5.33025102e+07,  1.03776398e+07, -5.48432005e+06,\n",
       "        1.19277462e+07,  6.69440156e+07,  4.27802480e+07,  1.36136763e+07,\n",
       "        2.01379072e+07,  9.87998926e+06,  2.37114212e+07,  2.70409998e+07,\n",
       "       -4.25699468e+06,  2.88299988e+07,  1.09471293e+07,  1.00641695e+07,\n",
       "        1.26346601e+07,  2.80382936e+07,  1.36136763e+07,  2.79395545e+07,\n",
       "       -5.69319294e+06,  1.24974980e+07,  1.05631085e+07,  1.06741771e+07,\n",
       "        1.17947933e+08,  1.07483706e+07,  2.72017581e+07,  1.19111830e+07,\n",
       "        4.50969795e+07,  1.07864846e+07,  3.08307582e+07,  1.04187068e+07,\n",
       "        6.58577483e+07,  1.02646503e+07,  1.51922865e+07,  2.80961751e+07,\n",
       "        4.81705563e+07,  9.58295087e+06,  1.20387012e+07,  1.35564292e+07,\n",
       "       -5.58882610e+06,  3.20218950e+07,  3.07520798e+07,  1.53328435e+07,\n",
       "       -6.05259630e+06,  2.89660195e+07,  1.77831083e+07,  1.36073442e+07,\n",
       "        4.93102173e+07, -2.94543046e+06,  4.17104750e+07,  9.88529691e+06])"
      ]
     },
     "execution_count": 77,
     "metadata": {},
     "output_type": "execute_result"
    }
   ],
   "source": [
    "y_pred"
   ]
  },
  {
   "cell_type": "code",
   "execution_count": 78,
   "metadata": {
    "colab": {
     "base_uri": "https://localhost:8080/"
    },
    "id": "iABZuAKJoibB",
    "outputId": "bf9059e5-0341-4340-9fbe-9803bb18de27"
   },
   "outputs": [
    {
     "data": {
      "text/plain": [
       "0.7032140656122706"
      ]
     },
     "execution_count": 78,
     "metadata": {},
     "output_type": "execute_result"
    }
   ],
   "source": [
    "from sklearn.metrics import r2_score\n",
    "r2_score(y_test,y_pred)"
   ]
  },
  {
   "cell_type": "code",
   "execution_count": 79,
   "metadata": {
    "id": "EVP5rPEZoiVC"
   },
   "outputs": [],
   "source": [
    "from sklearn.ensemble import RandomForestRegressor\n",
    "rf= RandomForestRegressor(n_estimators=100,random_state=25)"
   ]
  },
  {
   "cell_type": "code",
   "execution_count": 80,
   "metadata": {
    "colab": {
     "base_uri": "https://localhost:8080/"
    },
    "id": "RdOyfhENqV-H",
    "outputId": "a47e45cb-3c50-4967-f7a9-4c32c145aeac"
   },
   "outputs": [
    {
     "data": {
      "text/plain": [
       "RandomForestRegressor(random_state=25)"
      ]
     },
     "execution_count": 80,
     "metadata": {},
     "output_type": "execute_result"
    }
   ],
   "source": [
    "rf.fit(x_train, y_train)"
   ]
  },
  {
   "cell_type": "code",
   "execution_count": 81,
   "metadata": {
    "id": "MASMXAyvqV6_"
   },
   "outputs": [],
   "source": [
    "y_pred1=rf.predict(x_test)"
   ]
  },
  {
   "cell_type": "code",
   "execution_count": 82,
   "metadata": {
    "colab": {
     "base_uri": "https://localhost:8080/"
    },
    "id": "KDgFu744qVpT",
    "outputId": "edd8c418-3e78-420b-f2a1-211030aef369"
   },
   "outputs": [
    {
     "data": {
      "text/plain": [
       "array([3.03300000e+06, 1.48230000e+07, 1.43146667e+07, 2.66750000e+06,\n",
       "       1.08055000e+07, 1.95975833e+07, 4.86910000e+06, 1.02970000e+07,\n",
       "       1.12749000e+07, 2.83200000e+07, 4.44910000e+07, 1.65280000e+07,\n",
       "       1.79940000e+07, 1.85591667e+07, 1.95670000e+07, 5.58480000e+06,\n",
       "       1.31680000e+07, 1.53848000e+07, 1.95975833e+07, 1.64402917e+07,\n",
       "       7.74737500e+07, 1.80600000e+06, 4.61300000e+06, 7.32300000e+06,\n",
       "       2.85290000e+07, 5.16630000e+07, 3.39925000e+06, 1.60140000e+07,\n",
       "       9.72500000e+06, 4.38925000e+07, 9.85700000e+06, 2.46300000e+07,\n",
       "       4.14500000e+06, 5.38290000e+07, 3.45900000e+07, 4.67500000e+06,\n",
       "       4.70525833e+07, 2.95464786e+07, 2.37021667e+06, 8.00550000e+06,\n",
       "       1.54443000e+07, 6.09321667e+06, 4.80720000e+06, 2.17100000e+07,\n",
       "       1.30942500e+07, 5.38960000e+06, 2.53090000e+06, 5.28960000e+07,\n",
       "       4.45210000e+07, 6.61730000e+06, 8.79250000e+06, 1.94900000e+07,\n",
       "       2.33139000e+07, 2.65750000e+07, 4.37820000e+06, 7.33937500e+07,\n",
       "       2.40278333e+07, 6.30200000e+06, 7.50355000e+06, 3.71940000e+07,\n",
       "       2.30870000e+06, 1.32934762e+07, 1.43203333e+07, 3.57800000e+06,\n",
       "       1.72972500e+07, 4.41230000e+06, 1.37080000e+07, 1.39381000e+07,\n",
       "       4.21190000e+07, 3.34270000e+07, 3.04120000e+07, 1.69120722e+07,\n",
       "       3.05500000e+06, 5.32090000e+07, 1.54132857e+07, 6.30200000e+06,\n",
       "       1.75075833e+06, 3.00543333e+06, 9.32345000e+06, 4.09400000e+06,\n",
       "       4.90984167e+07, 2.70860000e+07, 1.20047500e+07, 6.82150000e+07,\n",
       "       3.05202500e+07, 1.32640000e+07, 2.55090000e+07, 4.08750000e+07,\n",
       "       1.30895585e+07, 6.12350000e+06, 1.69210000e+07, 3.84900000e+06,\n",
       "       1.95975000e+07, 4.28680000e+07, 2.92550000e+06, 4.84940000e+06,\n",
       "       4.78520000e+06, 5.00200000e+06, 3.12565000e+07, 2.83200000e+07,\n",
       "       5.36891667e+06, 9.78500000e+06, 8.43100000e+06, 1.89429167e+07,\n",
       "       1.95520000e+06, 8.19740000e+06, 2.35350000e+07, 3.25450000e+06,\n",
       "       1.07272000e+07, 4.51835000e+06, 1.74496667e+07, 2.96100000e+07,\n",
       "       4.54800000e+06, 1.76590000e+06, 4.23110000e+07, 1.64460000e+07,\n",
       "       2.38919167e+06, 8.61150000e+06, 1.25283049e+07, 1.18110000e+07,\n",
       "       1.37711000e+07, 1.43100000e+07, 1.75075833e+06, 2.03794000e+07,\n",
       "       4.86910000e+06, 5.27000000e+06, 1.76351667e+06, 1.19646000e+07,\n",
       "       2.44740000e+07, 2.20720000e+07, 5.99605238e+06, 1.86545833e+07,\n",
       "       2.47589167e+06, 1.38480000e+07, 1.44020000e+07, 1.93842500e+07,\n",
       "       3.03590000e+07, 1.55746000e+07, 9.85216667e+06, 4.58200000e+06,\n",
       "       5.70545000e+07, 5.58030000e+06, 6.29550000e+07, 4.94830000e+07,\n",
       "       4.79890000e+07, 3.42890000e+07, 1.31050000e+07, 1.45775000e+07,\n",
       "       2.65100000e+06, 1.57755952e+07, 2.15863333e+07, 3.59500000e+06,\n",
       "       6.23755000e+06, 2.55090000e+07, 2.40710000e+07, 2.90590000e+06,\n",
       "       1.04357000e+07, 1.80423000e+07, 1.57500000e+07, 2.85290000e+07,\n",
       "       2.33139000e+07, 5.27479405e+06, 5.53280000e+07, 2.20720000e+07,\n",
       "       4.78520000e+06, 1.20042065e+07, 9.32400000e+06, 4.60665833e+07,\n",
       "       1.16940000e+07, 1.34110000e+07, 5.60100000e+06, 2.12981429e+07,\n",
       "       1.45800000e+07, 1.70449000e+07, 3.10247222e+06, 1.97070000e+07,\n",
       "       2.00620000e+07, 6.82150000e+07, 8.79250000e+06, 1.75075833e+06,\n",
       "       1.60790000e+07, 7.00120000e+07, 2.82590000e+07, 1.11400405e+07,\n",
       "       1.52903000e+07, 5.90600000e+06, 5.95150000e+06, 1.30230000e+07,\n",
       "       3.95850000e+06, 4.13860000e+07, 8.62033333e+06, 3.10400000e+06,\n",
       "       3.35800000e+06, 2.64935000e+07, 1.11400405e+07, 1.55806000e+07,\n",
       "       2.71550000e+06, 3.34950000e+06, 6.59693333e+06, 6.76430000e+06,\n",
       "       1.38955000e+08, 7.52073333e+06, 2.33139000e+07, 1.65490000e+07,\n",
       "       6.25390000e+07, 8.25663333e+06, 2.85610000e+07, 4.92520000e+06,\n",
       "       7.60220000e+07, 4.68400000e+06, 1.28885000e+07, 1.20785000e+07,\n",
       "       5.61940000e+07, 2.73635833e+06, 1.31680000e+07, 1.33083333e+07,\n",
       "       3.05500000e+06, 3.99363333e+07, 5.40150000e+07, 1.81100333e+07,\n",
       "       3.67521667e+06, 3.81720000e+07, 1.92750000e+07, 1.97070000e+07,\n",
       "       5.75880000e+07, 2.84050000e+06, 1.48889000e+07, 4.66200000e+06])"
      ]
     },
     "execution_count": 82,
     "metadata": {},
     "output_type": "execute_result"
    }
   ],
   "source": [
    "y_pred1"
   ]
  },
  {
   "cell_type": "code",
   "execution_count": 83,
   "metadata": {
    "colab": {
     "base_uri": "https://localhost:8080/"
    },
    "id": "HyPBMGUuqVmh",
    "outputId": "2cff2b26-9bb3-46b9-bc87-444292ac4217"
   },
   "outputs": [
    {
     "data": {
      "text/plain": [
       "0.8677109743815057"
      ]
     },
     "execution_count": 83,
     "metadata": {},
     "output_type": "execute_result"
    }
   ],
   "source": [
    "r2_score(y_test,y_pred1) "
   ]
  },
  {
   "cell_type": "markdown",
   "metadata": {
    "id": "zxDpwP5UwXYl"
   },
   "source": [
    "### **Random Forest is giving best result.**"
   ]
  },
  {
   "cell_type": "code",
   "execution_count": 84,
   "metadata": {
    "id": "HmGiOtVlf9Vx"
   },
   "outputs": [
    {
     "data": {
      "text/plain": [
       "array([3.03300000e+06, 1.48230000e+07, 1.43146667e+07, 2.66750000e+06,\n",
       "       1.08055000e+07, 1.95975833e+07, 4.86910000e+06, 1.02970000e+07,\n",
       "       1.12749000e+07, 2.83200000e+07, 4.44910000e+07, 1.65280000e+07,\n",
       "       1.79940000e+07, 1.85591667e+07, 1.95670000e+07, 5.58480000e+06,\n",
       "       1.31680000e+07, 1.53848000e+07, 1.95975833e+07, 1.64402917e+07,\n",
       "       7.74737500e+07, 1.80600000e+06, 4.61300000e+06, 7.32300000e+06,\n",
       "       2.85290000e+07, 5.16630000e+07, 3.39925000e+06, 1.60140000e+07,\n",
       "       9.72500000e+06, 4.38925000e+07, 9.85700000e+06, 2.46300000e+07,\n",
       "       4.14500000e+06, 5.38290000e+07, 3.45900000e+07, 4.67500000e+06,\n",
       "       4.70525833e+07, 2.95464786e+07, 2.37021667e+06, 8.00550000e+06,\n",
       "       1.54443000e+07, 6.09321667e+06, 4.80720000e+06, 2.17100000e+07,\n",
       "       1.30942500e+07, 5.38960000e+06, 2.53090000e+06, 5.28960000e+07,\n",
       "       4.45210000e+07, 6.61730000e+06, 8.79250000e+06, 1.94900000e+07,\n",
       "       2.33139000e+07, 2.65750000e+07, 4.37820000e+06, 7.33937500e+07,\n",
       "       2.40278333e+07, 6.30200000e+06, 7.50355000e+06, 3.71940000e+07,\n",
       "       2.30870000e+06, 1.32934762e+07, 1.43203333e+07, 3.57800000e+06,\n",
       "       1.72972500e+07, 4.41230000e+06, 1.37080000e+07, 1.39381000e+07,\n",
       "       4.21190000e+07, 3.34270000e+07, 3.04120000e+07, 1.69120722e+07,\n",
       "       3.05500000e+06, 5.32090000e+07, 1.54132857e+07, 6.30200000e+06,\n",
       "       1.75075833e+06, 3.00543333e+06, 9.32345000e+06, 4.09400000e+06,\n",
       "       4.90984167e+07, 2.70860000e+07, 1.20047500e+07, 6.82150000e+07,\n",
       "       3.05202500e+07, 1.32640000e+07, 2.55090000e+07, 4.08750000e+07,\n",
       "       1.30895585e+07, 6.12350000e+06, 1.69210000e+07, 3.84900000e+06,\n",
       "       1.95975000e+07, 4.28680000e+07, 2.92550000e+06, 4.84940000e+06,\n",
       "       4.78520000e+06, 5.00200000e+06, 3.12565000e+07, 2.83200000e+07,\n",
       "       5.36891667e+06, 9.78500000e+06, 8.43100000e+06, 1.89429167e+07,\n",
       "       1.95520000e+06, 8.19740000e+06, 2.35350000e+07, 3.25450000e+06,\n",
       "       1.07272000e+07, 4.51835000e+06, 1.74496667e+07, 2.96100000e+07,\n",
       "       4.54800000e+06, 1.76590000e+06, 4.23110000e+07, 1.64460000e+07,\n",
       "       2.38919167e+06, 8.61150000e+06, 1.25283049e+07, 1.18110000e+07,\n",
       "       1.37711000e+07, 1.43100000e+07, 1.75075833e+06, 2.03794000e+07,\n",
       "       4.86910000e+06, 5.27000000e+06, 1.76351667e+06, 1.19646000e+07,\n",
       "       2.44740000e+07, 2.20720000e+07, 5.99605238e+06, 1.86545833e+07,\n",
       "       2.47589167e+06, 1.38480000e+07, 1.44020000e+07, 1.93842500e+07,\n",
       "       3.03590000e+07, 1.55746000e+07, 9.85216667e+06, 4.58200000e+06,\n",
       "       5.70545000e+07, 5.58030000e+06, 6.29550000e+07, 4.94830000e+07,\n",
       "       4.79890000e+07, 3.42890000e+07, 1.31050000e+07, 1.45775000e+07,\n",
       "       2.65100000e+06, 1.57755952e+07, 2.15863333e+07, 3.59500000e+06,\n",
       "       6.23755000e+06, 2.55090000e+07, 2.40710000e+07, 2.90590000e+06,\n",
       "       1.04357000e+07, 1.80423000e+07, 1.57500000e+07, 2.85290000e+07,\n",
       "       2.33139000e+07, 5.27479405e+06, 5.53280000e+07, 2.20720000e+07,\n",
       "       4.78520000e+06, 1.20042065e+07, 9.32400000e+06, 4.60665833e+07,\n",
       "       1.16940000e+07, 1.34110000e+07, 5.60100000e+06, 2.12981429e+07,\n",
       "       1.45800000e+07, 1.70449000e+07, 3.10247222e+06, 1.97070000e+07,\n",
       "       2.00620000e+07, 6.82150000e+07, 8.79250000e+06, 1.75075833e+06,\n",
       "       1.60790000e+07, 7.00120000e+07, 2.82590000e+07, 1.11400405e+07,\n",
       "       1.52903000e+07, 5.90600000e+06, 5.95150000e+06, 1.30230000e+07,\n",
       "       3.95850000e+06, 4.13860000e+07, 8.62033333e+06, 3.10400000e+06,\n",
       "       3.35800000e+06, 2.64935000e+07, 1.11400405e+07, 1.55806000e+07,\n",
       "       2.71550000e+06, 3.34950000e+06, 6.59693333e+06, 6.76430000e+06,\n",
       "       1.38955000e+08, 7.52073333e+06, 2.33139000e+07, 1.65490000e+07,\n",
       "       6.25390000e+07, 8.25663333e+06, 2.85610000e+07, 4.92520000e+06,\n",
       "       7.60220000e+07, 4.68400000e+06, 1.28885000e+07, 1.20785000e+07,\n",
       "       5.61940000e+07, 2.73635833e+06, 1.31680000e+07, 1.33083333e+07,\n",
       "       3.05500000e+06, 3.99363333e+07, 5.40150000e+07, 1.81100333e+07,\n",
       "       3.67521667e+06, 3.81720000e+07, 1.92750000e+07, 1.97070000e+07,\n",
       "       5.75880000e+07, 2.84050000e+06, 1.48889000e+07, 4.66200000e+06])"
      ]
     },
     "execution_count": 84,
     "metadata": {},
     "output_type": "execute_result"
    }
   ],
   "source": [
    "import pickle\n",
    "pickle.dump(rf, open('model.pkl', 'wb'))\n",
    "pickled_model = pickle.load(open('model.pkl', 'rb'))\n",
    "pickled_model.predict(x_test)"
   ]
  },
  {
   "cell_type": "code",
   "execution_count": 85,
   "metadata": {},
   "outputs": [
    {
     "data": {
      "text/plain": [
       "array([5002000.])"
      ]
     },
     "execution_count": 85,
     "metadata": {},
     "output_type": "execute_result"
    }
   ],
   "source": [
    "pickled_model.predict([[750,2,2,1,45]])"
   ]
  },
  {
   "cell_type": "code",
   "execution_count": 86,
   "metadata": {},
   "outputs": [
    {
     "data": {
      "text/html": [
       "<div>\n",
       "<style scoped>\n",
       "    .dataframe tbody tr th:only-of-type {\n",
       "        vertical-align: middle;\n",
       "    }\n",
       "\n",
       "    .dataframe tbody tr th {\n",
       "        vertical-align: top;\n",
       "    }\n",
       "\n",
       "    .dataframe thead th {\n",
       "        text-align: right;\n",
       "    }\n",
       "</style>\n",
       "<table border=\"1\" class=\"dataframe\">\n",
       "  <thead>\n",
       "    <tr style=\"text-align: right;\">\n",
       "      <th></th>\n",
       "      <th>Area</th>\n",
       "      <th>BHK</th>\n",
       "      <th>Bathroom</th>\n",
       "      <th>Parking</th>\n",
       "      <th>Locality_1</th>\n",
       "    </tr>\n",
       "  </thead>\n",
       "  <tbody>\n",
       "    <tr>\n",
       "      <th>1</th>\n",
       "      <td>750.0</td>\n",
       "      <td>2</td>\n",
       "      <td>2</td>\n",
       "      <td>1</td>\n",
       "      <td>45</td>\n",
       "    </tr>\n",
       "    <tr>\n",
       "      <th>2</th>\n",
       "      <td>950.0</td>\n",
       "      <td>2</td>\n",
       "      <td>2</td>\n",
       "      <td>1</td>\n",
       "      <td>45</td>\n",
       "    </tr>\n",
       "    <tr>\n",
       "      <th>3</th>\n",
       "      <td>600.0</td>\n",
       "      <td>2</td>\n",
       "      <td>2</td>\n",
       "      <td>1</td>\n",
       "      <td>45</td>\n",
       "    </tr>\n",
       "    <tr>\n",
       "      <th>5</th>\n",
       "      <td>1300.0</td>\n",
       "      <td>4</td>\n",
       "      <td>3</td>\n",
       "      <td>1</td>\n",
       "      <td>45</td>\n",
       "    </tr>\n",
       "    <tr>\n",
       "      <th>6</th>\n",
       "      <td>1350.0</td>\n",
       "      <td>4</td>\n",
       "      <td>3</td>\n",
       "      <td>1</td>\n",
       "      <td>45</td>\n",
       "    </tr>\n",
       "    <tr>\n",
       "      <th>...</th>\n",
       "      <td>...</td>\n",
       "      <td>...</td>\n",
       "      <td>...</td>\n",
       "      <td>...</td>\n",
       "      <td>...</td>\n",
       "    </tr>\n",
       "    <tr>\n",
       "      <th>1254</th>\n",
       "      <td>4118.0</td>\n",
       "      <td>4</td>\n",
       "      <td>5</td>\n",
       "      <td>3</td>\n",
       "      <td>6</td>\n",
       "    </tr>\n",
       "    <tr>\n",
       "      <th>1255</th>\n",
       "      <td>1050.0</td>\n",
       "      <td>3</td>\n",
       "      <td>2</td>\n",
       "      <td>3</td>\n",
       "      <td>6</td>\n",
       "    </tr>\n",
       "    <tr>\n",
       "      <th>1256</th>\n",
       "      <td>875.0</td>\n",
       "      <td>3</td>\n",
       "      <td>3</td>\n",
       "      <td>3</td>\n",
       "      <td>6</td>\n",
       "    </tr>\n",
       "    <tr>\n",
       "      <th>1257</th>\n",
       "      <td>990.0</td>\n",
       "      <td>2</td>\n",
       "      <td>2</td>\n",
       "      <td>1</td>\n",
       "      <td>7</td>\n",
       "    </tr>\n",
       "    <tr>\n",
       "      <th>1258</th>\n",
       "      <td>11050.0</td>\n",
       "      <td>3</td>\n",
       "      <td>3</td>\n",
       "      <td>1</td>\n",
       "      <td>6</td>\n",
       "    </tr>\n",
       "  </tbody>\n",
       "</table>\n",
       "<p>912 rows × 5 columns</p>\n",
       "</div>"
      ],
      "text/plain": [
       "         Area  BHK  Bathroom  Parking  Locality_1\n",
       "1       750.0    2         2        1          45\n",
       "2       950.0    2         2        1          45\n",
       "3       600.0    2         2        1          45\n",
       "5      1300.0    4         3        1          45\n",
       "6      1350.0    4         3        1          45\n",
       "...       ...  ...       ...      ...         ...\n",
       "1254   4118.0    4         5        3           6\n",
       "1255   1050.0    3         2        3           6\n",
       "1256    875.0    3         3        3           6\n",
       "1257    990.0    2         2        1           7\n",
       "1258  11050.0    3         3        1           6\n",
       "\n",
       "[912 rows x 5 columns]"
      ]
     },
     "execution_count": 86,
     "metadata": {},
     "output_type": "execute_result"
    }
   ],
   "source": [
    "X"
   ]
  },
  {
   "cell_type": "code",
   "execution_count": 87,
   "metadata": {},
   "outputs": [
    {
     "data": {
      "text/plain": [
       "45    68\n",
       "24    58\n",
       "48    57\n",
       "11    46\n",
       "15    34\n",
       "      ..\n",
       "55     1\n",
       "56     1\n",
       "22     1\n",
       "23     1\n",
       "43     1\n",
       "Name: Locality_1, Length: 61, dtype: int64"
      ]
     },
     "execution_count": 87,
     "metadata": {},
     "output_type": "execute_result"
    }
   ],
   "source": [
    "X.Locality_1.value_counts()"
   ]
  },
  {
   "cell_type": "code",
   "execution_count": 88,
   "metadata": {},
   "outputs": [
    {
     "data": {
      "text/plain": [
       "['Alaknanda', 'Beadon Pura', 'Budh Vihar']"
      ]
     },
     "execution_count": 88,
     "metadata": {},
     "output_type": "execute_result"
    }
   ],
   "source": [
    "list(le.inverse_transform([1, 2, 3]))"
   ]
  },
  {
   "cell_type": "code",
   "execution_count": 91,
   "metadata": {},
   "outputs": [
    {
     "name": "stdout",
     "output_type": "stream",
     "text": [
      "<option value=\"1\">['Alaknanda']</option>\n",
      "<option value=\"2\">['Beadon Pura']</option>\n",
      "<option value=\"3\">['Budh Vihar']</option>\n",
      "<option value=\"4\">['Chandni Chowk']</option>\n",
      "<option value=\"5\">['Chhattarpur']</option>\n",
      "<option value=\"6\">['Chittaranjan Park']</option>\n",
      "<option value=\"7\">['Chittaranjan ParkA']</option>\n",
      "<option value=\"8\">['DDA Flats']</option>\n",
      "<option value=\"9\">['DDA Lig Flats']</option>\n",
      "<option value=\"10\">['Dilshad Garden']</option>\n",
      "<option value=\"11\">['Dwarka']</option>\n",
      "<option value=\"12\">['Dwarka Mor']</option>\n",
      "<option value=\"13\">['DwarkaB']</option>\n",
      "<option value=\"14\">['Geeta Colony']</option>\n",
      "<option value=\"15\">['Greater Kailash']</option>\n",
      "<option value=\"16\">['Hauz Khas']</option>\n",
      "<option value=\"17\">['Kalkaji']</option>\n",
      "<option value=\"18\">['Kalkaji Extention']</option>\n",
      "<option value=\"19\">['Karol Bagh']</option>\n",
      "<option value=\"20\">['Khairatabad']</option>\n",
      "<option value=\"21\">['Kirti Nagar']</option>\n",
      "<option value=\"22\">['Kirti Nagar)']</option>\n",
      "<option value=\"23\">['Krishna NagarA']</option>\n",
      "<option value=\"24\">['Lajpat Nagar']</option>\n",
      "<option value=\"25\">['Laxmi Nagar']</option>\n",
      "<option value=\"26\">['Madangir']</option>\n",
      "<option value=\"27\">['Mahavir Enclave']</option>\n",
      "<option value=\"28\">['Malviya Nagar']</option>\n",
      "<option value=\"29\">['Manglapuri']</option>\n",
      "<option value=\"30\">['Mehrauli']</option>\n",
      "<option value=\"31\">['Najafgarh']</option>\n",
      "<option value=\"32\">['Narela']</option>\n",
      "<option value=\"33\">['Narela Mandi']</option>\n",
      "<option value=\"34\">['NarelaA']</option>\n",
      "<option value=\"35\">['Narmada Apartment']</option>\n",
      "<option value=\"36\">['New Friends Colony']</option>\n",
      "<option value=\"37\">['Okhla']</option>\n",
      "<option value=\"38\">['Paschim Vihar']</option>\n",
      "<option value=\"39\">['Paschim ViharA']</option>\n",
      "<option value=\"40\">['Paschim ViharB']</option>\n",
      "<option value=\"41\">['Patel Nagar']</option>\n",
      "<option value=\"42\">['Punjabi Bagh']</option>\n",
      "<option value=\"43\">['Razapur Khurd']</option>\n",
      "<option value=\"44\">['Ring Road']</option>\n",
      "<option value=\"45\">['Rohini']</option>\n",
      "<option value=\"46\">['Safdarjung Enclave']</option>\n",
      "<option value=\"47\">['Saket']</option>\n",
      "<option value=\"48\">['Shahdara']</option>\n",
      "<option value=\"49\">['Sheikh Sarai']</option>\n",
      "<option value=\"50\">['Sultanpur']</option>\n",
      "<option value=\"51\">['Sultanpur Extension']</option>\n",
      "<option value=\"52\">['Tara Apartment']</option>\n",
      "<option value=\"53\">['Uttam Nagar']</option>\n",
      "<option value=\"54\">['Vasant Kunj']</option>\n",
      "<option value=\"55\">['Vasant KunjA']</option>\n",
      "<option value=\"56\">['Vasant KunjB']</option>\n",
      "<option value=\"57\">['Vasant KunjC']</option>\n",
      "<option value=\"58\">['Vasant KunjD']</option>\n",
      "<option value=\"59\">['Vasant Vihar']</option>\n"
     ]
    }
   ],
   "source": [
    "for i in range(1,60):\n",
    "    ab=le.inverse_transform([i])\n",
    "#     <li><button class=\"dropdown-item\" value=\"1\" type=\"button\">1</button></li>\n",
    "#     yo=f'<li><button class=\"dropdown-item\" value=\"{i}\" type=\"button\">{ab}</button></li>'\n",
    "    yo=f'<option value=\"{i}\">{ab}</option>'\n",
    "    print(yo)\n",
    "    "
   ]
  },
  {
   "cell_type": "code",
   "execution_count": 90,
   "metadata": {},
   "outputs": [
    {
     "ename": "TypeError",
     "evalue": "inverse_transform() missing 1 required positional argument: 'y'",
     "output_type": "error",
     "traceback": [
      "\u001b[1;31m---------------------------------------------------------------------------\u001b[0m",
      "\u001b[1;31mTypeError\u001b[0m                                 Traceback (most recent call last)",
      "\u001b[1;32m<ipython-input-90-24185977266e>\u001b[0m in \u001b[0;36m<module>\u001b[1;34m\u001b[0m\n\u001b[1;32m----> 1\u001b[1;33m \u001b[0mle\u001b[0m\u001b[1;33m.\u001b[0m\u001b[0minverse_transform\u001b[0m\u001b[1;33m(\u001b[0m\u001b[1;33m)\u001b[0m\u001b[1;33m\u001b[0m\u001b[1;33m\u001b[0m\u001b[0m\n\u001b[0m",
      "\u001b[1;31mTypeError\u001b[0m: inverse_transform() missing 1 required positional argument: 'y'"
     ]
    }
   ],
   "source": [
    "le.inverse_transform()"
   ]
  },
  {
   "cell_type": "code",
   "execution_count": null,
   "metadata": {},
   "outputs": [],
   "source": [
    "X"
   ]
  },
  {
   "cell_type": "code",
   "execution_count": null,
   "metadata": {},
   "outputs": [],
   "source": []
  }
 ],
 "metadata": {
  "colab": {
   "collapsed_sections": [
    "VpLe7YQJgwLB",
    "NYqUzDktj7cx",
    "GHHMkeR57S8L",
    "dXUo_HC-WKIQ"
   ],
   "name": "Copy of Delhi's House Prediction.ipynb",
   "provenance": []
  },
  "kernelspec": {
   "display_name": "Python 3",
   "language": "python",
   "name": "python3"
  },
  "language_info": {
   "codemirror_mode": {
    "name": "ipython",
    "version": 3
   },
   "file_extension": ".py",
   "mimetype": "text/x-python",
   "name": "python",
   "nbconvert_exporter": "python",
   "pygments_lexer": "ipython3",
   "version": "3.8.8"
  }
 },
 "nbformat": 4,
 "nbformat_minor": 1
}
